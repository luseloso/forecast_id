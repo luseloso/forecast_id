{
 "cells": [
  {
   "cell_type": "markdown",
   "metadata": {},
   "source": [
    "# Cleanup\n",
    "\n",
    "After building completing the notebooks you may want to delete the following to prevent any unwanted charges:\n",
    "\n",
    "* Forecasts\n",
    "* Predictors\n",
    "* Datasets\n",
    "* Dataset Groups\n",
    "\n",
    "The code snippets below will cover the base use case of creating items in notebooks 1 - 3. You can expand upon this to delete content created in other notebooks.\n",
    "\n",
    "## Imports and Connecting to AWS\n",
    "\n",
    "The following lines import all the necessary libraries and then connect you to Amazon Forecast.\n"
   ]
  },
  {
   "cell_type": "code",
   "execution_count": 1,
   "metadata": {},
   "outputs": [],
   "source": [
    "import sys\n",
    "import os\n",
    "import json\n",
    "import time\n",
    "import boto3\n",
    "import pandas as pd\n",
    "import botocore.exceptions"
   ]
  },
  {
   "cell_type": "markdown",
   "metadata": {},
   "source": [
    "The line below will retrieve your shared variables from the earlier notebooks."
   ]
  },
  {
   "cell_type": "code",
   "execution_count": 2,
   "metadata": {},
   "outputs": [],
   "source": [
    "%store -r"
   ]
  },
  {
   "cell_type": "markdown",
   "metadata": {},
   "source": [
    "Once again connect to the Forecast APIs via the SDK."
   ]
  },
  {
   "cell_type": "code",
   "execution_count": 3,
   "metadata": {},
   "outputs": [],
   "source": [
    "session = boto3.Session(region_name=region) \n",
    "forecast = session.client(service_name='forecast') \n",
    "forecastquery = session.client(service_name='forecastquery')"
   ]
  },
  {
   "cell_type": "code",
   "execution_count": 13,
   "metadata": {},
   "outputs": [
    {
     "name": "stdout",
     "output_type": "stream",
     "text": [
      "arn:aws:forecast:us-east-1:059124553121:forecast-export-job/forecast_immersion_day_deeparp_algo_forecast/mlimday_deep_ar_algo_forecast3\n",
      "arn:aws:forecast:us-east-1:059124553121:forecast-export-job/forecast_immersion_day_prophet_algo_forecast/mlimday_prophet_algo_forecast3\n",
      "arn:aws:forecast:us-east-1:059124553121:forecast-export-job/forecast_immersion_day_arima_algo_forecast/mlimday_arima_algo_forecast3\n",
      "arn:aws:forecast:us-east-1:059124553121:forecast-export-job/forecast_immersion_day_deeparp_algo_forecast/mlimday_deep_ar_algo_forecast2\n",
      "arn:aws:forecast:us-east-1:059124553121:forecast-export-job/forecast_immersion_day_prophet_algo_forecast/mlimday_prophet_algo_forecast2\n",
      "arn:aws:forecast:us-east-1:059124553121:forecast-export-job/forecast_immersion_day_arima_algo_forecast/mlimday_arima_algo_forecast2\n",
      "arn:aws:forecast:us-east-1:059124553121:forecast-export-job/forecast_immersion_day_prophet_algo_forecast/mlimday_prophet_algo_forecast\n",
      "arn:aws:forecast:us-east-1:059124553121:forecast-export-job/forecast_immersion_day_arima_algo_forecast/mlimday_arima_algo_forecast\n",
      "arn:aws:forecast:us-east-1:059124553121:forecast-export-job/forecast_immersion_day_deeparp_algo_forecast/mlimday_deep_ar_algo_forecast\n",
      "arn:aws:forecast:us-east-1:059124553121:forecast-export-job/spymagic_deeparp_algo_forecast/spymagic_deeparp_algo_forecast\n",
      "arn:aws:forecast:us-east-1:059124553121:forecast-export-job/deeparp60/DeepARPExport1\n",
      "arn:aws:forecast:us-east-1:059124553121:forecast-export-job/fin_poc_deeparp_algo_forecast/DeepARPExport1\n",
      "arn:aws:forecast:us-east-1:059124553121:forecast-export-job/forecast_poc_plain_deeparp_algonegbi_hr_var/DeepARPExporthours\n",
      "arn:aws:forecast:us-east-1:059124553121:forecast-export-job/forecast_poc_plain_deeparp_algonegbi_hr1/DeepARPExport4\n",
      "arn:aws:forecast:us-east-1:059124553121:forecast-export-job/forecast_poc_plain_deeparp_algonegbi_2/DeepARPExport3\n",
      "arn:aws:forecast:us-east-1:059124553121:forecast-export-job/forecast_poc_plain_deeparp_algonegbi_2/DeepARPExport1\n",
      "arn:aws:forecast:us-east-1:059124553121:forecast-export-job/forecast_poc_deeparp_algo_forecast/DeepARPExport1\n",
      "arn:aws:forecast:us-east-1:059124553121:forecast-export-job/forecast_poc_prophet_algo_forecast/ProphetExport1\n",
      "arn:aws:forecast:us-east-1:059124553121:forecast-export-job/forecast_poc_arima_algo_forecast/ArimaExport1\n",
      "arn:aws:forecast:us-east-1:059124553121:forecast-export-job/forecast_hwy_poc_deeparp_rel_algo_forecast/deeparp_rel_export1\n",
      "arn:aws:forecast:us-east-1:059124553121:forecast-export-job/forecast_hwy_poc_prophet_rel_algo_forecast/prophet_rel_1\n",
      "arn:aws:forecast:us-east-1:059124553121:forecast-export-job/forecast_hwy_poc_deeparp_algo_forecast/deeparp_export_1\n",
      "arn:aws:forecast:us-east-1:059124553121:forecast-export-job/forecast_hwy_poc_prophet_algo_forecast/prophet_export_1\n",
      "arn:aws:forecast:us-east-1:059124553121:forecast-export-job/forecast_hwy_poc_arima_algo_forecast/arima_export_1\n",
      "arn:aws:forecast:us-east-1:059124553121:forecast-export-job/Prophet2019_1Y/Prophet2019_1Y\n",
      "arn:aws:forecast:us-east-1:059124553121:forecast-export-job/prophet3/originalProphetExport\n",
      "arn:aws:forecast:us-east-1:059124553121:forecast-export-job/bike_rts_demo_prophet_4/bike_rts_demo_forecast_export_prophet_4\n",
      "arn:aws:forecast:us-east-1:059124553121:forecast-export-job/bike_rts_demo_deep_ar_plus_4/bike_rts_demo_forecast_export_deep_ar_plus_4\n"
     ]
    }
   ],
   "source": [
    "#Fixing the exports\n",
    "exports = forecast.list_forecast_export_jobs()\n",
    "exports = exports['ForecastExportJobs']\n",
    "for job in exports:\n",
    "    print(job['ForecastExportJobArn'])\n",
    "    forecast.delete_forecast_export_job(ForecastExportJobArn=job['ForecastExportJobArn'])"
   ]
  },
  {
   "cell_type": "markdown",
   "metadata": {},
   "source": [
    "## Defining the Things to Cleanup\n",
    "\n",
    "In the previous notebooks you stored several variables at the end of each, now that they have been retrieved above, the cells below will delete the items that were created one at a time until all items that were created have been removed."
   ]
  },
  {
   "cell_type": "code",
   "execution_count": 14,
   "metadata": {},
   "outputs": [],
   "source": [
    "def wait_till_delete(callback, check_time = 5, timeout = None):\n",
    "\n",
    "    elapsed_time = 0\n",
    "    while timeout is None or elapsed_time < timeout:\n",
    "        try:\n",
    "            out = callback()\n",
    "        except botocore.exceptions.ClientError as e:\n",
    "            # When given the resource not found exception, deletion has occured\n",
    "            if e.response['Error']['Code'] == 'ResourceNotFoundException':\n",
    "                print('Successful delete')\n",
    "                return\n",
    "            else:\n",
    "                raise\n",
    "        time.sleep(check_time)  # units of seconds\n",
    "        elapsed_time += check_time\n",
    "\n",
    "    raise TimeoutError( \"Forecast resource deletion timed-out.\" )"
   ]
  },
  {
   "cell_type": "code",
   "execution_count": 15,
   "metadata": {},
   "outputs": [
    {
     "name": "stdout",
     "output_type": "stream",
     "text": [
      "Successful delete\n",
      "Successful delete\n",
      "Successful delete\n"
     ]
    }
   ],
   "source": [
    "# Delete the Foreacst:\n",
    "wait_till_delete(lambda: forecast.delete_forecast(ForecastArn=prophet_forecast_arn))\n",
    "wait_till_delete(lambda: forecast.delete_forecast(ForecastArn=arima_forecast_arn))\n",
    "wait_till_delete(lambda: forecast.delete_forecast(ForecastArn=deeparp_forecast_arn))"
   ]
  },
  {
   "cell_type": "code",
   "execution_count": 16,
   "metadata": {},
   "outputs": [
    {
     "name": "stdout",
     "output_type": "stream",
     "text": [
      "Successful delete\n",
      "Successful delete\n",
      "Successful delete\n"
     ]
    }
   ],
   "source": [
    "# Delete the Predictor:\n",
    "wait_till_delete(lambda: forecast.delete_predictor(PredictorArn=arima_arn))\n",
    "wait_till_delete(lambda: forecast.delete_predictor(PredictorArn=prophet_arn))\n",
    "wait_till_delete(lambda: forecast.delete_predictor(PredictorArn=deeparp_arn))"
   ]
  },
  {
   "cell_type": "code",
   "execution_count": 17,
   "metadata": {},
   "outputs": [
    {
     "name": "stdout",
     "output_type": "stream",
     "text": [
      "Successful delete\n"
     ]
    }
   ],
   "source": [
    "# Delete Import\n",
    "wait_till_delete(lambda: forecast.delete_dataset_import_job(DatasetImportJobArn=ds_import_job_arn))"
   ]
  },
  {
   "cell_type": "code",
   "execution_count": 18,
   "metadata": {},
   "outputs": [
    {
     "name": "stdout",
     "output_type": "stream",
     "text": [
      "Successful delete\n"
     ]
    }
   ],
   "source": [
    "# Delete the Dataset:\n",
    "wait_till_delete(lambda: forecast.delete_dataset(DatasetArn=target_datasetArn))"
   ]
  },
  {
   "cell_type": "code",
   "execution_count": 19,
   "metadata": {},
   "outputs": [
    {
     "name": "stdout",
     "output_type": "stream",
     "text": [
      "Successful delete\n"
     ]
    }
   ],
   "source": [
    "# Delete the DatasetGroup:\n",
    "wait_till_delete(lambda: forecast.delete_dataset_group(DatasetGroupArn=datasetGroupArn))"
   ]
  },
  {
   "cell_type": "code",
   "execution_count": 21,
   "metadata": {},
   "outputs": [
    {
     "data": {
      "text/plain": [
       "{'ResponseMetadata': {'RequestId': '7615E9786514E404',\n",
       "  'HostId': '2lor2kQmQzppvchJpQ6YGtv8pUDnQ57qpgqSENNovTkumMpqeBVmTqbLWJuJyDWgejjgg1MQy6E=',\n",
       "  'HTTPStatusCode': 204,\n",
       "  'HTTPHeaders': {'x-amz-id-2': '2lor2kQmQzppvchJpQ6YGtv8pUDnQ57qpgqSENNovTkumMpqeBVmTqbLWJuJyDWgejjgg1MQy6E=',\n",
       "   'x-amz-request-id': '7615E9786514E404',\n",
       "   'date': 'Sat, 25 Apr 2020 20:28:06 GMT',\n",
       "   'server': 'AmazonS3'},\n",
       "  'RetryAttempts': 0}}"
      ]
     },
     "execution_count": 21,
     "metadata": {},
     "output_type": "execute_result"
    }
   ],
   "source": [
    "# Delete your file in S3\n",
    "s3 = boto3.resource('s3')\n",
    "bucket = s3.Bucket(bucket_name)\n",
    "bucket.objects.all().delete()\n",
    "# Delete the bucket\n",
    "bucket.delete()\n"
   ]
  },
  {
   "cell_type": "markdown",
   "metadata": {},
   "source": [
    "## IAM Policy Cleanup\n",
    "\n",
    "The very last step in the notebooks is to remove the policies that were attached to a role and then to delete it. No changes should need to be made here, just execute the cell."
   ]
  },
  {
   "cell_type": "code",
   "execution_count": 23,
   "metadata": {},
   "outputs": [
    {
     "data": {
      "text/plain": [
       "{'ResponseMetadata': {'RequestId': '09ef27f3-3028-4cf6-bd1c-9ff93e8c3cac',\n",
       "  'HTTPStatusCode': 200,\n",
       "  'HTTPHeaders': {'x-amzn-requestid': '09ef27f3-3028-4cf6-bd1c-9ff93e8c3cac',\n",
       "   'content-type': 'text/xml',\n",
       "   'content-length': '200',\n",
       "   'date': 'Sat, 25 Apr 2020 20:28:18 GMT'},\n",
       "  'RetryAttempts': 0}}"
      ]
     },
     "execution_count": 23,
     "metadata": {},
     "output_type": "execute_result"
    }
   ],
   "source": [
    "# IAM policies should also be removed\n",
    "iam = boto3.client(\"iam\")\n",
    "\n",
    "iam.delete_role(RoleName=role_name)"
   ]
  },
  {
   "cell_type": "markdown",
   "metadata": {},
   "source": [
    "All that remains to cleanup here is to now go back to the CloudFormation console and delete the stack. You have successfully removed all resources that were created."
   ]
  }
 ],
 "metadata": {
  "kernelspec": {
   "display_name": "conda_python3",
   "language": "python",
   "name": "conda_python3"
  },
  "language_info": {
   "codemirror_mode": {
    "name": "ipython",
    "version": 3
   },
   "file_extension": ".py",
   "mimetype": "text/x-python",
   "name": "python",
   "nbconvert_exporter": "python",
   "pygments_lexer": "ipython3",
   "version": "3.6.5"
  }
 },
 "nbformat": 4,
 "nbformat_minor": 4
}

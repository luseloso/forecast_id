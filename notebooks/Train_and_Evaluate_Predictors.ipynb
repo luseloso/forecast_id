{
 "cells": [
  {
   "cell_type": "markdown",
   "metadata": {},
   "source": [
    "# Data Engineering Immersion Day\n",
    "\n",
    "In this lab you will learn how to load you data from S3 into the notebook and create a forecast prediction on this data utilizing a target series data set as well as a related series data set. For more information and examples please visit the following [github repo](https://github.com/aws-samples/amazon-forecast-samples)\n",
    "\n",
    "**Outline**\n",
    "\n",
    "1. Get your data\n",
    "2. Clean your data\n",
    "3. Create a datasetgroup for Forecast\n",
    "4. Create a predictor based on the dataset group\n",
    "5. Create a forecast leveraging the predictor\n",
    "6. Validate your forecast\n",
    "\n"
   ]
  },
  {
   "cell_type": "code",
   "execution_count": 2,
   "metadata": {},
   "outputs": [],
   "source": [
    "# We are importing a couple dependencies \n",
    "\n",
    "import boto3\n",
    "from time import sleep\n",
    "import subprocess\n",
    "import pandas as pd\n",
    "import json\n",
    "import time\n",
    "import pprint\n",
    "import numpy as np\n",
    "import matplotlib.pyplot as plt\n",
    "from matplotlib.dates import DateFormatter\n",
    "import matplotlib.dates as mdates"
   ]
  },
  {
   "cell_type": "markdown",
   "metadata": {},
   "source": [
    "This configuration will make our graphs scale good"
   ]
  },
  {
   "cell_type": "code",
   "execution_count": 3,
   "metadata": {},
   "outputs": [],
   "source": [
    "import matplotlib.pyplot as plt\n",
    "\n",
    "plt.rcParams[\"figure.figsize\"] = (20,10)"
   ]
  },
  {
   "cell_type": "markdown",
   "metadata": {},
   "source": [
    "Defining a local directory"
   ]
  },
  {
   "cell_type": "code",
   "execution_count": 4,
   "metadata": {},
   "outputs": [
    {
     "name": "stdout",
     "output_type": "stream",
     "text": [
      "mkdir: cannot create directory ‘data’: File exists\n"
     ]
    }
   ],
   "source": [
    "data_dir = \"data\"\n",
    "!mkdir $data_dir"
   ]
  },
  {
   "cell_type": "markdown",
   "metadata": {},
   "source": [
    "## Obtaining Source Data:\n",
    "\n",
    "The goal here is to explore the data we got from DMS into S3"
   ]
  },
  {
   "cell_type": "code",
   "execution_count": 7,
   "metadata": {},
   "outputs": [
    {
     "name": "stdout",
     "output_type": "stream",
     "text": [
      "s3.ObjectSummary(bucket_name='dmslab-student-luseloso-dmslabs3bucket-h54huljrwheu', key='athenaquery/2020/02/19/a9098c00-499c-4509-961e-fd41e6fcea30.csv')\n",
      "s3.ObjectSummary(bucket_name='dmslab-student-luseloso-dmslabs3bucket-h54huljrwheu', key='athenaquery/2020/02/19/a9098c00-499c-4509-961e-fd41e6fcea30.csv.metadata')\n",
      "a9098c00-499c-4509-961e-fd41e6fcea30.csv\n"
     ]
    }
   ],
   "source": [
    "# Defining some variables\n",
    "\n",
    "datasource_s3bucket = \"dmslab-student-luseloso-dmslabs3bucket-h54huljrwheu\"\n",
    "# datasource_s3bucket = \"ENTER YOUR S3 BUCKET HERE YOU CAN FIND THIS IN THE OUTPUTS SECTION OF THE CFN TEMPLATE\"\n",
    "\n",
    "s3 = boto3.resource('s3')\n",
    "poc_bucket = s3.Bucket(datasource_s3bucket)\n",
    "dms_import_files = list(poc_bucket.objects.filter(Prefix=\"athenaquery\"))\n",
    "for file in dms_import_files:\n",
    "    #There will be a collection of CSVs if the forecast is large, modify this to go get them all\n",
    "    if \"csv\" in file.key:\n",
    "        print(file)\n",
    "        if not \"metadata\" in file.key:\n",
    "            dms_filename = file.key.split('/')[4]\n",
    "            s3.Bucket(datasource_s3bucket).download_file(file.key, data_dir+\"/\"+dms_filename)\n",
    "print(dms_filename)\n"
   ]
  },
  {
   "cell_type": "code",
   "execution_count": 341,
   "metadata": {},
   "outputs": [
    {
     "data": {
      "text/html": [
       "<div>\n",
       "<style scoped>\n",
       "    .dataframe tbody tr th:only-of-type {\n",
       "        vertical-align: middle;\n",
       "    }\n",
       "\n",
       "    .dataframe tbody tr th {\n",
       "        vertical-align: top;\n",
       "    }\n",
       "\n",
       "    .dataframe thead th {\n",
       "        text-align: right;\n",
       "    }\n",
       "</style>\n",
       "<table border=\"1\" class=\"dataframe\">\n",
       "  <thead>\n",
       "    <tr style=\"text-align: right;\">\n",
       "      <th></th>\n",
       "      <th>ticket_id</th>\n",
       "      <th>event_id</th>\n",
       "      <th>seat_level</th>\n",
       "      <th>seat_section</th>\n",
       "      <th>seat</th>\n",
       "      <th>ticket_price</th>\n",
       "    </tr>\n",
       "  </thead>\n",
       "  <tbody>\n",
       "    <tr>\n",
       "      <th>count</th>\n",
       "      <td>8.808770e+05</td>\n",
       "      <td>880877.000000</td>\n",
       "      <td>880877.000000</td>\n",
       "      <td>880877.000000</td>\n",
       "      <td>880877.000000</td>\n",
       "      <td>880877.000000</td>\n",
       "    </tr>\n",
       "    <tr>\n",
       "      <th>mean</th>\n",
       "      <td>5.225196e+07</td>\n",
       "      <td>6903.712853</td>\n",
       "      <td>2.350242</td>\n",
       "      <td>28.304662</td>\n",
       "      <td>2.004313</td>\n",
       "      <td>52.941284</td>\n",
       "    </tr>\n",
       "    <tr>\n",
       "      <th>std</th>\n",
       "      <td>6.256357e+07</td>\n",
       "      <td>3513.908253</td>\n",
       "      <td>0.558494</td>\n",
       "      <td>19.254517</td>\n",
       "      <td>0.879596</td>\n",
       "      <td>24.198662</td>\n",
       "    </tr>\n",
       "    <tr>\n",
       "      <th>min</th>\n",
       "      <td>1.039110e+05</td>\n",
       "      <td>71.000000</td>\n",
       "      <td>2.000000</td>\n",
       "      <td>1.000000</td>\n",
       "      <td>1.000000</td>\n",
       "      <td>19.470000</td>\n",
       "    </tr>\n",
       "    <tr>\n",
       "      <th>25%</th>\n",
       "      <td>7.061671e+06</td>\n",
       "      <td>3661.000000</td>\n",
       "      <td>2.000000</td>\n",
       "      <td>13.000000</td>\n",
       "      <td>1.000000</td>\n",
       "      <td>35.420000</td>\n",
       "    </tr>\n",
       "    <tr>\n",
       "      <th>50%</th>\n",
       "      <td>1.239156e+07</td>\n",
       "      <td>7691.000000</td>\n",
       "      <td>2.000000</td>\n",
       "      <td>26.000000</td>\n",
       "      <td>2.000000</td>\n",
       "      <td>43.350000</td>\n",
       "    </tr>\n",
       "    <tr>\n",
       "      <th>75%</th>\n",
       "      <td>1.437027e+08</td>\n",
       "      <td>10131.000000</td>\n",
       "      <td>3.000000</td>\n",
       "      <td>41.000000</td>\n",
       "      <td>3.000000</td>\n",
       "      <td>69.000000</td>\n",
       "    </tr>\n",
       "    <tr>\n",
       "      <th>max</th>\n",
       "      <td>1.500341e+08</td>\n",
       "      <td>11571.000000</td>\n",
       "      <td>4.000000</td>\n",
       "      <td>94.000000</td>\n",
       "      <td>4.000000</td>\n",
       "      <td>148.050000</td>\n",
       "    </tr>\n",
       "  </tbody>\n",
       "</table>\n",
       "</div>"
      ],
      "text/plain": [
       "          ticket_id       event_id     seat_level   seat_section  \\\n",
       "count  8.808770e+05  880877.000000  880877.000000  880877.000000   \n",
       "mean   5.225196e+07    6903.712853       2.350242      28.304662   \n",
       "std    6.256357e+07    3513.908253       0.558494      19.254517   \n",
       "min    1.039110e+05      71.000000       2.000000       1.000000   \n",
       "25%    7.061671e+06    3661.000000       2.000000      13.000000   \n",
       "50%    1.239156e+07    7691.000000       2.000000      26.000000   \n",
       "75%    1.437027e+08   10131.000000       3.000000      41.000000   \n",
       "max    1.500341e+08   11571.000000       4.000000      94.000000   \n",
       "\n",
       "                seat   ticket_price  \n",
       "count  880877.000000  880877.000000  \n",
       "mean        2.004313      52.941284  \n",
       "std         0.879596      24.198662  \n",
       "min         1.000000      19.470000  \n",
       "25%         1.000000      35.420000  \n",
       "50%         2.000000      43.350000  \n",
       "75%         3.000000      69.000000  \n",
       "max         4.000000     148.050000  "
      ]
     },
     "execution_count": 341,
     "metadata": {},
     "output_type": "execute_result"
    }
   ],
   "source": [
    "f = pd.read_csv(data_dir+\"/\"+dms_filename)\n",
    "f.describe()"
   ]
  },
  {
   "cell_type": "markdown",
   "metadata": {},
   "source": [
    "Now lets plot this data to see how it looks"
   ]
  },
  {
   "cell_type": "code",
   "execution_count": 93,
   "metadata": {},
   "outputs": [
    {
     "data": {
      "text/plain": [
       "<matplotlib.axes._subplots.AxesSubplot at 0x7f2a9a366f60>"
      ]
     },
     "execution_count": 93,
     "metadata": {},
     "output_type": "execute_result"
    },
    {
     "data": {
      "image/png": "[encoded data removed]",
      "text/plain": [
       "<Figure size 1440x720 with 1 Axes>"
      ]
     },
     "metadata": {},
     "output_type": "display_data"
    }
   ],
   "source": [
    "f.plot()"
   ]
  },
  {
   "cell_type": "markdown",
   "metadata": {},
   "source": [
    "### We need to clean some of this data\n",
    "\n",
    "Here we are copying our file contents into a ticket dataframe, dropping most columns, then we are going to add a new column with the count of tickets sold per week"
   ]
  },
  {
   "cell_type": "code",
   "execution_count": 347,
   "metadata": {},
   "outputs": [],
   "source": [
    "ticket_df = f.copy()\n",
    "#Dropping most columns\n",
    "ticket_df = ticket_df[['event_date_time']]\n",
    "#Transforming time into datetime\n",
    "ticket_df['event_date_time'] = pd.to_datetime(ticket_df['event_date_time'])\n",
    "#Creating a new column\n",
    "s = ticket_df.columns.to_series().sample(len(ticket_df),replace = True)\n",
    "ticket_df['ticket_count']=ticket_df.lookup(ticket_df.index,s)\n",
    "#Grouping the ticket count per hour\n",
    "ticket_df = ticket_df.groupby(pd.Grouper(key='event_date_time', freq='H')).count().dropna()"
   ]
  },
  {
   "cell_type": "markdown",
   "metadata": {},
   "source": [
    "Plotting our data for visualization pusposes"
   ]
  },
  {
   "cell_type": "code",
   "execution_count": 348,
   "metadata": {},
   "outputs": [
    {
     "data": {
      "text/plain": [
       "<matplotlib.axes._subplots.AxesSubplot at 0x7f2a6a6c5128>"
      ]
     },
     "execution_count": 348,
     "metadata": {},
     "output_type": "execute_result"
    },
    {
     "data": {
      "image/png": "[encoded data removed]",
      "text/plain": [
       "<Figure size 1440x720 with 1 Axes>"
      ]
     },
     "metadata": {},
     "output_type": "display_data"
    }
   ],
   "source": [
    "ticket_df.plot()"
   ]
  },
  {
   "cell_type": "markdown",
   "metadata": {},
   "source": [
    "Now we can take a look at some statistics of our data frame"
   ]
  },
  {
   "cell_type": "code",
   "execution_count": 349,
   "metadata": {},
   "outputs": [
    {
     "data": {
      "text/html": [
       "<div>\n",
       "<style scoped>\n",
       "    .dataframe tbody tr th:only-of-type {\n",
       "        vertical-align: middle;\n",
       "    }\n",
       "\n",
       "    .dataframe tbody tr th {\n",
       "        vertical-align: top;\n",
       "    }\n",
       "\n",
       "    .dataframe thead th {\n",
       "        text-align: right;\n",
       "    }\n",
       "</style>\n",
       "<table border=\"1\" class=\"dataframe\">\n",
       "  <thead>\n",
       "    <tr style=\"text-align: right;\">\n",
       "      <th></th>\n",
       "      <th>ticket_count</th>\n",
       "    </tr>\n",
       "  </thead>\n",
       "  <tbody>\n",
       "    <tr>\n",
       "      <th>count</th>\n",
       "      <td>6091.000000</td>\n",
       "    </tr>\n",
       "    <tr>\n",
       "      <th>mean</th>\n",
       "      <td>144.619439</td>\n",
       "    </tr>\n",
       "    <tr>\n",
       "      <th>std</th>\n",
       "      <td>2357.757237</td>\n",
       "    </tr>\n",
       "    <tr>\n",
       "      <th>min</th>\n",
       "      <td>0.000000</td>\n",
       "    </tr>\n",
       "    <tr>\n",
       "      <th>25%</th>\n",
       "      <td>0.000000</td>\n",
       "    </tr>\n",
       "    <tr>\n",
       "      <th>50%</th>\n",
       "      <td>0.000000</td>\n",
       "    </tr>\n",
       "    <tr>\n",
       "      <th>75%</th>\n",
       "      <td>0.000000</td>\n",
       "    </tr>\n",
       "    <tr>\n",
       "      <th>max</th>\n",
       "      <td>108855.000000</td>\n",
       "    </tr>\n",
       "  </tbody>\n",
       "</table>\n",
       "</div>"
      ],
      "text/plain": [
       "        ticket_count\n",
       "count    6091.000000\n",
       "mean      144.619439\n",
       "std      2357.757237\n",
       "min         0.000000\n",
       "25%         0.000000\n",
       "50%         0.000000\n",
       "75%         0.000000\n",
       "max    108855.000000"
      ]
     },
     "execution_count": 349,
     "metadata": {},
     "output_type": "execute_result"
    }
   ],
   "source": [
    "ticket_df.describe()"
   ]
  },
  {
   "cell_type": "code",
   "execution_count": 350,
   "metadata": {},
   "outputs": [],
   "source": [
    "ticket_df.replace(0, np.nan, inplace=True)\n",
    "ticket_df = ticket_df.interpolate(method='linear')\n"
   ]
  },
  {
   "cell_type": "code",
   "execution_count": 351,
   "metadata": {},
   "outputs": [
    {
     "data": {
      "text/plain": [
       "<matplotlib.axes._subplots.AxesSubplot at 0x7f2a98594e48>"
      ]
     },
     "execution_count": 351,
     "metadata": {},
     "output_type": "execute_result"
    },
    {
     "data": {
      "image/png": "[encoded data removed]",
      "text/plain": [
       "<Figure size 1440x720 with 1 Axes>"
      ]
     },
     "metadata": {},
     "output_type": "display_data"
    }
   ],
   "source": [
    "ticket_df.plot()"
   ]
  },
  {
   "cell_type": "code",
   "execution_count": 282,
   "metadata": {},
   "outputs": [
    {
     "data": {
      "text/html": [
       "<div>\n",
       "<style scoped>\n",
       "    .dataframe tbody tr th:only-of-type {\n",
       "        vertical-align: middle;\n",
       "    }\n",
       "\n",
       "    .dataframe tbody tr th {\n",
       "        vertical-align: top;\n",
       "    }\n",
       "\n",
       "    .dataframe thead th {\n",
       "        text-align: right;\n",
       "    }\n",
       "</style>\n",
       "<table border=\"1\" class=\"dataframe\">\n",
       "  <thead>\n",
       "    <tr style=\"text-align: right;\">\n",
       "      <th></th>\n",
       "      <th>ticket_count</th>\n",
       "    </tr>\n",
       "  </thead>\n",
       "  <tbody>\n",
       "    <tr>\n",
       "      <th>count</th>\n",
       "      <td>6091.000000</td>\n",
       "    </tr>\n",
       "    <tr>\n",
       "      <th>mean</th>\n",
       "      <td>28659.834017</td>\n",
       "    </tr>\n",
       "    <tr>\n",
       "      <th>std</th>\n",
       "      <td>28579.070873</td>\n",
       "    </tr>\n",
       "    <tr>\n",
       "      <th>min</th>\n",
       "      <td>2080.000000</td>\n",
       "    </tr>\n",
       "    <tr>\n",
       "      <th>25%</th>\n",
       "      <td>12567.241071</td>\n",
       "    </tr>\n",
       "    <tr>\n",
       "      <th>50%</th>\n",
       "      <td>17217.428571</td>\n",
       "    </tr>\n",
       "    <tr>\n",
       "      <th>75%</th>\n",
       "      <td>24633.491071</td>\n",
       "    </tr>\n",
       "    <tr>\n",
       "      <th>max</th>\n",
       "      <td>108855.000000</td>\n",
       "    </tr>\n",
       "  </tbody>\n",
       "</table>\n",
       "</div>"
      ],
      "text/plain": [
       "        ticket_count\n",
       "count    6091.000000\n",
       "mean    28659.834017\n",
       "std     28579.070873\n",
       "min      2080.000000\n",
       "25%     12567.241071\n",
       "50%     17217.428571\n",
       "75%     24633.491071\n",
       "max    108855.000000"
      ]
     },
     "execution_count": 282,
     "metadata": {},
     "output_type": "execute_result"
    }
   ],
   "source": [
    "ticket_df.describe()"
   ]
  },
  {
   "cell_type": "markdown",
   "metadata": {},
   "source": [
    "## Building Data Files\n",
    "\n",
    "Knowing that our above dataframe `ticket_df` covers the entire time period we care about in this case 32 weeks. We are going to restrict it to feed all this data for training and then predict an aditional 3 weeks."
   ]
  },
  {
   "cell_type": "code",
   "execution_count": 283,
   "metadata": {},
   "outputs": [],
   "source": [
    "#Create a copy\n",
    "target_df = ticket_df.copy()"
   ]
  },
  {
   "cell_type": "code",
   "execution_count": 284,
   "metadata": {},
   "outputs": [
    {
     "name": "stdout",
     "output_type": "stream",
     "text": [
      "2019-04-07 00:00:00\n",
      "2019-12-16 18:00:00\n",
      "        ticket_count\n",
      "count    6091.000000\n",
      "mean    28659.834017\n",
      "std     28579.070873\n",
      "min      2080.000000\n",
      "25%     12567.241071\n",
      "50%     17217.428571\n",
      "75%     24633.491071\n",
      "max    108855.000000\n"
     ]
    }
   ],
   "source": [
    "target_time_series_df = target_df.copy()\n",
    "#Validate the data range\n",
    "print (target_time_series_df.index.min())\n",
    "print (target_time_series_df.index.max())\n",
    "print (target_time_series_df.describe())"
   ]
  },
  {
   "cell_type": "markdown",
   "metadata": {},
   "source": [
    "Let's make sure that we arent missing any hour between 2019-04-07 00:00:00 and 2019-12-16 18:00:00 by checking WolframAlpha https://www.wolframalpha.com/input/?i=+how+many+hours+between+2019-04-07+00%3A00%3A00+and+2019-12-16+18%3A00%3A00"
   ]
  },
  {
   "cell_type": "code",
   "execution_count": 285,
   "metadata": {},
   "outputs": [
    {
     "data": {
      "text/plain": [
       "<matplotlib.axes._subplots.AxesSubplot at 0x7f2a6b01bb38>"
      ]
     },
     "execution_count": 285,
     "metadata": {},
     "output_type": "execute_result"
    },
    {
     "data": {
      "image/png": "[encoded data removed]",
      "text/plain": [
       "<Figure size 1440x720 with 1 Axes>"
      ]
     },
     "metadata": {},
     "output_type": "display_data"
    }
   ],
   "source": [
    "target_time_series_df.plot()"
   ]
  },
  {
   "cell_type": "markdown",
   "metadata": {},
   "source": [
    "Now that we verified our range in the data frame lets start cleaning the data for a format supported by Forecast"
   ]
  },
  {
   "cell_type": "code",
   "execution_count": 286,
   "metadata": {},
   "outputs": [
    {
     "data": {
      "text/html": [
       "<div>\n",
       "<style scoped>\n",
       "    .dataframe tbody tr th:only-of-type {\n",
       "        vertical-align: middle;\n",
       "    }\n",
       "\n",
       "    .dataframe tbody tr th {\n",
       "        vertical-align: top;\n",
       "    }\n",
       "\n",
       "    .dataframe thead th {\n",
       "        text-align: right;\n",
       "    }\n",
       "</style>\n",
       "<table border=\"1\" class=\"dataframe\">\n",
       "  <thead>\n",
       "    <tr style=\"text-align: right;\">\n",
       "      <th></th>\n",
       "      <th>ticket_count</th>\n",
       "    </tr>\n",
       "    <tr>\n",
       "      <th>event_date_time</th>\n",
       "      <th></th>\n",
       "    </tr>\n",
       "  </thead>\n",
       "  <tbody>\n",
       "    <tr>\n",
       "      <th>2019-12-16 09:00:00</th>\n",
       "      <td>108598.627422</td>\n",
       "    </tr>\n",
       "    <tr>\n",
       "      <th>2019-12-16 10:00:00</th>\n",
       "      <td>108627.113264</td>\n",
       "    </tr>\n",
       "    <tr>\n",
       "      <th>2019-12-16 11:00:00</th>\n",
       "      <td>108655.599106</td>\n",
       "    </tr>\n",
       "    <tr>\n",
       "      <th>2019-12-16 12:00:00</th>\n",
       "      <td>108684.084948</td>\n",
       "    </tr>\n",
       "    <tr>\n",
       "      <th>2019-12-16 13:00:00</th>\n",
       "      <td>108712.570790</td>\n",
       "    </tr>\n",
       "    <tr>\n",
       "      <th>2019-12-16 14:00:00</th>\n",
       "      <td>108741.056632</td>\n",
       "    </tr>\n",
       "    <tr>\n",
       "      <th>2019-12-16 15:00:00</th>\n",
       "      <td>108769.542474</td>\n",
       "    </tr>\n",
       "    <tr>\n",
       "      <th>2019-12-16 16:00:00</th>\n",
       "      <td>108798.028316</td>\n",
       "    </tr>\n",
       "    <tr>\n",
       "      <th>2019-12-16 17:00:00</th>\n",
       "      <td>108826.514158</td>\n",
       "    </tr>\n",
       "    <tr>\n",
       "      <th>2019-12-16 18:00:00</th>\n",
       "      <td>108855.000000</td>\n",
       "    </tr>\n",
       "  </tbody>\n",
       "</table>\n",
       "</div>"
      ],
      "text/plain": [
       "                      ticket_count\n",
       "event_date_time                   \n",
       "2019-12-16 09:00:00  108598.627422\n",
       "2019-12-16 10:00:00  108627.113264\n",
       "2019-12-16 11:00:00  108655.599106\n",
       "2019-12-16 12:00:00  108684.084948\n",
       "2019-12-16 13:00:00  108712.570790\n",
       "2019-12-16 14:00:00  108741.056632\n",
       "2019-12-16 15:00:00  108769.542474\n",
       "2019-12-16 16:00:00  108798.028316\n",
       "2019-12-16 17:00:00  108826.514158\n",
       "2019-12-16 18:00:00  108855.000000"
      ]
     },
     "execution_count": 286,
     "metadata": {},
     "output_type": "execute_result"
    }
   ],
   "source": [
    "target_time_series_df.tail(10)"
   ]
  },
  {
   "cell_type": "code",
   "execution_count": 287,
   "metadata": {},
   "outputs": [
    {
     "data": {
      "text/html": [
       "<div>\n",
       "<style scoped>\n",
       "    .dataframe tbody tr th:only-of-type {\n",
       "        vertical-align: middle;\n",
       "    }\n",
       "\n",
       "    .dataframe tbody tr th {\n",
       "        vertical-align: top;\n",
       "    }\n",
       "\n",
       "    .dataframe thead th {\n",
       "        text-align: right;\n",
       "    }\n",
       "</style>\n",
       "<table border=\"1\" class=\"dataframe\">\n",
       "  <thead>\n",
       "    <tr style=\"text-align: right;\">\n",
       "      <th></th>\n",
       "      <th>ticket_count</th>\n",
       "      <th>item_ID</th>\n",
       "    </tr>\n",
       "    <tr>\n",
       "      <th>event_date_time</th>\n",
       "      <th></th>\n",
       "      <th></th>\n",
       "    </tr>\n",
       "  </thead>\n",
       "  <tbody>\n",
       "    <tr>\n",
       "      <th>2019-12-16 09:00:00</th>\n",
       "      <td>108598.627422</td>\n",
       "      <td>Hourly_Ticket_Count</td>\n",
       "    </tr>\n",
       "    <tr>\n",
       "      <th>2019-12-16 10:00:00</th>\n",
       "      <td>108627.113264</td>\n",
       "      <td>Hourly_Ticket_Count</td>\n",
       "    </tr>\n",
       "    <tr>\n",
       "      <th>2019-12-16 11:00:00</th>\n",
       "      <td>108655.599106</td>\n",
       "      <td>Hourly_Ticket_Count</td>\n",
       "    </tr>\n",
       "    <tr>\n",
       "      <th>2019-12-16 12:00:00</th>\n",
       "      <td>108684.084948</td>\n",
       "      <td>Hourly_Ticket_Count</td>\n",
       "    </tr>\n",
       "    <tr>\n",
       "      <th>2019-12-16 13:00:00</th>\n",
       "      <td>108712.570790</td>\n",
       "      <td>Hourly_Ticket_Count</td>\n",
       "    </tr>\n",
       "    <tr>\n",
       "      <th>2019-12-16 14:00:00</th>\n",
       "      <td>108741.056632</td>\n",
       "      <td>Hourly_Ticket_Count</td>\n",
       "    </tr>\n",
       "    <tr>\n",
       "      <th>2019-12-16 15:00:00</th>\n",
       "      <td>108769.542474</td>\n",
       "      <td>Hourly_Ticket_Count</td>\n",
       "    </tr>\n",
       "    <tr>\n",
       "      <th>2019-12-16 16:00:00</th>\n",
       "      <td>108798.028316</td>\n",
       "      <td>Hourly_Ticket_Count</td>\n",
       "    </tr>\n",
       "    <tr>\n",
       "      <th>2019-12-16 17:00:00</th>\n",
       "      <td>108826.514158</td>\n",
       "      <td>Hourly_Ticket_Count</td>\n",
       "    </tr>\n",
       "    <tr>\n",
       "      <th>2019-12-16 18:00:00</th>\n",
       "      <td>108855.000000</td>\n",
       "      <td>Hourly_Ticket_Count</td>\n",
       "    </tr>\n",
       "  </tbody>\n",
       "</table>\n",
       "</div>"
      ],
      "text/plain": [
       "                      ticket_count              item_ID\n",
       "event_date_time                                        \n",
       "2019-12-16 09:00:00  108598.627422  Hourly_Ticket_Count\n",
       "2019-12-16 10:00:00  108627.113264  Hourly_Ticket_Count\n",
       "2019-12-16 11:00:00  108655.599106  Hourly_Ticket_Count\n",
       "2019-12-16 12:00:00  108684.084948  Hourly_Ticket_Count\n",
       "2019-12-16 13:00:00  108712.570790  Hourly_Ticket_Count\n",
       "2019-12-16 14:00:00  108741.056632  Hourly_Ticket_Count\n",
       "2019-12-16 15:00:00  108769.542474  Hourly_Ticket_Count\n",
       "2019-12-16 16:00:00  108798.028316  Hourly_Ticket_Count\n",
       "2019-12-16 17:00:00  108826.514158  Hourly_Ticket_Count\n",
       "2019-12-16 18:00:00  108855.000000  Hourly_Ticket_Count"
      ]
     },
     "execution_count": 287,
     "metadata": {},
     "output_type": "execute_result"
    }
   ],
   "source": [
    "target_time_series_df = target_time_series_df.loc['2019-04-07 00:00:00':]\n",
    "#Add in item_id\n",
    "target_time_series_df['item_ID'] = \"Hourly_Ticket_Count\"\n",
    "#validate the structure\n",
    "target_time_series_df.tail(10)"
   ]
  },
  {
   "cell_type": "code",
   "execution_count": 288,
   "metadata": {},
   "outputs": [],
   "source": [
    "#now lets save this data into a CSV\n",
    "target_time_series_filename = \"target_time_series.csv\"\n",
    "target_time_series_path = data_dir + \"/\" + target_time_series_filename\n",
    "target_time_series_df.to_csv(target_time_series_path, header=False)"
   ]
  },
  {
   "cell_type": "markdown",
   "metadata": {},
   "source": [
    "You should see a data folder on your directory in the left of this lab. Now lets move on to Forecast"
   ]
  },
  {
   "cell_type": "markdown",
   "metadata": {},
   "source": [
    "## Getting Started With Forecast\n",
    "\n",
    "Now that all of the required data to get started exists, our next step is to build the dataset groups and datasets required for our problem. Inside Amazon Forecast a DatasetGroup is an abstraction that contains all the datasets for a particular collection of Forecasts. There is no information sharing between DatasetGroups so if you'd like to try out various alternatives to the schemas we create below, you could create a new DatasetGroup and make your changes inside its corresponding Datasets.\n",
    "\n",
    "The order of the process below will be as follows:\n",
    "\n",
    "1. Create a DatasetGroup for our POC.\n",
    "1. Create a `Target-Time-Series` Dataset.\n",
    "1. Create a `Related-Time-Series` Dataset.\n",
    "1. Attach the Dataset to the DatasetGroup.\n",
    "1. Import the data into the Dataset.\n",
    "\n",
    "Later you can use the other notebooks to build Predictors based off this information, or to add related time series data as well.\n",
    "\n",
    "The cell immediately below defines a few core aspects of our Dataset Group and info on our data. For example the timestamp format, the project name, and how frequent our time series data is."
   ]
  },
  {
   "cell_type": "code",
   "execution_count": 300,
   "metadata": {},
   "outputs": [],
   "source": [
    "#Define the dataset frequency, in our case this is Daily\n",
    "DATASET_FREQUENCY = \"H\"\n",
    "\n",
    "#Define the timestamp format, in our case this is Year - Month - Day\n",
    "TIMESTAMP_FORMAT = \"yyyy-MM-dd HH:mm:ss\"\n",
    "\n",
    "#Lets create a name for our project\n",
    "project = 'DataEngineeringImersionDayHourly'\n",
    "\n",
    "#Define your dataset name\n",
    "targetDatasetName = project+'_tds'\n",
    "\n",
    "#Define your dataset group name\n",
    "datasetGroupName = project+'_dsg'\n",
    "\n",
    "#AWS Configuration definitions\n",
    "region = \"us-east-1\"\n",
    "session = boto3.Session(region_name=region)\n",
    "forecast = session.client(service_name='forecast')\n",
    "forecast_query = session.client(service_name='forecastquery')\n"
   ]
  },
  {
   "cell_type": "markdown",
   "metadata": {},
   "source": [
    "Create the *Dataset Group*, this is the largest abstraction when using Forecast. \n",
    "There is no information sharing between *Dataset Groups* so if you want to try out new schemas, or completely different datasets for a problem this is a great isolation layer to use."
   ]
  },
  {
   "cell_type": "code",
   "execution_count": 301,
   "metadata": {},
   "outputs": [],
   "source": [
    "#Create the DataSetGroup\n",
    "create_dataset_group_response = forecast.create_dataset_group(DatasetGroupName=datasetGroupName, Domain=\"CUSTOM\")\n",
    "datasetGroupARN = create_dataset_group_response['DatasetGroupArn']"
   ]
  },
  {
   "cell_type": "code",
   "execution_count": 302,
   "metadata": {},
   "outputs": [
    {
     "data": {
      "text/plain": [
       "{'DatasetGroupName': 'DataEngineeringImersionDayHourly_dsg',\n",
       " 'DatasetGroupArn': 'arn:aws:forecast:us-east-1:144386903708:dataset-group/DataEngineeringImersionDayHourly_dsg',\n",
       " 'DatasetArns': [],\n",
       " 'Domain': 'CUSTOM',\n",
       " 'Status': 'ACTIVE',\n",
       " 'CreationTime': datetime.datetime(2020, 2, 21, 23, 53, 57, 315000, tzinfo=tzlocal()),\n",
       " 'LastModificationTime': datetime.datetime(2020, 2, 21, 23, 53, 57, 315000, tzinfo=tzlocal()),\n",
       " 'ResponseMetadata': {'RequestId': '800a3b0b-b60f-4cec-a3e2-bfc6b64faf6b',\n",
       "  'HTTPStatusCode': 200,\n",
       "  'HTTPHeaders': {'content-type': 'application/x-amz-json-1.1',\n",
       "   'date': 'Fri, 21 Feb 2020 23:53:58 GMT',\n",
       "   'x-amzn-requestid': '800a3b0b-b60f-4cec-a3e2-bfc6b64faf6b',\n",
       "   'content-length': '295',\n",
       "   'connection': 'keep-alive'},\n",
       "  'RetryAttempts': 0}}"
      ]
     },
     "execution_count": 302,
     "metadata": {},
     "output_type": "execute_result"
    }
   ],
   "source": [
    "#Describe the dataset group\n",
    "forecast.describe_dataset_group(DatasetGroupArn=datasetGroupARN)"
   ]
  },
  {
   "cell_type": "code",
   "execution_count": 303,
   "metadata": {},
   "outputs": [],
   "source": [
    "# Specify the schema of your dataset here. Make sure the order of columns matches the raw data files.\n",
    "target_schema ={\n",
    "   \"Attributes\":[\n",
    "      {\n",
    "         \"AttributeName\":\"timestamp\",\n",
    "         \"AttributeType\":\"timestamp\"\n",
    "      },\n",
    "      {\n",
    "         \"AttributeName\":\"target_value\",\n",
    "         \"AttributeType\":\"float\"\n",
    "      },\n",
    "      {\n",
    "         \"AttributeName\":\"item_id\",\n",
    "         \"AttributeType\":\"string\"\n",
    "      }\n",
    "   ]\n",
    "}"
   ]
  },
  {
   "cell_type": "markdown",
   "metadata": {},
   "source": [
    "Inside every DatasetGroup you can have 3 types of additional data:\n",
    "\n",
    "1. Target Time Series\n",
    "1. Related Time Series\n",
    "1. Item Metadata\n",
    "\n",
    "In this guide we are focusing on the target-time-series and related-time-series bit. The cells below will create this container for you and then add it to your DatasetGroup."
   ]
  },
  {
   "cell_type": "code",
   "execution_count": 304,
   "metadata": {},
   "outputs": [
    {
     "data": {
      "text/plain": [
       "{'DatasetArn': 'arn:aws:forecast:us-east-1:144386903708:dataset/DataEngineeringImersionDayHourly_tds',\n",
       " 'DatasetName': 'DataEngineeringImersionDayHourly_tds',\n",
       " 'Domain': 'CUSTOM',\n",
       " 'DatasetType': 'TARGET_TIME_SERIES',\n",
       " 'DataFrequency': 'H',\n",
       " 'Schema': {'Attributes': [{'AttributeName': 'timestamp',\n",
       "    'AttributeType': 'timestamp'},\n",
       "   {'AttributeName': 'target_value', 'AttributeType': 'float'},\n",
       "   {'AttributeName': 'item_id', 'AttributeType': 'string'}]},\n",
       " 'EncryptionConfig': {},\n",
       " 'Status': 'ACTIVE',\n",
       " 'CreationTime': datetime.datetime(2020, 2, 21, 23, 54, 2, 728000, tzinfo=tzlocal()),\n",
       " 'LastModificationTime': datetime.datetime(2020, 2, 21, 23, 54, 2, 728000, tzinfo=tzlocal()),\n",
       " 'ResponseMetadata': {'RequestId': '7a193cb4-6d50-4711-8c7c-40a9e3a5ee98',\n",
       "  'HTTPStatusCode': 200,\n",
       "  'HTTPHeaders': {'content-type': 'application/x-amz-json-1.1',\n",
       "   'date': 'Fri, 21 Feb 2020 23:54:02 GMT',\n",
       "   'x-amzn-requestid': '7a193cb4-6d50-4711-8c7c-40a9e3a5ee98',\n",
       "   'content-length': '533',\n",
       "   'connection': 'keep-alive'},\n",
       "  'RetryAttempts': 0}}"
      ]
     },
     "execution_count": 304,
     "metadata": {},
     "output_type": "execute_result"
    }
   ],
   "source": [
    "#Creating and describing target data set\n",
    "create_target_dataset_response = forecast.create_dataset(\n",
    "                                                Domain=\"CUSTOM\",\n",
    "                                                DatasetType=\"TARGET_TIME_SERIES\",\n",
    "                                                DatasetName=targetDatasetName,\n",
    "                                                DataFrequency=DATASET_FREQUENCY,\n",
    "                                                Schema=target_schema)\n",
    "target_datasetArn = create_target_dataset_response['DatasetArn']\n",
    "forecast.describe_dataset(DatasetArn=target_datasetArn)"
   ]
  },
  {
   "cell_type": "code",
   "execution_count": 305,
   "metadata": {},
   "outputs": [
    {
     "data": {
      "text/plain": [
       "{'ResponseMetadata': {'RequestId': 'fd0814ec-c3b1-4d7f-9999-33850afd5942',\n",
       "  'HTTPStatusCode': 200,\n",
       "  'HTTPHeaders': {'content-type': 'application/x-amz-json-1.1',\n",
       "   'date': 'Fri, 21 Feb 2020 23:54:06 GMT',\n",
       "   'x-amzn-requestid': 'fd0814ec-c3b1-4d7f-9999-33850afd5942',\n",
       "   'content-length': '2',\n",
       "   'connection': 'keep-alive'},\n",
       "  'RetryAttempts': 0}}"
      ]
     },
     "execution_count": 305,
     "metadata": {},
     "output_type": "execute_result"
    }
   ],
   "source": [
    "#Attach the Dataset to the Dataset Group\n",
    "\n",
    "dataset_arns = []\n",
    "dataset_arns.append(target_datasetArn)\n",
    "\n",
    "forecast.update_dataset_group(DatasetGroupArn=datasetGroupARN, DatasetArns=dataset_arns)"
   ]
  },
  {
   "cell_type": "code",
   "execution_count": 306,
   "metadata": {},
   "outputs": [
    {
     "name": "stdout",
     "output_type": "stream",
     "text": [
      "arn:aws:iam::144386903708:role/ForecastRoleMarketTest\n"
     ]
    }
   ],
   "source": [
    "iam = boto3.client(\"iam\")\n",
    "\n",
    "role_name = \"ForecastRoleMarketTest\"\n",
    "#assume_role_policy_document = {\n",
    "#    \"Version\": \"2012-10-17\",\n",
    "#    \"Statement\": [\n",
    "#        {\n",
    "#          \"Effect\": \"Allow\",\n",
    "#          \"Principal\": {\n",
    "#            \"Service\": \"forecast.amazonaws.com\"\n",
    "#          },\n",
    "#          \"Action\": \"sts:AssumeRole\"\n",
    "#        }\n",
    "#    ]\n",
    "#}\n",
    "\n",
    "#create_role_response = iam.create_role(\n",
    "#    RoleName = role_name,\n",
    "#    AssumeRolePolicyDocument = json.dumps(assume_role_policy_document)\n",
    "#)\n",
    "\n",
    "# AmazonForecastFullAccess provides access to any S3 bucket with a name that includes \"forecast\" or \"Forecast\" \n",
    "# if you would like to use a bucket with a different name, please consider creating and attaching a new policy\n",
    "# that provides read access to your bucket or attaching the AmazonS3ReadOnlyAccess policy to the role\n",
    "#policy_arn = \"arn:aws:iam::aws:policy/AmazonForecastFullAccess\"\n",
    "#iam.attach_role_policy(\n",
    "#    RoleName = role_name,\n",
    "#    PolicyArn = policy_arn\n",
    "#)\n",
    "\n",
    "# Now add S3 support\n",
    "#iam.attach_role_policy(\n",
    "#    PolicyArn='arn:aws:iam::aws:policy/AmazonS3FullAccess',\n",
    "#    RoleName=role_name\n",
    "#)\n",
    "#time.sleep(60) # wait for a minute to allow IAM role policy attachment to propagate\n",
    "\n",
    "role_arn = \"arn:aws:iam::144386903708:role/ForecastRoleMarketTest\"\n",
    "print(role_arn)"
   ]
  },
  {
   "cell_type": "markdown",
   "metadata": {},
   "source": [
    "Now what we need to do is to import a file from S3 into Amazon Forecast. This next cell will create a bucket and upload a file there"
   ]
  },
  {
   "cell_type": "code",
   "execution_count": 307,
   "metadata": {},
   "outputs": [
    {
     "name": "stdout",
     "output_type": "stream",
     "text": [
      "dmslab-student-luseloso-dmslabs3bucket-h54huljrwheu\n"
     ]
    }
   ],
   "source": [
    "#Declare the S3 obj\n",
    "s3 = boto3.client('s3')\n",
    "account_id = boto3.client('sts').get_caller_identity().get('Account')\n",
    "\n",
    "#Create a unique bucket name\n",
    "bucket_name = datasource_s3bucket\n",
    "\n",
    "#printing the bucket name\n",
    "print(bucket_name)\n",
    "\n",
    "#S3 naming conventions are different per region, therefore we need this IF statement\n",
    "#if region != \"us-east-1\":\n",
    "#    s3.create_bucket(Bucket=bucket_name, CreateBucketConfiguration={'LocationConstraint': region})\n",
    "#else:\n",
    "#    s3.create_bucket(Bucket=bucket_name)"
   ]
  },
  {
   "cell_type": "code",
   "execution_count": 308,
   "metadata": {},
   "outputs": [],
   "source": [
    "# Upload Target File\n",
    "boto3.Session().resource('s3').Bucket(bucket_name).Object(target_time_series_filename).upload_file(target_time_series_path)\n",
    "target_s3DataPath = \"s3://\"+bucket_name+\"/\"+target_time_series_filename"
   ]
  },
  {
   "cell_type": "markdown",
   "metadata": {},
   "source": [
    "At this point your data is now formatted correctly for Forecast and exists within S3, the last thing to do is to import it so you can get started actually generating models!"
   ]
  },
  {
   "cell_type": "markdown",
   "metadata": {},
   "source": [
    "**Importing Target Dataset**"
   ]
  },
  {
   "cell_type": "code",
   "execution_count": 309,
   "metadata": {},
   "outputs": [],
   "source": [
    "# Lets import the target dataset into Forecast\n",
    "ts_ds_import_job_response=forecast.create_dataset_import_job(DatasetImportJobName=datasetGroupName,\n",
    "                                                         DatasetArn=target_datasetArn,\n",
    "                                                         DataSource={\n",
    "                                                             \"S3Config\": {\n",
    "                                                                 \"Path\": target_s3DataPath,\n",
    "                                                                 \"RoleArn\": role_arn\n",
    "                                                             }\n",
    "                                                         },\n",
    "                                                         TimestampFormat=TIMESTAMP_FORMAT)"
   ]
  },
  {
   "cell_type": "code",
   "execution_count": 310,
   "metadata": {},
   "outputs": [
    {
     "name": "stdout",
     "output_type": "stream",
     "text": [
      "arn:aws:forecast:us-east-1:144386903708:dataset-import-job/DataEngineeringImersionDayHourly_tds/DataEngineeringImersionDayHourly_dsg\n"
     ]
    }
   ],
   "source": [
    "ts_ds_import_job_arn=ts_ds_import_job_response['DatasetImportJobArn']\n",
    "print(ts_ds_import_job_arn)"
   ]
  },
  {
   "cell_type": "markdown",
   "metadata": {},
   "source": [
    "The cell below will run and poll every 30 seconds until the import process has completed. From there we will be able to view the metrics on the data and see that it is valid and ready for use."
   ]
  },
  {
   "cell_type": "code",
   "execution_count": 311,
   "metadata": {},
   "outputs": [
    {
     "name": "stdout",
     "output_type": "stream",
     "text": [
      "CREATE_PENDING\n",
      "CREATE_IN_PROGRESS\n",
      "CREATE_IN_PROGRESS\n",
      "CREATE_IN_PROGRESS\n",
      "CREATE_IN_PROGRESS\n",
      "CREATE_IN_PROGRESS\n",
      "CREATE_IN_PROGRESS\n",
      "CREATE_IN_PROGRESS\n",
      "ACTIVE\n"
     ]
    }
   ],
   "source": [
    "while True:\n",
    "    dataImportStatus = forecast.describe_dataset_import_job(DatasetImportJobArn=ts_ds_import_job_arn)['Status']\n",
    "    print(dataImportStatus)\n",
    "    if dataImportStatus != 'ACTIVE' and dataImportStatus != 'CREATE_FAILED':\n",
    "        sleep(30)\n",
    "    else:\n",
    "        break"
   ]
  },
  {
   "cell_type": "code",
   "execution_count": 312,
   "metadata": {},
   "outputs": [
    {
     "name": "stdout",
     "output_type": "stream",
     "text": [
      "Stored 'target_time_series_df' (DataFrame)\n",
      "Stored 'bucket_name' (str)\n",
      "Stored 'datasetGroupName' (str)\n",
      "Stored 'datasetGroupARN' (str)\n",
      "Stored 'target_datasetArn' (str)\n",
      "Stored 'role_arn' (str)\n",
      "Stored 'region' (str)\n",
      "Stored 'target_time_series_filename' (str)\n",
      "Stored 'target_df' (DataFrame)\n",
      "Stored 'data_dir' (str)\n",
      "Stored 'DATASET_FREQUENCY' (str)\n",
      "Stored 'TIMESTAMP_FORMAT' (str)\n",
      "Stored 'project' (str)\n"
     ]
    }
   ],
   "source": [
    "%store target_time_series_df\n",
    "%store bucket_name\n",
    "%store datasetGroupName\n",
    "%store datasetGroupARN\n",
    "%store target_datasetArn\n",
    "%store role_arn\n",
    "%store region\n",
    "%store target_time_series_filename\n",
    "%store target_df\n",
    "%store data_dir\n",
    "%store DATASET_FREQUENCY\n",
    "%store TIMESTAMP_FORMAT\n",
    "%store project"
   ]
  },
  {
   "cell_type": "markdown",
   "metadata": {},
   "source": [
    "# Step 3. Choosing an algorithm and evaluating its performance<a class=\"anchor\" id=\"algo\">\n",
    "\n",
    "Once the datasets are specified with the corresponding schema, Amazon Forecast will automatically aggregate all the relevant pieces of information for each item, such as sales, price, promotions, as well as categorical attributes, and generate the desired dataset. Next, one can choose an algorithm (forecasting model) and evaluate how well this particular algorithm works on this dataset. The following graph gives a high-level overview of the forecasting models.\n",
    "<img src=\"images/recipes.png\">\n",
    "<img src=\"images/pred_details.png\">\n",
    "\n",
    "\n",
    "Amazon Forecast provides several state-of-the-art forecasting algorithms including classic forecasting methods such as ETS, ARIMA, Prophet and deep learning approaches such as DeepAR+. Classical forecasting methods, such as Autoregressive Integrated Moving Average (ARIMA) or Exponential Smoothing (ETS), fit a single model to each individual time series, and then use that model to extrapolate the time series into the future. Amazon's Non-Parametric Time Series (NPTS) forecaster also fits a single model to each individual time series.  Unlike the naive or seasonal naive forecasters that use a fixed time index (the previous index $T-1$ or the past season $T - \\tau$) as the prediction for time step $T$, NPTS randomly samples a time index $t \\in \\{0, \\dots T-1\\}$ in the past to generate a sample for the current time step $T$.\n",
    "\n",
    "In many applications, you may encounter many similar time series across a set of cross-sectional units. Examples of such time series groupings are demand for different products, server loads, and requests for web pages. In this case, it can be beneficial to train a single model jointly over all of these time series. DeepAR+ takes this approach, outperforming the standard ARIMA and ETS methods when your dataset contains hundreds of related time series. The trained model can also be used for generating forecasts for new time series that are similar to the ones it has been trained on. While deep learning approaches can outperform standard methods, this is only possible when there is sufficient data available for training. It is not true for example when one trains a neural network with a time-series contains only a few dozens of observations. Amazon Forecast provides the best of two worlds allowing users to either choose a specific algorithm or let Amazon Forecast automatically perform model selection. \n",
    "\n",
    "## How to evaluate a forecasting model?\n",
    "\n",
    "Before moving forward, let's first introduce the notion of *backtest* when evaluating forecasting models. The key difference between evaluating forecasting algorithms and standard ML applications is that we need to make sure there is no future information gets used in the past. In other words, the procedure needs to be causal. \n",
    "\n",
    "<img src=\"images/backtest.png\">\n",
    "\n",
    "\n",
    "In this notebook, let's compare the neural network based method, DeepAR+ with Facebook's open-source Bayesian method Prophet. \n"
   ]
  },
  {
   "cell_type": "code",
   "execution_count": 313,
   "metadata": {},
   "outputs": [],
   "source": [
    "algorithm_arn = 'arn:aws:forecast:::algorithm/'"
   ]
  },
  {
   "cell_type": "markdown",
   "metadata": {},
   "source": [
    "## Choosing DeepAR+<a class=\"anchor\" id=\"DeepAR\">"
   ]
  },
  {
   "cell_type": "code",
   "execution_count": 314,
   "metadata": {},
   "outputs": [],
   "source": [
    "algorithm = 'Deep_AR_Plus'\n",
    "algorithm_arn_deep_ar_plus = algorithm_arn + algorithm\n",
    "predictor_name_deep_ar = f'{project}_{algorithm.lower()}'\n",
    "# Lets look at one week of hourly data\n",
    "forecast_horizon = 192\n",
    "freq = \"H\""
   ]
  },
  {
   "cell_type": "code",
   "execution_count": 315,
   "metadata": {},
   "outputs": [
    {
     "name": "stdout",
     "output_type": "stream",
     "text": [
      "[DataEngineeringImersionDayHourly_deep_ar_plus] Creating predictor DataEngineeringImersionDayHourly_deep_ar_plus ...\n"
     ]
    }
   ],
   "source": [
    "print(f'[{predictor_name_deep_ar}] Creating predictor {predictor_name_deep_ar} ...')"
   ]
  },
  {
   "cell_type": "code",
   "execution_count": 316,
   "metadata": {},
   "outputs": [],
   "source": [
    "create_predictor_response = forecast.create_predictor(PredictorName=predictor_name_deep_ar,\n",
    "                                                  AlgorithmArn=algorithm_arn_deep_ar_plus,\n",
    "                                                  ForecastHorizon=forecast_horizon,\n",
    "                                                  PerformAutoML=False,\n",
    "                                                  PerformHPO=False,\n",
    "                                                  InputDataConfig= {\"DatasetGroupArn\": datasetGroupARN},\n",
    "                                                  FeaturizationConfig= {\"ForecastFrequency\": freq}\n",
    "                                                 )"
   ]
  },
  {
   "cell_type": "code",
   "execution_count": 317,
   "metadata": {},
   "outputs": [],
   "source": [
    "predictor_arn_deep_ar = create_predictor_response['PredictorArn']"
   ]
  },
  {
   "cell_type": "code",
   "execution_count": null,
   "metadata": {},
   "outputs": [
    {
     "name": "stdout",
     "output_type": "stream",
     "text": [
      "CREATE_PENDING\n",
      "0\n",
      "CREATE_IN_PROGRESS\n",
      "30\n",
      "CREATE_IN_PROGRESS\n",
      "60\n",
      "CREATE_IN_PROGRESS\n",
      "90\n",
      "CREATE_IN_PROGRESS\n",
      "120\n",
      "CREATE_IN_PROGRESS\n",
      "150\n",
      "CREATE_IN_PROGRESS\n",
      "180\n",
      "CREATE_IN_PROGRESS\n",
      "210\n",
      "CREATE_IN_PROGRESS\n",
      "240\n",
      "CREATE_IN_PROGRESS\n",
      "270\n",
      "CREATE_IN_PROGRESS\n",
      "300\n",
      "CREATE_IN_PROGRESS\n",
      "330\n",
      "CREATE_IN_PROGRESS\n",
      "360\n",
      "CREATE_IN_PROGRESS\n",
      "390\n",
      "CREATE_IN_PROGRESS\n",
      "420\n",
      "CREATE_IN_PROGRESS\n",
      "450\n",
      "CREATE_IN_PROGRESS\n",
      "480\n",
      "CREATE_IN_PROGRESS\n",
      "510\n",
      "CREATE_IN_PROGRESS\n",
      "540\n",
      "CREATE_IN_PROGRESS\n",
      "570\n",
      "CREATE_IN_PROGRESS\n",
      "600\n",
      "CREATE_IN_PROGRESS\n",
      "630\n",
      "CREATE_IN_PROGRESS\n",
      "660\n",
      "CREATE_IN_PROGRESS\n",
      "690\n",
      "CREATE_IN_PROGRESS\n",
      "720\n",
      "CREATE_IN_PROGRESS\n",
      "750\n",
      "CREATE_IN_PROGRESS\n",
      "780\n",
      "CREATE_IN_PROGRESS\n",
      "810\n",
      "CREATE_IN_PROGRESS\n",
      "840\n",
      "CREATE_IN_PROGRESS\n",
      "870\n",
      "CREATE_IN_PROGRESS\n",
      "900\n",
      "CREATE_IN_PROGRESS\n",
      "930\n",
      "CREATE_IN_PROGRESS\n",
      "960\n",
      "CREATE_IN_PROGRESS\n",
      "990\n",
      "CREATE_IN_PROGRESS\n",
      "1020\n",
      "CREATE_IN_PROGRESS\n",
      "1050\n",
      "CREATE_IN_PROGRESS\n",
      "1080\n",
      "CREATE_IN_PROGRESS\n",
      "1110\n",
      "CREATE_IN_PROGRESS\n",
      "1140\n",
      "CREATE_IN_PROGRESS\n",
      "1170\n",
      "CREATE_IN_PROGRESS\n",
      "1200\n",
      "CREATE_IN_PROGRESS\n",
      "1230\n",
      "CREATE_IN_PROGRESS\n",
      "1260\n",
      "CREATE_IN_PROGRESS\n",
      "1290\n",
      "CREATE_IN_PROGRESS\n",
      "1320\n",
      "CREATE_IN_PROGRESS\n",
      "1350\n",
      "CREATE_IN_PROGRESS\n",
      "1380\n",
      "CREATE_IN_PROGRESS\n",
      "1410\n",
      "CREATE_IN_PROGRESS\n",
      "1440\n",
      "CREATE_IN_PROGRESS\n",
      "1470\n",
      "CREATE_IN_PROGRESS\n",
      "1500\n",
      "CREATE_IN_PROGRESS\n",
      "1530\n",
      "CREATE_IN_PROGRESS\n",
      "1560\n",
      "CREATE_IN_PROGRESS\n",
      "1590\n",
      "CREATE_IN_PROGRESS\n",
      "1620\n",
      "CREATE_IN_PROGRESS\n",
      "1650\n",
      "CREATE_IN_PROGRESS\n",
      "1680\n",
      "CREATE_IN_PROGRESS\n",
      "1710\n",
      "CREATE_IN_PROGRESS\n",
      "1740\n",
      "CREATE_IN_PROGRESS\n",
      "1770\n",
      "CREATE_IN_PROGRESS\n",
      "1800\n",
      "CREATE_IN_PROGRESS\n",
      "1830\n",
      "CREATE_IN_PROGRESS\n",
      "1860\n",
      "CREATE_IN_PROGRESS\n",
      "1890\n",
      "CREATE_IN_PROGRESS\n",
      "1920\n",
      "CREATE_IN_PROGRESS\n",
      "1950\n",
      "CREATE_IN_PROGRESS\n",
      "1980\n",
      "CREATE_IN_PROGRESS\n",
      "2010\n",
      "CREATE_IN_PROGRESS\n",
      "2040\n",
      "CREATE_IN_PROGRESS\n",
      "2070\n",
      "CREATE_IN_PROGRESS\n",
      "2100\n",
      "CREATE_IN_PROGRESS\n",
      "2130\n",
      "CREATE_IN_PROGRESS\n",
      "2160\n",
      "CREATE_IN_PROGRESS\n",
      "2190\n",
      "CREATE_IN_PROGRESS\n",
      "2220\n",
      "CREATE_IN_PROGRESS\n",
      "2250\n",
      "CREATE_IN_PROGRESS\n",
      "2280\n",
      "CREATE_IN_PROGRESS\n",
      "2310\n",
      "CREATE_IN_PROGRESS\n",
      "2340\n",
      "CREATE_IN_PROGRESS\n",
      "2370\n",
      "CREATE_IN_PROGRESS\n",
      "2400\n",
      "CREATE_IN_PROGRESS\n",
      "2430\n",
      "CREATE_IN_PROGRESS\n",
      "2460\n",
      "CREATE_IN_PROGRESS\n",
      "2490\n",
      "CREATE_IN_PROGRESS\n",
      "2520\n",
      "CREATE_IN_PROGRESS\n",
      "2550\n",
      "CREATE_IN_PROGRESS\n",
      "2580\n",
      "CREATE_IN_PROGRESS\n",
      "2610\n",
      "CREATE_IN_PROGRESS\n",
      "2640\n",
      "CREATE_IN_PROGRESS\n",
      "2670\n",
      "CREATE_IN_PROGRESS\n",
      "2700\n",
      "CREATE_IN_PROGRESS\n",
      "2730\n",
      "CREATE_IN_PROGRESS\n",
      "2760\n",
      "CREATE_IN_PROGRESS\n",
      "2790\n",
      "CREATE_IN_PROGRESS\n",
      "2820\n",
      "CREATE_IN_PROGRESS\n",
      "2850\n",
      "CREATE_IN_PROGRESS\n",
      "2880\n",
      "CREATE_IN_PROGRESS\n",
      "2910\n",
      "CREATE_IN_PROGRESS\n",
      "2940\n",
      "CREATE_IN_PROGRESS\n",
      "2970\n",
      "CREATE_IN_PROGRESS\n",
      "3000\n",
      "CREATE_IN_PROGRESS\n",
      "3030\n",
      "CREATE_IN_PROGRESS\n",
      "3060\n",
      "CREATE_IN_PROGRESS\n",
      "3090\n",
      "CREATE_IN_PROGRESS\n",
      "3120\n",
      "CREATE_IN_PROGRESS\n",
      "3150\n",
      "CREATE_IN_PROGRESS\n",
      "3180\n",
      "CREATE_IN_PROGRESS\n",
      "3210\n",
      "CREATE_IN_PROGRESS\n",
      "3240\n",
      "ACTIVE\n",
      "3270\n"
     ]
    }
   ],
   "source": [
    "forecast.describe_predictor(PredictorArn=predictor_arn_deep_ar)\n",
    "\n",
    "elapsed_time = 0\n",
    "while True:\n",
    "    predictorStatus = forecast.describe_predictor(PredictorArn=predictor_arn_deep_ar)['Status']\n",
    "    print(predictorStatus)\n",
    "    print(elapsed_time)\n",
    "    if predictorStatus != 'ACTIVE' and predictorStatus != 'CREATE_FAILED':\n",
    "        sleep(30)\n",
    "        elapsed_time = elapsed_time + 30\n",
    "    else:\n",
    "        break\n",
    "\n",
    "\n"
   ]
  },
  {
   "cell_type": "code",
   "execution_count": 320,
   "metadata": {},
   "outputs": [
    {
     "data": {
      "text/plain": [
       "{'PredictorArn': 'arn:aws:forecast:us-east-1:144386903708:predictor/DataEngineeringImersionDayHourly_deep_ar_plus',\n",
       " 'PredictorName': 'DataEngineeringImersionDayHourly_deep_ar_plus',\n",
       " 'AlgorithmArn': 'arn:aws:forecast:::algorithm/Deep_AR_Plus',\n",
       " 'ForecastHorizon': 192,\n",
       " 'PerformAutoML': False,\n",
       " 'PerformHPO': False,\n",
       " 'TrainingParameters': {'context_length': '384',\n",
       "  'epochs': '500',\n",
       "  'learning_rate': '1E-3',\n",
       "  'learning_rate_decay': '0.5',\n",
       "  'likelihood': 'student-t',\n",
       "  'max_learning_rate_decays': '0',\n",
       "  'num_averaged_models': '1',\n",
       "  'num_cells': '40',\n",
       "  'num_layers': '2',\n",
       "  'prediction_length': '192'},\n",
       " 'EvaluationParameters': {'NumberOfBacktestWindows': 1,\n",
       "  'BackTestWindowOffset': 192},\n",
       " 'InputDataConfig': {'DatasetGroupArn': 'arn:aws:forecast:us-east-1:144386903708:dataset-group/DataEngineeringImersionDayHourly_dsg'},\n",
       " 'FeaturizationConfig': {'ForecastFrequency': 'H',\n",
       "  'Featurizations': [{'AttributeName': 'target_value',\n",
       "    'FeaturizationPipeline': [{'FeaturizationMethodName': 'filling',\n",
       "      'FeaturizationMethodParameters': {'aggregation': 'sum',\n",
       "       'backfill': 'zero',\n",
       "       'frontfill': 'none',\n",
       "       'middlefill': 'zero'}}]}]},\n",
       " 'PredictorExecutionDetails': {'PredictorExecutions': [{'AlgorithmArn': 'arn:aws:forecast:::algorithm/Deep_AR_Plus',\n",
       "    'TestWindows': [{'TestWindowStart': datetime.datetime(2019, 12, 8, 19, 0, tzinfo=tzlocal()),\n",
       "      'TestWindowEnd': datetime.datetime(2019, 12, 16, 19, 0, tzinfo=tzlocal()),\n",
       "      'Status': 'ACTIVE'}]}]},\n",
       " 'DatasetImportJobArns': ['arn:aws:forecast:us-east-1:144386903708:dataset-import-job/DataEngineeringImersionDayHourly_tds/DataEngineeringImersionDayHourly_dsg'],\n",
       " 'AutoMLAlgorithmArns': ['arn:aws:forecast:::algorithm/Deep_AR_Plus'],\n",
       " 'Status': 'ACTIVE',\n",
       " 'CreationTime': datetime.datetime(2020, 2, 21, 23, 59, 36, 929000, tzinfo=tzlocal()),\n",
       " 'LastModificationTime': datetime.datetime(2020, 2, 22, 0, 54, 15, 136000, tzinfo=tzlocal()),\n",
       " 'ResponseMetadata': {'RequestId': 'e0b2ee97-a24f-4562-961b-462f68cb6c50',\n",
       "  'HTTPStatusCode': 200,\n",
       "  'HTTPHeaders': {'content-type': 'application/x-amz-json-1.1',\n",
       "   'date': 'Sat, 22 Feb 2020 00:56:27 GMT',\n",
       "   'x-amzn-requestid': 'e0b2ee97-a24f-4562-961b-462f68cb6c50',\n",
       "   'content-length': '1567',\n",
       "   'connection': 'keep-alive'},\n",
       "  'RetryAttempts': 0}}"
      ]
     },
     "execution_count": 320,
     "metadata": {},
     "output_type": "execute_result"
    }
   ],
   "source": [
    "forecast.describe_predictor(PredictorArn=predictor_arn_deep_ar)"
   ]
  },
  {
   "cell_type": "code",
   "execution_count": 321,
   "metadata": {},
   "outputs": [
    {
     "name": "stdout",
     "output_type": "stream",
     "text": [
      "{'PredictorEvaluationResults': [{'AlgorithmArn': 'arn:aws:forecast:::algorithm/Deep_AR_Plus',\n",
      "                                 'TestWindows': [{'EvaluationType': 'SUMMARY',\n",
      "                                                  'Metrics': {'RMSE': 32029.339687980748,\n",
      "                                                              'WeightedQuantileLosses': [{'LossValue': 0.4553806970138781,\n",
      "                                                                                          'Quantile': 0.9},\n",
      "                                                                                         {'LossValue': 0.27181310567634515,\n",
      "                                                                                          'Quantile': 0.5},\n",
      "                                                                                         {'LossValue': 0.05792610869611061,\n",
      "                                                                                          'Quantile': 0.1}]}},\n",
      "                                                 {'EvaluationType': 'COMPUTED',\n",
      "                                                  'ItemCount': 1,\n",
      "                                                  'Metrics': {'RMSE': 32029.339687980748,\n",
      "                                                              'WeightedQuantileLosses': [{'LossValue': 0.4553806970138781,\n",
      "                                                                                          'Quantile': 0.9},\n",
      "                                                                                         {'LossValue': 0.27181310567634515,\n",
      "                                                                                          'Quantile': 0.5},\n",
      "                                                                                         {'LossValue': 0.05792610869611061,\n",
      "                                                                                          'Quantile': 0.1}]},\n",
      "                                                  'TestWindowEnd': datetime.datetime(2019, 12, 16, 19, 0, tzinfo=tzlocal()),\n",
      "                                                  'TestWindowStart': datetime.datetime(2019, 12, 8, 19, 0, tzinfo=tzlocal())}]}],\n",
      " 'ResponseMetadata': {'HTTPHeaders': {'connection': 'keep-alive',\n",
      "                                      'content-length': '662',\n",
      "                                      'content-type': 'application/x-amz-json-1.1',\n",
      "                                      'date': 'Sat, 22 Feb 2020 00:56:35 GMT',\n",
      "                                      'x-amzn-requestid': '177c487a-9d35-4c20-972f-ed301c831ac1'},\n",
      "                      'HTTPStatusCode': 200,\n",
      "                      'RequestId': '177c487a-9d35-4c20-972f-ed301c831ac1',\n",
      "                      'RetryAttempts': 0}}\n"
     ]
    }
   ],
   "source": [
    "# DeepAR+ Metrics\n",
    "deeparn_metrics = forecast.get_accuracy_metrics(PredictorArn=predictor_arn_deep_ar)\n",
    "pp = pprint.PrettyPrinter()\n",
    "pp.pprint(deeparn_metrics)"
   ]
  },
  {
   "cell_type": "markdown",
   "metadata": {},
   "source": [
    "# Computing Error Metrics from Backtesting<a class=\"anchor\" id=\"error\">"
   ]
  },
  {
   "cell_type": "markdown",
   "metadata": {},
   "source": [
    "After creating the predictors, we can query the forecast accuracy given by the backtest scenario and have a quantitative understanding of the performance of the algorithm. Such a process is iterative in nature during model development. When an algorithm with satisfying performance is found, the customer can deploy the predictor into a production environment, and query the forecasts for a particular item to make business decisions. The figure below shows a sample plot of different quantile forecasts of a predictor."
   ]
  },
  {
   "cell_type": "code",
   "execution_count": 322,
   "metadata": {},
   "outputs": [
    {
     "name": "stdout",
     "output_type": "stream",
     "text": [
      "Done creating predictor. Getting accuracy numbers for DeepAR+ ...\n"
     ]
    }
   ],
   "source": [
    "print('Done creating predictor. Getting accuracy numbers for DeepAR+ ...')"
   ]
  },
  {
   "cell_type": "code",
   "execution_count": 323,
   "metadata": {},
   "outputs": [
    {
     "data": {
      "text/plain": [
       "{'PredictorEvaluationResults': [{'AlgorithmArn': 'arn:aws:forecast:::algorithm/Deep_AR_Plus',\n",
       "   'TestWindows': [{'EvaluationType': 'SUMMARY',\n",
       "     'Metrics': {'RMSE': 32029.339687980748,\n",
       "      'WeightedQuantileLosses': [{'Quantile': 0.9,\n",
       "        'LossValue': 0.4553806970138781},\n",
       "       {'Quantile': 0.5, 'LossValue': 0.27181310567634515},\n",
       "       {'Quantile': 0.1, 'LossValue': 0.05792610869611061}]}},\n",
       "    {'TestWindowStart': datetime.datetime(2019, 12, 8, 19, 0, tzinfo=tzlocal()),\n",
       "     'TestWindowEnd': datetime.datetime(2019, 12, 16, 19, 0, tzinfo=tzlocal()),\n",
       "     'ItemCount': 1,\n",
       "     'EvaluationType': 'COMPUTED',\n",
       "     'Metrics': {'RMSE': 32029.339687980748,\n",
       "      'WeightedQuantileLosses': [{'Quantile': 0.9,\n",
       "        'LossValue': 0.4553806970138781},\n",
       "       {'Quantile': 0.5, 'LossValue': 0.27181310567634515},\n",
       "       {'Quantile': 0.1, 'LossValue': 0.05792610869611061}]}}]}],\n",
       " 'ResponseMetadata': {'RequestId': '784eb81a-78a4-4ef7-a17a-69bd9cc35030',\n",
       "  'HTTPStatusCode': 200,\n",
       "  'HTTPHeaders': {'content-type': 'application/x-amz-json-1.1',\n",
       "   'date': 'Sat, 22 Feb 2020 00:56:42 GMT',\n",
       "   'x-amzn-requestid': '784eb81a-78a4-4ef7-a17a-69bd9cc35030',\n",
       "   'content-length': '662',\n",
       "   'connection': 'keep-alive'},\n",
       "  'RetryAttempts': 0}}"
      ]
     },
     "execution_count": 323,
     "metadata": {},
     "output_type": "execute_result"
    }
   ],
   "source": [
    "error_metrics_deep_ar = forecast.get_accuracy_metrics(PredictorArn=predictor_arn_deep_ar)\n",
    "error_metrics_deep_ar"
   ]
  },
  {
   "cell_type": "code",
   "execution_count": 324,
   "metadata": {},
   "outputs": [],
   "source": [
    "def extract_summary_metrics(metric_response, predictor_name):\n",
    "    df = pd.DataFrame(metric_response['PredictorEvaluationResults']\n",
    "                 [0]['TestWindows'][0]['Metrics']['WeightedQuantileLosses'])\n",
    "    df['Predictor'] = predictor_name\n",
    "    return df"
   ]
  },
  {
   "cell_type": "code",
   "execution_count": 325,
   "metadata": {},
   "outputs": [],
   "source": [
    "deep_ar_metrics = extract_summary_metrics(error_metrics_deep_ar, \"DeepAR\")"
   ]
  },
  {
   "cell_type": "code",
   "execution_count": 326,
   "metadata": {},
   "outputs": [
    {
     "data": {
      "image/png": "[encoded data removed]",
      "text/plain": [
       "<Figure size 1440x720 with 1 Axes>"
      ]
     },
     "metadata": {},
     "output_type": "display_data"
    }
   ],
   "source": [
    "pd.concat([deep_ar_metrics]) \\\n",
    "    .pivot(index='Quantile', columns='Predictor', values='LossValue').plot.bar();"
   ]
  },
  {
   "cell_type": "markdown",
   "metadata": {},
   "source": [
    "As we mentioned before, if you only have a handful of time series (in this case, only 1) with a small number of examples, the neural network models (DeepAR+) are not the best choice. Here, we clearly see that DeepAR+ behaves worse than Prophet in the case of a single time series. "
   ]
  },
  {
   "cell_type": "markdown",
   "metadata": {},
   "source": [
    "## Creating and Exporting Forecasts\n",
    "\n",
    "Inside Amazon Forecast a Forecast is a rendered collection of all of your items, at every time interval, for all selected quantiles, for your given forecast horizon. This process takes the Predictor you just created and uses it to generate these inferences and to store them in a useful state. Once a Forecast exists within the service you can query it and obtain a JSON response or use another API call to export it to a CSV that is stored in S3. \n",
    "\n",
    "This tutorial will focus on the S3 Export as that is often an easy way to manually explore the data with many tools.\n",
    "\n",
    "These again will take some time to complete after you have executed the cells so explore the console to see when they have completed.\n",
    "\n",
    "To do that visit the Amazon Forecast Service page, then clck your Dataset Group, and then click `Forecasts` on the left. They will say `Create in progress...` initially and then `Active` when ready for export."
   ]
  },
  {
   "cell_type": "code",
   "execution_count": null,
   "metadata": {},
   "outputs": [
    {
     "name": "stdout",
     "output_type": "stream",
     "text": [
      "arn:aws:forecast:us-east-1:144386903708:forecast/DataEngineeringImersionDayHourlydeep_ar_algo_forecast\n",
      "Forecast Status: CREATE_PENDING\n",
      "0\n",
      "Forecast Status: CREATE_IN_PROGRESS\n",
      "30\n",
      "Forecast Status: CREATE_IN_PROGRESS\n",
      "60\n",
      "Forecast Status: CREATE_IN_PROGRESS\n",
      "90\n",
      "Forecast Status: CREATE_IN_PROGRESS\n",
      "120\n",
      "Forecast Status: CREATE_IN_PROGRESS\n",
      "150\n",
      "Forecast Status: CREATE_IN_PROGRESS\n",
      "180\n",
      "Forecast Status: CREATE_IN_PROGRESS\n",
      "210\n",
      "Forecast Status: CREATE_IN_PROGRESS\n",
      "240\n",
      "Forecast Status: CREATE_IN_PROGRESS\n",
      "270\n",
      "Forecast Status: CREATE_IN_PROGRESS\n",
      "300\n",
      "Forecast Status: CREATE_IN_PROGRESS\n",
      "330\n",
      "Forecast Status: CREATE_IN_PROGRESS\n",
      "360\n",
      "Forecast Status: CREATE_IN_PROGRESS\n",
      "390\n",
      "Forecast Status: CREATE_IN_PROGRESS\n",
      "420\n",
      "Forecast Status: CREATE_IN_PROGRESS\n",
      "450\n",
      "Forecast Status: CREATE_IN_PROGRESS\n",
      "480\n",
      "Forecast Status: CREATE_IN_PROGRESS\n",
      "510\n",
      "Forecast Status: CREATE_IN_PROGRESS\n",
      "540\n",
      "Forecast Status: CREATE_IN_PROGRESS\n",
      "570\n",
      "Forecast Status: CREATE_IN_PROGRESS\n",
      "600\n",
      "Forecast Status: CREATE_IN_PROGRESS\n",
      "630\n",
      "Forecast Status: CREATE_IN_PROGRESS\n",
      "660\n",
      "Forecast Status: CREATE_IN_PROGRESS\n",
      "690\n",
      "Forecast Status: CREATE_IN_PROGRESS\n",
      "720\n",
      "Forecast Status: CREATE_IN_PROGRESS\n",
      "750\n",
      "Forecast Status: CREATE_IN_PROGRESS\n",
      "780\n",
      "Forecast Status: CREATE_IN_PROGRESS\n",
      "810\n",
      "Forecast Status: CREATE_IN_PROGRESS\n",
      "840\n",
      "Forecast Status: CREATE_IN_PROGRESS\n",
      "870\n",
      "Forecast Status: CREATE_IN_PROGRESS\n",
      "900\n",
      "Forecast Status: CREATE_IN_PROGRESS\n",
      "930\n",
      "Forecast Status: CREATE_IN_PROGRESS\n",
      "960\n",
      "Forecast Status: CREATE_IN_PROGRESS\n",
      "990\n",
      "Forecast Status: CREATE_IN_PROGRESS\n",
      "1020\n",
      "Forecast Status: CREATE_IN_PROGRESS\n",
      "1050\n",
      "Forecast Status: CREATE_IN_PROGRESS\n",
      "1080\n",
      "Forecast Status: CREATE_IN_PROGRESS\n",
      "1110\n",
      "Forecast Status: CREATE_IN_PROGRESS\n",
      "1140\n",
      "Forecast Status: CREATE_IN_PROGRESS\n",
      "1170\n",
      "Forecast Status: CREATE_IN_PROGRESS\n",
      "1200\n",
      "Forecast Status: CREATE_IN_PROGRESS\n",
      "1230\n",
      "Forecast Status: CREATE_IN_PROGRESS\n",
      "1260\n",
      "Forecast Status: CREATE_IN_PROGRESS\n",
      "1290\n",
      "Forecast Status: CREATE_IN_PROGRESS\n",
      "1320\n",
      "Forecast Status: CREATE_IN_PROGRESS\n",
      "1350\n",
      "Forecast Status: CREATE_IN_PROGRESS\n",
      "1380\n",
      "Forecast Status: CREATE_IN_PROGRESS\n",
      "1410\n",
      "Forecast Status: CREATE_IN_PROGRESS\n",
      "1440\n",
      "Forecast Status: CREATE_IN_PROGRESS\n",
      "1470\n",
      "Forecast Status: CREATE_IN_PROGRESS\n",
      "1500\n",
      "Forecast Status: CREATE_IN_PROGRESS\n",
      "1530\n",
      "Forecast Status: CREATE_IN_PROGRESS\n",
      "1560\n",
      "Forecast Status: CREATE_IN_PROGRESS\n",
      "1590\n",
      "Forecast Status: CREATE_IN_PROGRESS\n",
      "1620\n",
      "Forecast Status: CREATE_IN_PROGRESS\n",
      "1650\n",
      "Forecast Status: CREATE_IN_PROGRESS\n",
      "1680\n",
      "Forecast Status: CREATE_IN_PROGRESS\n",
      "1710\n",
      "Forecast Status: CREATE_IN_PROGRESS\n",
      "1740\n",
      "Forecast Status: CREATE_IN_PROGRESS\n",
      "1770\n",
      "Forecast Status: CREATE_IN_PROGRESS\n",
      "1800\n",
      "Forecast Status: CREATE_IN_PROGRESS\n",
      "1830\n",
      "Forecast Status: CREATE_IN_PROGRESS\n",
      "1860\n",
      "Forecast Status: CREATE_IN_PROGRESS\n",
      "1890\n",
      "Forecast Status: CREATE_IN_PROGRESS\n",
      "1920\n",
      "Forecast Status: CREATE_IN_PROGRESS\n",
      "1950\n",
      "Forecast Status: CREATE_IN_PROGRESS\n",
      "1980\n",
      "Forecast Status: CREATE_IN_PROGRESS\n",
      "2010\n",
      "Forecast Status: CREATE_IN_PROGRESS\n",
      "2040\n",
      "Forecast Status: CREATE_IN_PROGRESS\n",
      "2070\n",
      "Forecast Status: CREATE_IN_PROGRESS\n",
      "2100\n",
      "Forecast Status: CREATE_IN_PROGRESS\n",
      "2130\n",
      "Forecast Status: CREATE_IN_PROGRESS\n",
      "2160\n",
      "Forecast Status: CREATE_IN_PROGRESS\n",
      "2190\n",
      "Forecast Status: CREATE_IN_PROGRESS\n",
      "2220\n",
      "Forecast Status: CREATE_IN_PROGRESS\n",
      "2250\n",
      "Forecast Status: CREATE_IN_PROGRESS\n",
      "2280\n",
      "Forecast Status: CREATE_IN_PROGRESS\n",
      "2310\n",
      "Forecast Status: CREATE_IN_PROGRESS\n",
      "2340\n",
      "Forecast Status: CREATE_IN_PROGRESS\n",
      "2370\n",
      "Forecast Status: CREATE_IN_PROGRESS\n",
      "2400\n",
      "Forecast Status: CREATE_IN_PROGRESS\n",
      "2430\n",
      "Forecast Status: CREATE_IN_PROGRESS\n",
      "2460\n",
      "Forecast Status: CREATE_IN_PROGRESS\n",
      "2490\n",
      "Forecast Status: CREATE_IN_PROGRESS\n",
      "2520\n",
      "Forecast Status: CREATE_IN_PROGRESS\n",
      "2550\n",
      "Forecast Status: CREATE_IN_PROGRESS\n",
      "2580\n",
      "Forecast Status: CREATE_IN_PROGRESS\n",
      "2610\n",
      "Forecast Status: CREATE_IN_PROGRESS\n",
      "2640\n",
      "Forecast Status: CREATE_IN_PROGRESS\n",
      "2670\n",
      "Forecast Status: CREATE_IN_PROGRESS\n",
      "2700\n",
      "Forecast Status: CREATE_IN_PROGRESS\n",
      "2730\n",
      "Forecast Status: CREATE_IN_PROGRESS\n",
      "2760\n",
      "Forecast Status: CREATE_IN_PROGRESS\n",
      "2790\n",
      "Forecast Status: CREATE_IN_PROGRESS\n",
      "2820\n",
      "Forecast Status: CREATE_IN_PROGRESS\n",
      "2850\n",
      "Forecast Status: ACTIVE\n",
      "2880\n"
     ]
    }
   ],
   "source": [
    "#DeepAR+\n",
    "\n",
    "deep_ar_forecastName = project + 'deep_ar_algo_forecast'\n",
    "deep_ar_create_forecast_response = forecast.create_forecast(ForecastName=deep_ar_forecastName,\n",
    "                                                           PredictorArn=predictor_arn_deep_ar)\n",
    "deep_ar_forecast_arn = deep_ar_create_forecast_response['ForecastArn']\n",
    "print(deep_ar_forecast_arn)\n",
    "\n",
    "elapsed_time = 0\n",
    "while True:\n",
    "    forecastStatus = forecast.describe_forecast(ForecastArn=deep_ar_forecast_arn)['Status']\n",
    "    print(\"Forecast Status: \" + forecastStatus)\n",
    "    print(elapsed_time)\n",
    "    if forecastStatus != 'ACTIVE' and forecastStatus != 'CREATE_FAILED':\n",
    "        sleep(30)\n",
    "        elapsed_time = elapsed_time + 30\n",
    "    else:\n",
    "        break\n",
    "\n"
   ]
  },
  {
   "cell_type": "markdown",
   "metadata": {},
   "source": [
    "Now go wait about **30 minutes** for this to complete in the console so that it can be exported and we can look for opportunities within the market."
   ]
  },
  {
   "cell_type": "code",
   "execution_count": 328,
   "metadata": {},
   "outputs": [
    {
     "data": {
      "text/plain": [
       "{'ForecastExportJobArn': 'arn:aws:forecast:us-east-1:144386903708:forecast-export-job/DataEngineeringImersionDayHourlydeep_ar_algo_forecast/dataengineering_deep_ar_algo_forecast',\n",
       " 'ResponseMetadata': {'RequestId': '6dd14857-0bfd-432e-96d2-827f3208b0e4',\n",
       "  'HTTPStatusCode': 200,\n",
       "  'HTTPHeaders': {'content-type': 'application/x-amz-json-1.1',\n",
       "   'date': 'Sat, 22 Feb 2020 01:45:06 GMT',\n",
       "   'x-amzn-requestid': '6dd14857-0bfd-432e-96d2-827f3208b0e4',\n",
       "   'content-length': '178',\n",
       "   'connection': 'keep-alive'},\n",
       "  'RetryAttempts': 0}}"
      ]
     },
     "execution_count": 328,
     "metadata": {},
     "output_type": "execute_result"
    }
   ],
   "source": [
    "deep_ar_path = \"s3://\" + bucket_name + \"/DeepAR\"\n",
    "deep_ar_job_name = \"dataengineering_deep_ar_algo_forecast\"\n",
    "forecast.create_forecast_export_job(ForecastExportJobName=deep_ar_job_name,\n",
    "                                    ForecastArn=deep_ar_forecast_arn,\n",
    "                                    Destination={\n",
    "                                        \"S3Config\": {\n",
    "                                            \"Path\": deep_ar_path,\n",
    "                                            \"RoleArn\": role_arn\n",
    "                                        }\n",
    "                                    })"
   ]
  },
  {
   "cell_type": "markdown",
   "metadata": {},
   "source": [
    "This exporting process is another one of those items that will take **5 minutes** to complete. Just poll for progress in the console. From the earlier page where you saw the status turn `Active` for a Forecast, click it and you can see the progress of the export."
   ]
  },
  {
   "cell_type": "markdown",
   "metadata": {},
   "source": [
    "### Obtaining the Forecasts\n",
    "\n",
    "At this point they are all exported into S3 but you need to obtain the results locally so we can explore them, the cells below will do that."
   ]
  },
  {
   "cell_type": "code",
   "execution_count": 337,
   "metadata": {},
   "outputs": [
    {
     "name": "stdout",
     "output_type": "stream",
     "text": [
      "dataengineering_deep_ar_algo_forecast_2020-02-22T01-46-22Z_part0.csv\n"
     ]
    }
   ],
   "source": [
    "\n",
    "\n",
    "s3 = boto3.resource('s3')\n",
    "poc_bucket = s3.Bucket(bucket_name)\n",
    "deep_ar_filename = \"\"\n",
    "deep_ar_files = list(poc_bucket.objects.filter(Prefix=\"DeepAR\"))\n",
    "for file in deep_ar_files:\n",
    "    #There will be a collection of CSVs if the forecast is large, modify this to go get them all\n",
    "    if \"csv\" in file.key:\n",
    "        deep_ar_filename = file.key.split('/')[1]\n",
    "        s3.Bucket(bucket_name).download_file(file.key, data_dir+\"/\"+deep_ar_filename)\n",
    "print(deep_ar_filename)\n"
   ]
  },
  {
   "cell_type": "code",
   "execution_count": 353,
   "metadata": {},
   "outputs": [
    {
     "data": {
      "text/plain": [
       "<matplotlib.axes._subplots.AxesSubplot at 0x7f2a6a77c3c8>"
      ]
     },
     "execution_count": 353,
     "metadata": {},
     "output_type": "execute_result"
    },
    {
     "data": {
      "image/png": "[encoded data removed]",
      "text/plain": [
       "<Figure size 1440x720 with 1 Axes>"
      ]
     },
     "metadata": {},
     "output_type": "display_data"
    }
   ],
   "source": [
    "# DeepAR+ Eval\n",
    "\n",
    "deep_ar_predicts = pd.read_csv(data_dir+\"/\"+deep_ar_filename)\n",
    "deep_ar_predicts.sample()\n",
    "\n",
    "# Remove the timezone\n",
    "\n",
    "deep_ar_predicts['date'] = pd.to_datetime(deep_ar_predicts['date'])\n",
    "deep_ar_predicts['date'] = deep_ar_predicts['date'].dt.tz_convert(None)\n",
    "deep_ar_predicts.set_index('date',inplace=True)\n",
    "deep_ar_predicts = deep_ar_predicts[['p10','p50','p90']]\n",
    "\n",
    "deep_ar_predicts.plot()\n",
    "# Finally let us join the dataframes together\n",
    "\n",
    "\n"
   ]
  },
  {
   "cell_type": "code",
   "execution_count": 339,
   "metadata": {},
   "outputs": [
    {
     "data": {
      "text/plain": [
       "<matplotlib.axes._subplots.AxesSubplot at 0x7f2a6aec8f98>"
      ]
     },
     "execution_count": 339,
     "metadata": {},
     "output_type": "execute_result"
    },
    {
     "data": {
      "image/png": "[encoded data removed]",
      "text/plain": [
       "<Figure size 1440x720 with 1 Axes>"
      ]
     },
     "metadata": {},
     "output_type": "display_data"
    }
   ],
   "source": [
    "ticket_df.plot()"
   ]
  },
  {
   "cell_type": "code",
   "execution_count": 382,
   "metadata": {},
   "outputs": [
    {
     "data": {
      "text/plain": [
       "<matplotlib.axes._subplots.AxesSubplot at 0x7f2a71c8c0f0>"
      ]
     },
     "execution_count": 382,
     "metadata": {},
     "output_type": "execute_result"
    },
    {
     "data": {
      "image/png": "[encoded data removed]",
      "text/plain": [
       "<Figure size 1440x720 with 1 Axes>"
      ]
     },
     "metadata": {},
     "output_type": "display_data"
    }
   ],
   "source": [
    "# Lets make a copy of the \n",
    "visualization = ticket_df.copy()\n",
    "deeparvis = deep_ar_predicts.copy()\n",
    "\n",
    "visualization = deeparvis.join(visualization, how='outer')\n",
    "visualization.plot()"
   ]
  },
  {
   "cell_type": "code",
   "execution_count": 384,
   "metadata": {},
   "outputs": [
    {
     "data": {
      "text/plain": [
       "<matplotlib.axes._subplots.AxesSubplot at 0x7f2a718bd198>"
      ]
     },
     "execution_count": 384,
     "metadata": {},
     "output_type": "execute_result"
    },
    {
     "data": {
      "image/png": "[encoded data removed]",
      "text/plain": [
       "<Figure size 1440x720 with 1 Axes>"
      ]
     },
     "metadata": {},
     "output_type": "display_data"
    }
   ],
   "source": [
    "visualization['2019-10-01 00:00:00':].plot()"
   ]
  },
  {
   "cell_type": "code",
   "execution_count": 380,
   "metadata": {},
   "outputs": [
    {
     "data": {
      "text/html": [
       "<div>\n",
       "<style scoped>\n",
       "    .dataframe tbody tr th:only-of-type {\n",
       "        vertical-align: middle;\n",
       "    }\n",
       "\n",
       "    .dataframe tbody tr th {\n",
       "        vertical-align: top;\n",
       "    }\n",
       "\n",
       "    .dataframe thead th {\n",
       "        text-align: right;\n",
       "    }\n",
       "</style>\n",
       "<table border=\"1\" class=\"dataframe\">\n",
       "  <thead>\n",
       "    <tr style=\"text-align: right;\">\n",
       "      <th></th>\n",
       "      <th>p10</th>\n",
       "      <th>p50</th>\n",
       "      <th>p90</th>\n",
       "      <th>ticket_count</th>\n",
       "    </tr>\n",
       "  </thead>\n",
       "  <tbody>\n",
       "    <tr>\n",
       "      <th>2019-12-16 00:00:00</th>\n",
       "      <td>NaN</td>\n",
       "      <td>NaN</td>\n",
       "      <td>NaN</td>\n",
       "      <td>108342.254844</td>\n",
       "    </tr>\n",
       "    <tr>\n",
       "      <th>2019-12-16 01:00:00</th>\n",
       "      <td>NaN</td>\n",
       "      <td>NaN</td>\n",
       "      <td>NaN</td>\n",
       "      <td>108370.740686</td>\n",
       "    </tr>\n",
       "    <tr>\n",
       "      <th>2019-12-16 02:00:00</th>\n",
       "      <td>NaN</td>\n",
       "      <td>NaN</td>\n",
       "      <td>NaN</td>\n",
       "      <td>108399.226528</td>\n",
       "    </tr>\n",
       "    <tr>\n",
       "      <th>2019-12-16 03:00:00</th>\n",
       "      <td>NaN</td>\n",
       "      <td>NaN</td>\n",
       "      <td>NaN</td>\n",
       "      <td>108427.712370</td>\n",
       "    </tr>\n",
       "    <tr>\n",
       "      <th>2019-12-16 04:00:00</th>\n",
       "      <td>NaN</td>\n",
       "      <td>NaN</td>\n",
       "      <td>NaN</td>\n",
       "      <td>108456.198212</td>\n",
       "    </tr>\n",
       "    <tr>\n",
       "      <th>2019-12-16 05:00:00</th>\n",
       "      <td>NaN</td>\n",
       "      <td>NaN</td>\n",
       "      <td>NaN</td>\n",
       "      <td>108484.684054</td>\n",
       "    </tr>\n",
       "    <tr>\n",
       "      <th>2019-12-16 06:00:00</th>\n",
       "      <td>NaN</td>\n",
       "      <td>NaN</td>\n",
       "      <td>NaN</td>\n",
       "      <td>108513.169896</td>\n",
       "    </tr>\n",
       "    <tr>\n",
       "      <th>2019-12-16 07:00:00</th>\n",
       "      <td>NaN</td>\n",
       "      <td>NaN</td>\n",
       "      <td>NaN</td>\n",
       "      <td>108541.655738</td>\n",
       "    </tr>\n",
       "    <tr>\n",
       "      <th>2019-12-16 08:00:00</th>\n",
       "      <td>NaN</td>\n",
       "      <td>NaN</td>\n",
       "      <td>NaN</td>\n",
       "      <td>108570.141580</td>\n",
       "    </tr>\n",
       "    <tr>\n",
       "      <th>2019-12-16 09:00:00</th>\n",
       "      <td>NaN</td>\n",
       "      <td>NaN</td>\n",
       "      <td>NaN</td>\n",
       "      <td>108598.627422</td>\n",
       "    </tr>\n",
       "    <tr>\n",
       "      <th>2019-12-16 10:00:00</th>\n",
       "      <td>NaN</td>\n",
       "      <td>NaN</td>\n",
       "      <td>NaN</td>\n",
       "      <td>108627.113264</td>\n",
       "    </tr>\n",
       "    <tr>\n",
       "      <th>2019-12-16 11:00:00</th>\n",
       "      <td>NaN</td>\n",
       "      <td>NaN</td>\n",
       "      <td>NaN</td>\n",
       "      <td>108655.599106</td>\n",
       "    </tr>\n",
       "    <tr>\n",
       "      <th>2019-12-16 12:00:00</th>\n",
       "      <td>NaN</td>\n",
       "      <td>NaN</td>\n",
       "      <td>NaN</td>\n",
       "      <td>108684.084948</td>\n",
       "    </tr>\n",
       "    <tr>\n",
       "      <th>2019-12-16 13:00:00</th>\n",
       "      <td>NaN</td>\n",
       "      <td>NaN</td>\n",
       "      <td>NaN</td>\n",
       "      <td>108712.570790</td>\n",
       "    </tr>\n",
       "    <tr>\n",
       "      <th>2019-12-16 14:00:00</th>\n",
       "      <td>NaN</td>\n",
       "      <td>NaN</td>\n",
       "      <td>NaN</td>\n",
       "      <td>108741.056632</td>\n",
       "    </tr>\n",
       "    <tr>\n",
       "      <th>2019-12-16 15:00:00</th>\n",
       "      <td>NaN</td>\n",
       "      <td>NaN</td>\n",
       "      <td>NaN</td>\n",
       "      <td>108769.542474</td>\n",
       "    </tr>\n",
       "    <tr>\n",
       "      <th>2019-12-16 16:00:00</th>\n",
       "      <td>NaN</td>\n",
       "      <td>NaN</td>\n",
       "      <td>NaN</td>\n",
       "      <td>108798.028316</td>\n",
       "    </tr>\n",
       "    <tr>\n",
       "      <th>2019-12-16 17:00:00</th>\n",
       "      <td>NaN</td>\n",
       "      <td>NaN</td>\n",
       "      <td>NaN</td>\n",
       "      <td>108826.514158</td>\n",
       "    </tr>\n",
       "    <tr>\n",
       "      <th>2019-12-16 18:00:00</th>\n",
       "      <td>NaN</td>\n",
       "      <td>NaN</td>\n",
       "      <td>NaN</td>\n",
       "      <td>108855.000000</td>\n",
       "    </tr>\n",
       "    <tr>\n",
       "      <th>2019-12-16 19:00:00</th>\n",
       "      <td>102161.210938</td>\n",
       "      <td>104241.070312</td>\n",
       "      <td>105953.359375</td>\n",
       "      <td>NaN</td>\n",
       "    </tr>\n",
       "    <tr>\n",
       "      <th>2019-12-16 20:00:00</th>\n",
       "      <td>101513.179688</td>\n",
       "      <td>103714.039062</td>\n",
       "      <td>105097.078125</td>\n",
       "      <td>NaN</td>\n",
       "    </tr>\n",
       "    <tr>\n",
       "      <th>2019-12-16 21:00:00</th>\n",
       "      <td>101024.429688</td>\n",
       "      <td>103063.476562</td>\n",
       "      <td>105094.601562</td>\n",
       "      <td>NaN</td>\n",
       "    </tr>\n",
       "    <tr>\n",
       "      <th>2019-12-16 22:00:00</th>\n",
       "      <td>100345.257812</td>\n",
       "      <td>102460.804688</td>\n",
       "      <td>104354.546875</td>\n",
       "      <td>NaN</td>\n",
       "    </tr>\n",
       "    <tr>\n",
       "      <th>2019-12-16 23:00:00</th>\n",
       "      <td>99683.750000</td>\n",
       "      <td>101684.273438</td>\n",
       "      <td>103271.203125</td>\n",
       "      <td>NaN</td>\n",
       "    </tr>\n",
       "    <tr>\n",
       "      <th>2019-12-17 00:00:00</th>\n",
       "      <td>98907.242188</td>\n",
       "      <td>100884.796875</td>\n",
       "      <td>103160.570312</td>\n",
       "      <td>NaN</td>\n",
       "    </tr>\n",
       "    <tr>\n",
       "      <th>2019-12-17 01:00:00</th>\n",
       "      <td>98777.609375</td>\n",
       "      <td>100255.742188</td>\n",
       "      <td>102872.664062</td>\n",
       "      <td>NaN</td>\n",
       "    </tr>\n",
       "    <tr>\n",
       "      <th>2019-12-17 02:00:00</th>\n",
       "      <td>97377.734375</td>\n",
       "      <td>99609.601562</td>\n",
       "      <td>101853.593750</td>\n",
       "      <td>NaN</td>\n",
       "    </tr>\n",
       "    <tr>\n",
       "      <th>2019-12-17 03:00:00</th>\n",
       "      <td>96400.773438</td>\n",
       "      <td>98780.531250</td>\n",
       "      <td>101411.187500</td>\n",
       "      <td>NaN</td>\n",
       "    </tr>\n",
       "    <tr>\n",
       "      <th>2019-12-17 04:00:00</th>\n",
       "      <td>96242.335938</td>\n",
       "      <td>98455.953125</td>\n",
       "      <td>100218.531250</td>\n",
       "      <td>NaN</td>\n",
       "    </tr>\n",
       "    <tr>\n",
       "      <th>2019-12-17 05:00:00</th>\n",
       "      <td>95398.710938</td>\n",
       "      <td>97664.718750</td>\n",
       "      <td>99545.359375</td>\n",
       "      <td>NaN</td>\n",
       "    </tr>\n",
       "    <tr>\n",
       "      <th>...</th>\n",
       "      <td>...</td>\n",
       "      <td>...</td>\n",
       "      <td>...</td>\n",
       "      <td>...</td>\n",
       "    </tr>\n",
       "    <tr>\n",
       "      <th>2019-12-17 19:00:00</th>\n",
       "      <td>90320.515625</td>\n",
       "      <td>92861.789062</td>\n",
       "      <td>94645.929688</td>\n",
       "      <td>NaN</td>\n",
       "    </tr>\n",
       "    <tr>\n",
       "      <th>2019-12-17 20:00:00</th>\n",
       "      <td>89642.328125</td>\n",
       "      <td>91675.007812</td>\n",
       "      <td>93682.835938</td>\n",
       "      <td>NaN</td>\n",
       "    </tr>\n",
       "    <tr>\n",
       "      <th>2019-12-17 21:00:00</th>\n",
       "      <td>89348.093750</td>\n",
       "      <td>91056.437500</td>\n",
       "      <td>93531.804688</td>\n",
       "      <td>NaN</td>\n",
       "    </tr>\n",
       "    <tr>\n",
       "      <th>2019-12-17 22:00:00</th>\n",
       "      <td>88535.132812</td>\n",
       "      <td>90712.125000</td>\n",
       "      <td>93150.367188</td>\n",
       "      <td>NaN</td>\n",
       "    </tr>\n",
       "    <tr>\n",
       "      <th>2019-12-17 23:00:00</th>\n",
       "      <td>88040.414062</td>\n",
       "      <td>90542.398438</td>\n",
       "      <td>93090.148438</td>\n",
       "      <td>NaN</td>\n",
       "    </tr>\n",
       "    <tr>\n",
       "      <th>2019-12-18 00:00:00</th>\n",
       "      <td>88209.960938</td>\n",
       "      <td>90337.375000</td>\n",
       "      <td>92764.656250</td>\n",
       "      <td>NaN</td>\n",
       "    </tr>\n",
       "    <tr>\n",
       "      <th>2019-12-18 01:00:00</th>\n",
       "      <td>87369.609375</td>\n",
       "      <td>89564.398438</td>\n",
       "      <td>92097.570312</td>\n",
       "      <td>NaN</td>\n",
       "    </tr>\n",
       "    <tr>\n",
       "      <th>2019-12-18 02:00:00</th>\n",
       "      <td>86838.492188</td>\n",
       "      <td>89214.375000</td>\n",
       "      <td>91687.226562</td>\n",
       "      <td>NaN</td>\n",
       "    </tr>\n",
       "    <tr>\n",
       "      <th>2019-12-18 03:00:00</th>\n",
       "      <td>86596.125000</td>\n",
       "      <td>89170.078125</td>\n",
       "      <td>91408.609375</td>\n",
       "      <td>NaN</td>\n",
       "    </tr>\n",
       "    <tr>\n",
       "      <th>2019-12-18 04:00:00</th>\n",
       "      <td>85984.421875</td>\n",
       "      <td>88432.695312</td>\n",
       "      <td>91533.750000</td>\n",
       "      <td>NaN</td>\n",
       "    </tr>\n",
       "    <tr>\n",
       "      <th>2019-12-18 05:00:00</th>\n",
       "      <td>86121.210938</td>\n",
       "      <td>88135.921875</td>\n",
       "      <td>90360.648438</td>\n",
       "      <td>NaN</td>\n",
       "    </tr>\n",
       "    <tr>\n",
       "      <th>2019-12-18 06:00:00</th>\n",
       "      <td>84998.187500</td>\n",
       "      <td>87786.531250</td>\n",
       "      <td>90041.812500</td>\n",
       "      <td>NaN</td>\n",
       "    </tr>\n",
       "    <tr>\n",
       "      <th>2019-12-18 07:00:00</th>\n",
       "      <td>84869.500000</td>\n",
       "      <td>87146.445312</td>\n",
       "      <td>89612.328125</td>\n",
       "      <td>NaN</td>\n",
       "    </tr>\n",
       "    <tr>\n",
       "      <th>2019-12-18 08:00:00</th>\n",
       "      <td>84334.882812</td>\n",
       "      <td>86903.632812</td>\n",
       "      <td>89250.742188</td>\n",
       "      <td>NaN</td>\n",
       "    </tr>\n",
       "    <tr>\n",
       "      <th>2019-12-18 09:00:00</th>\n",
       "      <td>84523.929688</td>\n",
       "      <td>86263.929688</td>\n",
       "      <td>88684.921875</td>\n",
       "      <td>NaN</td>\n",
       "    </tr>\n",
       "    <tr>\n",
       "      <th>2019-12-18 10:00:00</th>\n",
       "      <td>83355.703125</td>\n",
       "      <td>86226.929688</td>\n",
       "      <td>88554.531250</td>\n",
       "      <td>NaN</td>\n",
       "    </tr>\n",
       "    <tr>\n",
       "      <th>2019-12-18 11:00:00</th>\n",
       "      <td>83821.671875</td>\n",
       "      <td>85963.156250</td>\n",
       "      <td>88736.882812</td>\n",
       "      <td>NaN</td>\n",
       "    </tr>\n",
       "    <tr>\n",
       "      <th>2019-12-18 12:00:00</th>\n",
       "      <td>82910.523438</td>\n",
       "      <td>85306.617188</td>\n",
       "      <td>88419.796875</td>\n",
       "      <td>NaN</td>\n",
       "    </tr>\n",
       "    <tr>\n",
       "      <th>2019-12-18 13:00:00</th>\n",
       "      <td>82237.101562</td>\n",
       "      <td>85029.375000</td>\n",
       "      <td>87243.210938</td>\n",
       "      <td>NaN</td>\n",
       "    </tr>\n",
       "    <tr>\n",
       "      <th>2019-12-18 14:00:00</th>\n",
       "      <td>82416.117188</td>\n",
       "      <td>84459.929688</td>\n",
       "      <td>87193.484375</td>\n",
       "      <td>NaN</td>\n",
       "    </tr>\n",
       "    <tr>\n",
       "      <th>2019-12-18 15:00:00</th>\n",
       "      <td>82692.773438</td>\n",
       "      <td>84503.296875</td>\n",
       "      <td>86610.031250</td>\n",
       "      <td>NaN</td>\n",
       "    </tr>\n",
       "    <tr>\n",
       "      <th>2019-12-18 16:00:00</th>\n",
       "      <td>81775.929688</td>\n",
       "      <td>84351.898438</td>\n",
       "      <td>86635.843750</td>\n",
       "      <td>NaN</td>\n",
       "    </tr>\n",
       "    <tr>\n",
       "      <th>2019-12-18 17:00:00</th>\n",
       "      <td>81289.718750</td>\n",
       "      <td>83722.523438</td>\n",
       "      <td>86951.921875</td>\n",
       "      <td>NaN</td>\n",
       "    </tr>\n",
       "    <tr>\n",
       "      <th>2019-12-18 18:00:00</th>\n",
       "      <td>80584.632812</td>\n",
       "      <td>83492.671875</td>\n",
       "      <td>86036.968750</td>\n",
       "      <td>NaN</td>\n",
       "    </tr>\n",
       "    <tr>\n",
       "      <th>2019-12-18 19:00:00</th>\n",
       "      <td>80560.312500</td>\n",
       "      <td>83521.070312</td>\n",
       "      <td>85629.617188</td>\n",
       "      <td>NaN</td>\n",
       "    </tr>\n",
       "    <tr>\n",
       "      <th>2019-12-18 20:00:00</th>\n",
       "      <td>80119.507812</td>\n",
       "      <td>82873.773438</td>\n",
       "      <td>85769.914062</td>\n",
       "      <td>NaN</td>\n",
       "    </tr>\n",
       "    <tr>\n",
       "      <th>2019-12-18 21:00:00</th>\n",
       "      <td>79863.070312</td>\n",
       "      <td>82344.031250</td>\n",
       "      <td>85065.484375</td>\n",
       "      <td>NaN</td>\n",
       "    </tr>\n",
       "    <tr>\n",
       "      <th>2019-12-18 22:00:00</th>\n",
       "      <td>79392.218750</td>\n",
       "      <td>82082.882812</td>\n",
       "      <td>84338.929688</td>\n",
       "      <td>NaN</td>\n",
       "    </tr>\n",
       "    <tr>\n",
       "      <th>2019-12-18 23:00:00</th>\n",
       "      <td>78824.750000</td>\n",
       "      <td>81631.921875</td>\n",
       "      <td>84093.257812</td>\n",
       "      <td>NaN</td>\n",
       "    </tr>\n",
       "    <tr>\n",
       "      <th>2019-12-19 00:00:00</th>\n",
       "      <td>78727.859375</td>\n",
       "      <td>81096.882812</td>\n",
       "      <td>83851.789062</td>\n",
       "      <td>NaN</td>\n",
       "    </tr>\n",
       "  </tbody>\n",
       "</table>\n",
       "<p>73 rows × 4 columns</p>\n",
       "</div>"
      ],
      "text/plain": [
       "                               p10            p50            p90  \\\n",
       "2019-12-16 00:00:00            NaN            NaN            NaN   \n",
       "2019-12-16 01:00:00            NaN            NaN            NaN   \n",
       "2019-12-16 02:00:00            NaN            NaN            NaN   \n",
       "2019-12-16 03:00:00            NaN            NaN            NaN   \n",
       "2019-12-16 04:00:00            NaN            NaN            NaN   \n",
       "2019-12-16 05:00:00            NaN            NaN            NaN   \n",
       "2019-12-16 06:00:00            NaN            NaN            NaN   \n",
       "2019-12-16 07:00:00            NaN            NaN            NaN   \n",
       "2019-12-16 08:00:00            NaN            NaN            NaN   \n",
       "2019-12-16 09:00:00            NaN            NaN            NaN   \n",
       "2019-12-16 10:00:00            NaN            NaN            NaN   \n",
       "2019-12-16 11:00:00            NaN            NaN            NaN   \n",
       "2019-12-16 12:00:00            NaN            NaN            NaN   \n",
       "2019-12-16 13:00:00            NaN            NaN            NaN   \n",
       "2019-12-16 14:00:00            NaN            NaN            NaN   \n",
       "2019-12-16 15:00:00            NaN            NaN            NaN   \n",
       "2019-12-16 16:00:00            NaN            NaN            NaN   \n",
       "2019-12-16 17:00:00            NaN            NaN            NaN   \n",
       "2019-12-16 18:00:00            NaN            NaN            NaN   \n",
       "2019-12-16 19:00:00  102161.210938  104241.070312  105953.359375   \n",
       "2019-12-16 20:00:00  101513.179688  103714.039062  105097.078125   \n",
       "2019-12-16 21:00:00  101024.429688  103063.476562  105094.601562   \n",
       "2019-12-16 22:00:00  100345.257812  102460.804688  104354.546875   \n",
       "2019-12-16 23:00:00   99683.750000  101684.273438  103271.203125   \n",
       "2019-12-17 00:00:00   98907.242188  100884.796875  103160.570312   \n",
       "2019-12-17 01:00:00   98777.609375  100255.742188  102872.664062   \n",
       "2019-12-17 02:00:00   97377.734375   99609.601562  101853.593750   \n",
       "2019-12-17 03:00:00   96400.773438   98780.531250  101411.187500   \n",
       "2019-12-17 04:00:00   96242.335938   98455.953125  100218.531250   \n",
       "2019-12-17 05:00:00   95398.710938   97664.718750   99545.359375   \n",
       "...                            ...            ...            ...   \n",
       "2019-12-17 19:00:00   90320.515625   92861.789062   94645.929688   \n",
       "2019-12-17 20:00:00   89642.328125   91675.007812   93682.835938   \n",
       "2019-12-17 21:00:00   89348.093750   91056.437500   93531.804688   \n",
       "2019-12-17 22:00:00   88535.132812   90712.125000   93150.367188   \n",
       "2019-12-17 23:00:00   88040.414062   90542.398438   93090.148438   \n",
       "2019-12-18 00:00:00   88209.960938   90337.375000   92764.656250   \n",
       "2019-12-18 01:00:00   87369.609375   89564.398438   92097.570312   \n",
       "2019-12-18 02:00:00   86838.492188   89214.375000   91687.226562   \n",
       "2019-12-18 03:00:00   86596.125000   89170.078125   91408.609375   \n",
       "2019-12-18 04:00:00   85984.421875   88432.695312   91533.750000   \n",
       "2019-12-18 05:00:00   86121.210938   88135.921875   90360.648438   \n",
       "2019-12-18 06:00:00   84998.187500   87786.531250   90041.812500   \n",
       "2019-12-18 07:00:00   84869.500000   87146.445312   89612.328125   \n",
       "2019-12-18 08:00:00   84334.882812   86903.632812   89250.742188   \n",
       "2019-12-18 09:00:00   84523.929688   86263.929688   88684.921875   \n",
       "2019-12-18 10:00:00   83355.703125   86226.929688   88554.531250   \n",
       "2019-12-18 11:00:00   83821.671875   85963.156250   88736.882812   \n",
       "2019-12-18 12:00:00   82910.523438   85306.617188   88419.796875   \n",
       "2019-12-18 13:00:00   82237.101562   85029.375000   87243.210938   \n",
       "2019-12-18 14:00:00   82416.117188   84459.929688   87193.484375   \n",
       "2019-12-18 15:00:00   82692.773438   84503.296875   86610.031250   \n",
       "2019-12-18 16:00:00   81775.929688   84351.898438   86635.843750   \n",
       "2019-12-18 17:00:00   81289.718750   83722.523438   86951.921875   \n",
       "2019-12-18 18:00:00   80584.632812   83492.671875   86036.968750   \n",
       "2019-12-18 19:00:00   80560.312500   83521.070312   85629.617188   \n",
       "2019-12-18 20:00:00   80119.507812   82873.773438   85769.914062   \n",
       "2019-12-18 21:00:00   79863.070312   82344.031250   85065.484375   \n",
       "2019-12-18 22:00:00   79392.218750   82082.882812   84338.929688   \n",
       "2019-12-18 23:00:00   78824.750000   81631.921875   84093.257812   \n",
       "2019-12-19 00:00:00   78727.859375   81096.882812   83851.789062   \n",
       "\n",
       "                      ticket_count  \n",
       "2019-12-16 00:00:00  108342.254844  \n",
       "2019-12-16 01:00:00  108370.740686  \n",
       "2019-12-16 02:00:00  108399.226528  \n",
       "2019-12-16 03:00:00  108427.712370  \n",
       "2019-12-16 04:00:00  108456.198212  \n",
       "2019-12-16 05:00:00  108484.684054  \n",
       "2019-12-16 06:00:00  108513.169896  \n",
       "2019-12-16 07:00:00  108541.655738  \n",
       "2019-12-16 08:00:00  108570.141580  \n",
       "2019-12-16 09:00:00  108598.627422  \n",
       "2019-12-16 10:00:00  108627.113264  \n",
       "2019-12-16 11:00:00  108655.599106  \n",
       "2019-12-16 12:00:00  108684.084948  \n",
       "2019-12-16 13:00:00  108712.570790  \n",
       "2019-12-16 14:00:00  108741.056632  \n",
       "2019-12-16 15:00:00  108769.542474  \n",
       "2019-12-16 16:00:00  108798.028316  \n",
       "2019-12-16 17:00:00  108826.514158  \n",
       "2019-12-16 18:00:00  108855.000000  \n",
       "2019-12-16 19:00:00            NaN  \n",
       "2019-12-16 20:00:00            NaN  \n",
       "2019-12-16 21:00:00            NaN  \n",
       "2019-12-16 22:00:00            NaN  \n",
       "2019-12-16 23:00:00            NaN  \n",
       "2019-12-17 00:00:00            NaN  \n",
       "2019-12-17 01:00:00            NaN  \n",
       "2019-12-17 02:00:00            NaN  \n",
       "2019-12-17 03:00:00            NaN  \n",
       "2019-12-17 04:00:00            NaN  \n",
       "2019-12-17 05:00:00            NaN  \n",
       "...                            ...  \n",
       "2019-12-17 19:00:00            NaN  \n",
       "2019-12-17 20:00:00            NaN  \n",
       "2019-12-17 21:00:00            NaN  \n",
       "2019-12-17 22:00:00            NaN  \n",
       "2019-12-17 23:00:00            NaN  \n",
       "2019-12-18 00:00:00            NaN  \n",
       "2019-12-18 01:00:00            NaN  \n",
       "2019-12-18 02:00:00            NaN  \n",
       "2019-12-18 03:00:00            NaN  \n",
       "2019-12-18 04:00:00            NaN  \n",
       "2019-12-18 05:00:00            NaN  \n",
       "2019-12-18 06:00:00            NaN  \n",
       "2019-12-18 07:00:00            NaN  \n",
       "2019-12-18 08:00:00            NaN  \n",
       "2019-12-18 09:00:00            NaN  \n",
       "2019-12-18 10:00:00            NaN  \n",
       "2019-12-18 11:00:00            NaN  \n",
       "2019-12-18 12:00:00            NaN  \n",
       "2019-12-18 13:00:00            NaN  \n",
       "2019-12-18 14:00:00            NaN  \n",
       "2019-12-18 15:00:00            NaN  \n",
       "2019-12-18 16:00:00            NaN  \n",
       "2019-12-18 17:00:00            NaN  \n",
       "2019-12-18 18:00:00            NaN  \n",
       "2019-12-18 19:00:00            NaN  \n",
       "2019-12-18 20:00:00            NaN  \n",
       "2019-12-18 21:00:00            NaN  \n",
       "2019-12-18 22:00:00            NaN  \n",
       "2019-12-18 23:00:00            NaN  \n",
       "2019-12-19 00:00:00            NaN  \n",
       "\n",
       "[73 rows x 4 columns]"
      ]
     },
     "execution_count": 380,
     "metadata": {},
     "output_type": "execute_result"
    }
   ],
   "source": [
    "visualization['2019-12-16 00:00:00':'2019-12-19 00:00:00']"
   ]
  },
  {
   "cell_type": "code",
   "execution_count": null,
   "metadata": {},
   "outputs": [],
   "source": []
  }
 ],
 "metadata": {
  "kernelspec": {
   "display_name": "conda_pytorch_p36",
   "language": "python",
   "name": "conda_pytorch_p36"
  },
  "language_info": {
   "codemirror_mode": {
    "name": "ipython",
    "version": 3
   },
   "file_extension": ".py",
   "mimetype": "text/x-python",
   "name": "python",
   "nbconvert_exporter": "python",
   "pygments_lexer": "ipython3",
   "version": "3.6.5"
  }
 },
 "nbformat": 4,
 "nbformat_minor": 4
}

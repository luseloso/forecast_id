{
 "cells": [
  {
   "cell_type": "markdown",
   "metadata": {},
   "source": [
    "# Machine Learning Immersion Day\n",
    "\n",
    "This notebook will serve as a template for the overall process of taking a non ideal time series dataset and integrating it into [Amazon Forecast](https://aws.amazon.com/forecast/).\n",
    "\n",
    "## Overview\n",
    "\n",
    "1. Introduction to Amazon Forecast\n",
    "1. Obtaining Your Data\n",
    "1. Fitting the Data to Forecast\n",
    "1. Determining Your Forecast Horizon (1st pass)\n",
    "1. Building Your Predictors\n",
    "1. Visualizing Predictors\n",
    "1. Making Decisions\n",
    "1. Next Steps\n",
    "\n",
    "\n",
    "## Introduction to Amazon Forecast\n",
    "\n",
    "If you are not familiar with Amazon Forecast you can learn more about this tool on these pages:\n",
    "\n",
    "* [Product Page](https://aws.amazon.com/forecast/)\n",
    "* [GitHub Sample Notebooks](https://github.com/aws-samples/amazon-forecast-samples)\n",
    "* [Product Docs](https://docs.aws.amazon.com/forecast/latest/dg/what-is-forecast.html)\n",
    "\n",
    "\n",
    "## Obtaining Your Data\n",
    "\n",
    "A critical requirement to use Amazon Forecast is to have access to time-series data for your selected use case. To learn more about time series data:\n",
    "\n",
    "1. [Wikipedia](https://en.wikipedia.org/wiki/Time_series)\n",
    "1. [Toward's Data Science Primer](https://towardsdatascience.com/the-complete-guide-to-time-series-analysis-and-forecasting-70d476bfe775)\n",
    "1. [O'Reilly Book](https://www.amazon.com/gp/product/1492041653/ref=ppx_yo_dt_b_search_asin_title?ie=UTF8&psc=1)\n",
    "\n",
    "For this exercise, we use the individual household electric power consumption dataset. (Dua, D. and Karra Taniskidou, E. (2017). UCI Machine Learning Repository [http://archive.ics.uci.edu/ml]. Irvine, CA: University of California, School of Information and Computer Science.) We aggregate the usage data hourly.\n",
    "\n",
    "To begin, use Pandas to read the CSV and to show a sample of the data.\n",
    "\n",
    "To begin the cell below will complete the following:\n",
    "\n",
    "1. Create a directory for the data files.\n",
    "1. Download the sample data into the directory.\n",
    "1. Extract the archive file into the directory."
   ]
  },
  {
   "cell_type": "markdown",
   "metadata": {},
   "source": [
    "With the data downloaded, now we will import the Pandas library as well as a few other data science tools in order to inspect the information."
   ]
  },
  {
   "cell_type": "code",
   "execution_count": 1,
   "metadata": {},
   "outputs": [],
   "source": [
    "import boto3\n",
    "from time import sleep\n",
    "import subprocess\n",
    "import pandas as pd\n",
    "import json\n",
    "import time\n",
    "import pprint\n",
    "import numpy as np\n",
    "import matplotlib.pyplot as plt\n",
    "from matplotlib.dates import DateFormatter\n",
    "import matplotlib.dates as mdates\n",
    "import dateutil.parser"
   ]
  },
  {
   "cell_type": "code",
   "execution_count": 2,
   "metadata": {},
   "outputs": [
    {
     "data": {
      "text/html": [
       "<div>\n",
       "<style scoped>\n",
       "    .dataframe tbody tr th:only-of-type {\n",
       "        vertical-align: middle;\n",
       "    }\n",
       "\n",
       "    .dataframe tbody tr th {\n",
       "        vertical-align: top;\n",
       "    }\n",
       "\n",
       "    .dataframe thead th {\n",
       "        text-align: right;\n",
       "    }\n",
       "</style>\n",
       "<table border=\"1\" class=\"dataframe\">\n",
       "  <thead>\n",
       "    <tr style=\"text-align: right;\">\n",
       "      <th></th>\n",
       "      <th>timestamp</th>\n",
       "      <th>value</th>\n",
       "      <th>item</th>\n",
       "    </tr>\n",
       "  </thead>\n",
       "  <tbody>\n",
       "    <tr>\n",
       "      <th>0</th>\n",
       "      <td>2014-01-01 01:00:00</td>\n",
       "      <td>38.34991708126038</td>\n",
       "      <td>client_12</td>\n",
       "    </tr>\n",
       "    <tr>\n",
       "      <th>1</th>\n",
       "      <td>2014-01-01 02:00:00</td>\n",
       "      <td>33.5820895522388</td>\n",
       "      <td>client_12</td>\n",
       "    </tr>\n",
       "    <tr>\n",
       "      <th>2</th>\n",
       "      <td>2014-01-01 03:00:00</td>\n",
       "      <td>34.41127694859037</td>\n",
       "      <td>client_12</td>\n",
       "    </tr>\n",
       "  </tbody>\n",
       "</table>\n",
       "</div>"
      ],
      "text/plain": [
       "             timestamp              value       item\n",
       "0  2014-01-01 01:00:00  38.34991708126038  client_12\n",
       "1  2014-01-01 02:00:00   33.5820895522388  client_12\n",
       "2  2014-01-01 03:00:00  34.41127694859037  client_12"
      ]
     },
     "execution_count": 2,
     "metadata": {},
     "output_type": "execute_result"
    }
   ],
   "source": [
    "df = pd.read_csv(\"../data/item-demand-time.csv\", dtype = object, names=['timestamp','value','item'])\n",
    "df.drop(df.loc[df['item']!='client_12'].index, inplace=True)\n",
    "df.head(3)"
   ]
  },
  {
   "cell_type": "markdown",
   "metadata": {},
   "source": [
    "Notice in the output above there are 3 columns of data:\n",
    "\n",
    "1. The Timestamp\n",
    "1. A Value\n",
    "1. An Item\n",
    "\n",
    "These are the 3 key required pieces of information to generate a forecast with Amazon Forecast. More can be added but these 3 must always remain present.\n",
    "\n",
    "The dataset happens to span January 01, 2014 to Deceber 31, 2014. For our testing we would like to keep the last month of information in a different CSV. We are also going to save January to November to a different CSV as well.\n",
    "\n",
    "You may notice a variable named `df` this is a popular convention when using Pandas if you are using the library's dataframe object, it is similar to a table in a database. You can learn more here: https://pandas.pydata.org/pandas-docs/stable/getting_started/10min.html\n",
    "\n",
    "In our dataset we have information about 3 clients, lets focus on client_12 on this excercise"
   ]
  },
  {
   "cell_type": "code",
   "execution_count": 3,
   "metadata": {},
   "outputs": [],
   "source": [
    "jan_to_oct = df[(df['timestamp'] >= '2014-01-01') & (df['timestamp'] <= '2014-10-31')]\n",
    "remaining_df = df[(df['timestamp'] >= '2014-10-31') & (df['timestamp'] <= '2014-12-01')]"
   ]
  },
  {
   "cell_type": "markdown",
   "metadata": {},
   "source": [
    "Now export them to CSV files and place them into your `data` folder."
   ]
  },
  {
   "cell_type": "code",
   "execution_count": 4,
   "metadata": {},
   "outputs": [],
   "source": [
    "jan_to_oct.to_csv(\"../data/item-demand-time-train.csv\", header=False, index=False)\n",
    "remaining_df.to_csv(\"../data/item-demand-time-validation.csv\", header=False, index=False)"
   ]
  },
  {
   "cell_type": "markdown",
   "metadata": {},
   "source": [
    "### Uploading your training data to S3\n",
    "\n",
    "At this time the data is ready to be sent to S3 where Forecast will use it later. The following cells will upload the data to S3.\n",
    "\n",
    "Please paste the Bucket Name and the Forecast Role ARN from your Cloudformation outputs section\n"
   ]
  },
  {
   "cell_type": "code",
   "execution_count": 5,
   "metadata": {},
   "outputs": [],
   "source": [
    "# Replace this bucket name and your Role ARN \n",
    "\n",
    "bucket_name = \"forecastidchrisking\"\n",
    "role_arn = \"arn:aws:iam::059124553121:role/ForecastIDDemo-ForecastRole-LR96ZAD8BJLW\"\n",
    "role_name = role_arn.split(\"/\")[1]\n",
    "\n",
    "target_time_series_filename =\"elec_data/item-demand-time-train.csv\"\n",
    "\n",
    "boto3.Session().resource('s3').Bucket(bucket_name).Object(target_time_series_filename).upload_file(\"../data/item-demand-time-train.csv\")"
   ]
  },
  {
   "cell_type": "markdown",
   "metadata": {},
   "source": [
    "## Getting Started With Forecast\n",
    "\n",
    "Now that all of the required data to get started exists, our next step is to build the dataset groups and datasets required for our problem. Inside Amazon Forecast a DatasetGroup is an abstraction that contains all the datasets for a particular collection of Forecasts. There is no information sharing between DatasetGroups so if you'd like to try out various alternatives to the schemas we create below, you could create a new DatasetGroup and make your changes inside its corresponding Datasets.\n",
    "\n",
    "The order of the process below will be as follows:\n",
    "\n",
    "1. Create a DatasetGroup for our POC.\n",
    "1. Create a `Target-Time-Series` Dataset.\n",
    "1. Attach the Dataset to the DatasetGroup.\n",
    "1. Import the data into the Dataset.\n",
    "1. Generate Forecasts with ARIMA, Prophet, and DeepAR+.\n",
    "1. Query their Forecasts.\n",
    "1. Plot the Forecasts and metrics. \n",
    "\n",
    "\n",
    "At that point we can see which model is best and discuss how to add related data to our POC.\n",
    "\n",
    "The cell below defines a few global settings for our POC with the service."
   ]
  },
  {
   "cell_type": "code",
   "execution_count": 6,
   "metadata": {},
   "outputs": [],
   "source": [
    "DATASET_FREQUENCY = \"H\" \n",
    "TIMESTAMP_FORMAT = \"yyyy-MM-dd hh:mm:ss\"\n",
    "\n",
    "project = 'forecast_immersion_day'\n",
    "datasetName= project+'_ds'\n",
    "datasetGroupName= project +'_dsg'"
   ]
  },
  {
   "cell_type": "markdown",
   "metadata": {},
   "source": [
    "Now using the metada stored on this instance of a SageMaker Notebook determine the region we are operating in. If you are using a Jupyter Notebook outside of SageMaker simply define `region` as the string that indicates the region you would like to use for Forecast and S3.\n"
   ]
  },
  {
   "cell_type": "code",
   "execution_count": 7,
   "metadata": {},
   "outputs": [
    {
     "name": "stdout",
     "output_type": "stream",
     "text": [
      "us-east-1\n"
     ]
    }
   ],
   "source": [
    "with open('/opt/ml/metadata/resource-metadata.json') as notebook_info:\n",
    "    data = json.load(notebook_info)\n",
    "    resource_arn = data['ResourceArn']\n",
    "    region = resource_arn.split(':')[3]\n",
    "print(region)"
   ]
  },
  {
   "cell_type": "markdown",
   "metadata": {},
   "source": [
    "Configure your AWS APIs"
   ]
  },
  {
   "cell_type": "code",
   "execution_count": 8,
   "metadata": {},
   "outputs": [],
   "source": [
    "session = boto3.Session(region_name=region) \n",
    "forecast = session.client(service_name='forecast') \n",
    "forecast_query = session.client(service_name='forecastquery')"
   ]
  },
  {
   "cell_type": "code",
   "execution_count": 9,
   "metadata": {},
   "outputs": [],
   "source": [
    "# Create the DatasetGroup\n",
    "create_dataset_group_response = forecast.create_dataset_group(DatasetGroupName=datasetGroupName,\n",
    "                                                              Domain=\"CUSTOM\",\n",
    "                                                             )\n",
    "datasetGroupArn = create_dataset_group_response['DatasetGroupArn']"
   ]
  },
  {
   "cell_type": "code",
   "execution_count": 10,
   "metadata": {},
   "outputs": [
    {
     "data": {
      "text/plain": [
       "{'DatasetGroupName': 'forecast_immersion_day_dsg',\n",
       " 'DatasetGroupArn': 'arn:aws:forecast:us-east-1:059124553121:dataset-group/forecast_immersion_day_dsg',\n",
       " 'DatasetArns': [],\n",
       " 'Domain': 'CUSTOM',\n",
       " 'Status': 'ACTIVE',\n",
       " 'CreationTime': datetime.datetime(2020, 4, 20, 18, 58, 31, 874000, tzinfo=tzlocal()),\n",
       " 'LastModificationTime': datetime.datetime(2020, 4, 20, 18, 58, 31, 874000, tzinfo=tzlocal()),\n",
       " 'ResponseMetadata': {'RequestId': '723cd8b5-a602-4120-91e5-e80c41b92dc0',\n",
       "  'HTTPStatusCode': 200,\n",
       "  'HTTPHeaders': {'content-type': 'application/x-amz-json-1.1',\n",
       "   'date': 'Mon, 20 Apr 2020 18:58:32 GMT',\n",
       "   'x-amzn-requestid': '723cd8b5-a602-4120-91e5-e80c41b92dc0',\n",
       "   'content-length': '275',\n",
       "   'connection': 'keep-alive'},\n",
       "  'RetryAttempts': 0}}"
      ]
     },
     "execution_count": 10,
     "metadata": {},
     "output_type": "execute_result"
    }
   ],
   "source": [
    "forecast.describe_dataset_group(DatasetGroupArn=datasetGroupArn)"
   ]
  },
  {
   "cell_type": "code",
   "execution_count": 11,
   "metadata": {},
   "outputs": [],
   "source": [
    "# Specify the schema of your dataset here. Make sure the order of columns matches the raw data files.\n",
    "schema ={\n",
    "   \"Attributes\":[\n",
    "      {\n",
    "         \"AttributeName\":\"timestamp\",\n",
    "         \"AttributeType\":\"timestamp\"\n",
    "      },\n",
    "      {\n",
    "         \"AttributeName\":\"target_value\",\n",
    "         \"AttributeType\":\"float\"\n",
    "      },\n",
    "      {\n",
    "         \"AttributeName\":\"item_id\",\n",
    "         \"AttributeType\":\"string\"\n",
    "      }\n",
    "   ]\n",
    "}"
   ]
  },
  {
   "cell_type": "code",
   "execution_count": 12,
   "metadata": {},
   "outputs": [],
   "source": [
    "response=forecast.create_dataset(\n",
    "                    Domain=\"CUSTOM\",\n",
    "                    DatasetType='TARGET_TIME_SERIES',\n",
    "                    DatasetName=datasetName,\n",
    "                    DataFrequency=DATASET_FREQUENCY, \n",
    "                    Schema = schema\n",
    ")"
   ]
  },
  {
   "cell_type": "code",
   "execution_count": 13,
   "metadata": {},
   "outputs": [
    {
     "data": {
      "text/plain": [
       "{'DatasetArn': 'arn:aws:forecast:us-east-1:059124553121:dataset/forecast_immersion_day_ds',\n",
       " 'DatasetName': 'forecast_immersion_day_ds',\n",
       " 'Domain': 'CUSTOM',\n",
       " 'DatasetType': 'TARGET_TIME_SERIES',\n",
       " 'DataFrequency': 'H',\n",
       " 'Schema': {'Attributes': [{'AttributeName': 'timestamp',\n",
       "    'AttributeType': 'timestamp'},\n",
       "   {'AttributeName': 'target_value', 'AttributeType': 'float'},\n",
       "   {'AttributeName': 'item_id', 'AttributeType': 'string'}]},\n",
       " 'EncryptionConfig': {},\n",
       " 'Status': 'ACTIVE',\n",
       " 'CreationTime': datetime.datetime(2020, 4, 20, 18, 58, 34, 558000, tzinfo=tzlocal()),\n",
       " 'LastModificationTime': datetime.datetime(2020, 4, 20, 18, 58, 34, 559000, tzinfo=tzlocal()),\n",
       " 'ResponseMetadata': {'RequestId': '32c0942d-5588-4364-869b-0dc435d87b0a',\n",
       "  'HTTPStatusCode': 200,\n",
       "  'HTTPHeaders': {'content-type': 'application/x-amz-json-1.1',\n",
       "   'date': 'Mon, 20 Apr 2020 18:58:34 GMT',\n",
       "   'x-amzn-requestid': '32c0942d-5588-4364-869b-0dc435d87b0a',\n",
       "   'content-length': '511',\n",
       "   'connection': 'keep-alive'},\n",
       "  'RetryAttempts': 0}}"
      ]
     },
     "execution_count": 13,
     "metadata": {},
     "output_type": "execute_result"
    }
   ],
   "source": [
    "target_datasetArn = response['DatasetArn']\n",
    "forecast.describe_dataset(DatasetArn=target_datasetArn)"
   ]
  },
  {
   "cell_type": "code",
   "execution_count": 14,
   "metadata": {},
   "outputs": [
    {
     "data": {
      "text/plain": [
       "{'ResponseMetadata': {'RequestId': 'ddda984a-bd5f-4fdf-a787-b5a678f7ce68',\n",
       "  'HTTPStatusCode': 200,\n",
       "  'HTTPHeaders': {'content-type': 'application/x-amz-json-1.1',\n",
       "   'date': 'Mon, 20 Apr 2020 18:58:35 GMT',\n",
       "   'x-amzn-requestid': 'ddda984a-bd5f-4fdf-a787-b5a678f7ce68',\n",
       "   'content-length': '2',\n",
       "   'connection': 'keep-alive'},\n",
       "  'RetryAttempts': 0}}"
      ]
     },
     "execution_count": 14,
     "metadata": {},
     "output_type": "execute_result"
    }
   ],
   "source": [
    "# Attach the Dataset to the Dataset Group:\n",
    "forecast.update_dataset_group(DatasetGroupArn=datasetGroupArn, DatasetArns=[target_datasetArn])"
   ]
  },
  {
   "cell_type": "code",
   "execution_count": 15,
   "metadata": {},
   "outputs": [],
   "source": [
    "# Finally we can call import the dataset\n",
    "target_s3DataPath = \"s3://\"+bucket_name+\"/\"+target_time_series_filename\n",
    "datasetImportJobName = 'DSIMPORT_JOB_TARGET'\n",
    "ds_import_job_response=forecast.create_dataset_import_job(DatasetImportJobName=datasetImportJobName,\n",
    "                                                          DatasetArn=target_datasetArn,\n",
    "                                                          DataSource= {\n",
    "                                                              \"S3Config\" : {\n",
    "                                                                 \"Path\":target_s3DataPath,\n",
    "                                                                 \"RoleArn\": role_arn\n",
    "                                                              } \n",
    "                                                          },\n",
    "                                                          TimestampFormat=TIMESTAMP_FORMAT\n",
    "                                                         )"
   ]
  },
  {
   "cell_type": "code",
   "execution_count": 16,
   "metadata": {},
   "outputs": [
    {
     "name": "stdout",
     "output_type": "stream",
     "text": [
      "arn:aws:forecast:us-east-1:059124553121:dataset-import-job/forecast_immersion_day_ds/DSIMPORT_JOB_TARGET\n"
     ]
    }
   ],
   "source": [
    "ds_import_job_arn=ds_import_job_response['DatasetImportJobArn']\n",
    "print(ds_import_job_arn)"
   ]
  },
  {
   "cell_type": "markdown",
   "metadata": {},
   "source": [
    "The cell below will run and poll every 30 seconds until the import process has completed. From there we will be able to create a few models."
   ]
  },
  {
   "cell_type": "code",
   "execution_count": 17,
   "metadata": {},
   "outputs": [
    {
     "name": "stdout",
     "output_type": "stream",
     "text": [
      "CREATE_PENDING\n",
      "CREATE_IN_PROGRESS\n",
      "CREATE_IN_PROGRESS\n",
      "CREATE_IN_PROGRESS\n",
      "CREATE_IN_PROGRESS\n",
      "CREATE_IN_PROGRESS\n",
      "CREATE_IN_PROGRESS\n",
      "CREATE_IN_PROGRESS\n",
      "CREATE_IN_PROGRESS\n",
      "CREATE_IN_PROGRESS\n",
      "ACTIVE\n"
     ]
    }
   ],
   "source": [
    "while True:\n",
    "    dataImportStatus = forecast.describe_dataset_import_job(DatasetImportJobArn=ds_import_job_arn)['Status']\n",
    "    print(dataImportStatus)\n",
    "    if dataImportStatus != 'ACTIVE' and dataImportStatus != 'CREATE_FAILED':\n",
    "        sleep(30)\n",
    "    else:\n",
    "        break"
   ]
  },
  {
   "cell_type": "markdown",
   "metadata": {},
   "source": [
    "# Model building bits\n",
    "\n",
    "Given that that our data is hourly and we want to generate a forecast on the hour, Forecast limits us to a horizon of 500 of whatever the slice is. This means we will be able to predict about 20 days into the future. In our case we are going to predict 3 days or 72 hours.\n",
    "\n",
    "The cells below will define a few variables to be used with all of our models. Then there will be an API call to create each `Predictor` where they are based on ARIMA, Prophet, and DeepAR+ respectfully.\n"
   ]
  },
  {
   "cell_type": "code",
   "execution_count": 18,
   "metadata": {},
   "outputs": [],
   "source": [
    "ForecastFrequency = \"H\"\n",
    "forecastHorizon = 72\n",
    "NumberOfBacktestWindows = 1\n",
    "BackTestWindowOffset = 72"
   ]
  },
  {
   "cell_type": "code",
   "execution_count": 19,
   "metadata": {},
   "outputs": [],
   "source": [
    "arima_algorithmArn = 'arn:aws:forecast:::algorithm/ARIMA'\n",
    "prophet_algorithmArn = 'arn:aws:forecast:::algorithm/Prophet'\n",
    "deepAR_Plus_algorithmArn = 'arn:aws:forecast:::algorithm/Deep_AR_Plus'"
   ]
  },
  {
   "cell_type": "code",
   "execution_count": 20,
   "metadata": {},
   "outputs": [],
   "source": [
    "# ARIMA Specifics\n",
    "arima_predictorName= project+'_arima_algo_1'"
   ]
  },
  {
   "cell_type": "code",
   "execution_count": 21,
   "metadata": {},
   "outputs": [],
   "source": [
    "# Build ARIMA:\n",
    "arima_create_predictor_response=forecast.create_predictor(PredictorName=arima_predictorName, \n",
    "                                                  AlgorithmArn=arima_algorithmArn,\n",
    "                                                  ForecastHorizon=forecastHorizon,\n",
    "                                                  PerformAutoML= False,\n",
    "                                                  PerformHPO=False,\n",
    "                                                  EvaluationParameters= {\"NumberOfBacktestWindows\": NumberOfBacktestWindows, \n",
    "                                                                         \"BackTestWindowOffset\": BackTestWindowOffset}, \n",
    "                                                  InputDataConfig= {\"DatasetGroupArn\": datasetGroupArn},\n",
    "                                                  FeaturizationConfig= {\"ForecastFrequency\": ForecastFrequency, \n",
    "                                                                        \"Featurizations\": \n",
    "                                                                        [\n",
    "                                                                          {\"AttributeName\": \"target_value\", \n",
    "                                                                           \"FeaturizationPipeline\": \n",
    "                                                                            [\n",
    "                                                                              {\"FeaturizationMethodName\": \"filling\", \n",
    "                                                                               \"FeaturizationMethodParameters\": \n",
    "                                                                                {\"frontfill\": \"none\", \n",
    "                                                                                 \"middlefill\": \"zero\", \n",
    "                                                                                 \"backfill\": \"zero\"}\n",
    "                                                                              }\n",
    "                                                                            ]\n",
    "                                                                          }\n",
    "                                                                        ]\n",
    "                                                                       }\n",
    "                                                 )"
   ]
  },
  {
   "cell_type": "code",
   "execution_count": 22,
   "metadata": {},
   "outputs": [],
   "source": [
    "# Prophet Specifics\n",
    "prophet_predictorName= project+'_prophet_algo_1'"
   ]
  },
  {
   "cell_type": "code",
   "execution_count": 23,
   "metadata": {},
   "outputs": [],
   "source": [
    "# Build Prophet:\n",
    "prophet_create_predictor_response=forecast.create_predictor(PredictorName=prophet_predictorName, \n",
    "                                                  AlgorithmArn=prophet_algorithmArn,\n",
    "                                                  ForecastHorizon=forecastHorizon,\n",
    "                                                  PerformAutoML= False,\n",
    "                                                  PerformHPO=False,\n",
    "                                                  EvaluationParameters= {\"NumberOfBacktestWindows\": NumberOfBacktestWindows, \n",
    "                                                                         \"BackTestWindowOffset\": BackTestWindowOffset}, \n",
    "                                                  InputDataConfig= {\"DatasetGroupArn\": datasetGroupArn},\n",
    "                                                  FeaturizationConfig= {\"ForecastFrequency\": ForecastFrequency, \n",
    "                                                                        \"Featurizations\": \n",
    "                                                                        [\n",
    "                                                                          {\"AttributeName\": \"target_value\", \n",
    "                                                                           \"FeaturizationPipeline\": \n",
    "                                                                            [\n",
    "                                                                              {\"FeaturizationMethodName\": \"filling\", \n",
    "                                                                               \"FeaturizationMethodParameters\": \n",
    "                                                                                {\"frontfill\": \"none\", \n",
    "                                                                                 \"middlefill\": \"zero\", \n",
    "                                                                                 \"backfill\": \"zero\"}\n",
    "                                                                              }\n",
    "                                                                            ]\n",
    "                                                                          }\n",
    "                                                                        ]\n",
    "                                                                       }\n",
    "                                                 )\n",
    "\n",
    "\n"
   ]
  },
  {
   "cell_type": "code",
   "execution_count": 24,
   "metadata": {},
   "outputs": [],
   "source": [
    "# DeepAR+ Specifics\n",
    "prophet_predictorName= project+'_deeparp_algo_1'"
   ]
  },
  {
   "cell_type": "code",
   "execution_count": 25,
   "metadata": {},
   "outputs": [],
   "source": [
    "# Build DeepAR+:\n",
    "deeparp_create_predictor_response=forecast.create_predictor(PredictorName=prophet_predictorName, \n",
    "                                                  AlgorithmArn=deepAR_Plus_algorithmArn,\n",
    "                                                  ForecastHorizon=forecastHorizon,\n",
    "                                                  PerformAutoML= False,\n",
    "                                                  PerformHPO=False,\n",
    "                                                  EvaluationParameters= {\"NumberOfBacktestWindows\": NumberOfBacktestWindows, \n",
    "                                                                         \"BackTestWindowOffset\": BackTestWindowOffset}, \n",
    "                                                  InputDataConfig= {\"DatasetGroupArn\": datasetGroupArn},\n",
    "                                                  FeaturizationConfig= {\"ForecastFrequency\": ForecastFrequency, \n",
    "                                                                        \"Featurizations\": \n",
    "                                                                        [\n",
    "                                                                          {\"AttributeName\": \"target_value\", \n",
    "                                                                           \"FeaturizationPipeline\": \n",
    "                                                                            [\n",
    "                                                                              {\"FeaturizationMethodName\": \"filling\", \n",
    "                                                                               \"FeaturizationMethodParameters\": \n",
    "                                                                                {\"frontfill\": \"none\", \n",
    "                                                                                 \"middlefill\": \"zero\", \n",
    "                                                                                 \"backfill\": \"zero\"}\n",
    "                                                                              }\n",
    "                                                                            ]\n",
    "                                                                          }\n",
    "                                                                        ]\n",
    "                                                                       }\n",
    "                                                 )"
   ]
  },
  {
   "cell_type": "markdown",
   "metadata": {},
   "source": [
    "These calls will take an hour or so to complete in full. So feel free to take lunch here, go grab a pint, really anything that is going to kill a decent volume of time.\n",
    "\n",
    "The following while loop keeps track of the DeepAR+ predictor progress"
   ]
  },
  {
   "cell_type": "code",
   "execution_count": 26,
   "metadata": {},
   "outputs": [
    {
     "name": "stdout",
     "output_type": "stream",
     "text": [
      "CREATE_PENDING\n",
      "CREATE_IN_PROGRESS\n",
      "CREATE_IN_PROGRESS\n",
      "CREATE_IN_PROGRESS\n",
      "CREATE_IN_PROGRESS\n",
      "CREATE_IN_PROGRESS\n",
      "CREATE_IN_PROGRESS\n",
      "CREATE_IN_PROGRESS\n",
      "CREATE_IN_PROGRESS\n",
      "CREATE_IN_PROGRESS\n",
      "CREATE_IN_PROGRESS\n",
      "CREATE_IN_PROGRESS\n",
      "CREATE_IN_PROGRESS\n",
      "CREATE_IN_PROGRESS\n",
      "CREATE_IN_PROGRESS\n",
      "CREATE_IN_PROGRESS\n",
      "CREATE_IN_PROGRESS\n",
      "CREATE_IN_PROGRESS\n",
      "CREATE_IN_PROGRESS\n",
      "CREATE_IN_PROGRESS\n",
      "CREATE_IN_PROGRESS\n",
      "CREATE_IN_PROGRESS\n",
      "CREATE_IN_PROGRESS\n",
      "CREATE_IN_PROGRESS\n",
      "CREATE_IN_PROGRESS\n",
      "CREATE_IN_PROGRESS\n",
      "CREATE_IN_PROGRESS\n",
      "CREATE_IN_PROGRESS\n",
      "CREATE_IN_PROGRESS\n",
      "CREATE_IN_PROGRESS\n",
      "CREATE_IN_PROGRESS\n",
      "CREATE_IN_PROGRESS\n",
      "CREATE_IN_PROGRESS\n",
      "CREATE_IN_PROGRESS\n",
      "CREATE_IN_PROGRESS\n",
      "CREATE_IN_PROGRESS\n",
      "CREATE_IN_PROGRESS\n",
      "CREATE_IN_PROGRESS\n",
      "CREATE_IN_PROGRESS\n",
      "CREATE_IN_PROGRESS\n",
      "CREATE_IN_PROGRESS\n",
      "CREATE_IN_PROGRESS\n",
      "CREATE_IN_PROGRESS\n",
      "CREATE_IN_PROGRESS\n",
      "CREATE_IN_PROGRESS\n",
      "CREATE_IN_PROGRESS\n",
      "CREATE_IN_PROGRESS\n",
      "CREATE_IN_PROGRESS\n",
      "CREATE_IN_PROGRESS\n",
      "CREATE_IN_PROGRESS\n",
      "CREATE_IN_PROGRESS\n",
      "CREATE_IN_PROGRESS\n",
      "CREATE_IN_PROGRESS\n",
      "CREATE_IN_PROGRESS\n",
      "CREATE_IN_PROGRESS\n",
      "CREATE_IN_PROGRESS\n",
      "CREATE_IN_PROGRESS\n",
      "CREATE_IN_PROGRESS\n",
      "CREATE_IN_PROGRESS\n",
      "CREATE_IN_PROGRESS\n",
      "CREATE_IN_PROGRESS\n",
      "CREATE_IN_PROGRESS\n",
      "CREATE_IN_PROGRESS\n",
      "CREATE_IN_PROGRESS\n",
      "CREATE_IN_PROGRESS\n",
      "CREATE_IN_PROGRESS\n",
      "CREATE_IN_PROGRESS\n",
      "CREATE_IN_PROGRESS\n",
      "CREATE_IN_PROGRESS\n",
      "CREATE_IN_PROGRESS\n",
      "CREATE_IN_PROGRESS\n",
      "CREATE_IN_PROGRESS\n",
      "CREATE_IN_PROGRESS\n",
      "CREATE_IN_PROGRESS\n",
      "CREATE_IN_PROGRESS\n",
      "ACTIVE\n"
     ]
    }
   ],
   "source": [
    "while True:\n",
    "    status = forecast.describe_predictor(PredictorArn=deeparp_create_predictor_response['PredictorArn'])['Status']\n",
    "    print(status)\n",
    "    if status != 'ACTIVE' and status != 'CREATE_FAILED':\n",
    "        sleep(30)\n",
    "    else:\n",
    "        break"
   ]
  },
  {
   "cell_type": "markdown",
   "metadata": {},
   "source": [
    "## Examine the Models\n",
    "\n",
    "First we are going to get the metrics for each model and see how they stack up:"
   ]
  },
  {
   "cell_type": "code",
   "execution_count": 27,
   "metadata": {},
   "outputs": [
    {
     "name": "stdout",
     "output_type": "stream",
     "text": [
      "{'PredictorEvaluationResults': [{'AlgorithmArn': 'arn:aws:forecast:::algorithm/ARIMA',\n",
      "                                 'TestWindows': [{'EvaluationType': 'SUMMARY',\n",
      "                                                  'Metrics': {'RMSE': 20.900040194709177,\n",
      "                                                              'WeightedQuantileLosses': [{'LossValue': 0.0586643169912531,\n",
      "                                                                                          'Quantile': 0.9},\n",
      "                                                                                         {'LossValue': 0.15327057905199545,\n",
      "                                                                                          'Quantile': 0.5},\n",
      "                                                                                         {'LossValue': 0.10291806898751124,\n",
      "                                                                                          'Quantile': 0.1}]}},\n",
      "                                                 {'EvaluationType': 'COMPUTED',\n",
      "                                                  'ItemCount': 1,\n",
      "                                                  'Metrics': {'RMSE': 20.900040194709177,\n",
      "                                                              'WeightedQuantileLosses': [{'LossValue': 0.0586643169912531,\n",
      "                                                                                          'Quantile': 0.9},\n",
      "                                                                                         {'LossValue': 0.15327057905199545,\n",
      "                                                                                          'Quantile': 0.5},\n",
      "                                                                                         {'LossValue': 0.10291806898751124,\n",
      "                                                                                          'Quantile': 0.1}]},\n",
      "                                                  'TestWindowEnd': datetime.datetime(2014, 10, 31, 0, 0, tzinfo=tzlocal()),\n",
      "                                                  'TestWindowStart': datetime.datetime(2014, 10, 28, 0, 0, tzinfo=tzlocal())}]}],\n",
      " 'ResponseMetadata': {'HTTPHeaders': {'connection': 'keep-alive',\n",
      "                                      'content-length': '655',\n",
      "                                      'content-type': 'application/x-amz-json-1.1',\n",
      "                                      'date': 'Mon, 20 Apr 2020 19:51:54 GMT',\n",
      "                                      'x-amzn-requestid': '6a30afd7-5843-4630-a8cd-aac134d3d972'},\n",
      "                      'HTTPStatusCode': 200,\n",
      "                      'RequestId': '6a30afd7-5843-4630-a8cd-aac134d3d972',\n",
      "                      'RetryAttempts': 0}}\n"
     ]
    }
   ],
   "source": [
    "# ARIMA Metrics\n",
    "arima_arn = arima_create_predictor_response['PredictorArn']\n",
    "arima_metrics = forecast.get_accuracy_metrics(PredictorArn=arima_arn)\n",
    "pp = pprint.PrettyPrinter()\n",
    "pp.pprint(arima_metrics)"
   ]
  },
  {
   "cell_type": "code",
   "execution_count": 28,
   "metadata": {},
   "outputs": [
    {
     "name": "stdout",
     "output_type": "stream",
     "text": [
      "{'PredictorEvaluationResults': [{'AlgorithmArn': 'arn:aws:forecast:::algorithm/Prophet',\n",
      "                                 'TestWindows': [{'EvaluationType': 'SUMMARY',\n",
      "                                                  'Metrics': {'RMSE': 20.223295919946217,\n",
      "                                                              'WeightedQuantileLosses': [{'LossValue': 0.07027470113982151,\n",
      "                                                                                          'Quantile': 0.9},\n",
      "                                                                                         {'LossValue': 0.17121062810028,\n",
      "                                                                                          'Quantile': 0.5},\n",
      "                                                                                         {'LossValue': 0.05403680933326308,\n",
      "                                                                                          'Quantile': 0.1}]}},\n",
      "                                                 {'EvaluationType': 'COMPUTED',\n",
      "                                                  'ItemCount': 1,\n",
      "                                                  'Metrics': {'RMSE': 20.223295919946217,\n",
      "                                                              'WeightedQuantileLosses': [{'LossValue': 0.07027470113982151,\n",
      "                                                                                          'Quantile': 0.9},\n",
      "                                                                                         {'LossValue': 0.17121062810028,\n",
      "                                                                                          'Quantile': 0.5},\n",
      "                                                                                         {'LossValue': 0.05403680933326308,\n",
      "                                                                                          'Quantile': 0.1}]},\n",
      "                                                  'TestWindowEnd': datetime.datetime(2014, 10, 31, 0, 0, tzinfo=tzlocal()),\n",
      "                                                  'TestWindowStart': datetime.datetime(2014, 10, 28, 0, 0, tzinfo=tzlocal())}]}],\n",
      " 'ResponseMetadata': {'HTTPHeaders': {'connection': 'keep-alive',\n",
      "                                      'content-length': '653',\n",
      "                                      'content-type': 'application/x-amz-json-1.1',\n",
      "                                      'date': 'Mon, 20 Apr 2020 19:51:55 GMT',\n",
      "                                      'x-amzn-requestid': '0340235d-2ebd-4d94-9705-dd601652cf88'},\n",
      "                      'HTTPStatusCode': 200,\n",
      "                      'RequestId': '0340235d-2ebd-4d94-9705-dd601652cf88',\n",
      "                      'RetryAttempts': 0}}\n"
     ]
    }
   ],
   "source": [
    "# Prophet Metrics\n",
    "prophet_arn = prophet_create_predictor_response['PredictorArn']\n",
    "prophet_metrics = forecast.get_accuracy_metrics(PredictorArn=prophet_arn)\n",
    "pp = pprint.PrettyPrinter()\n",
    "pp.pprint(prophet_metrics)"
   ]
  },
  {
   "cell_type": "code",
   "execution_count": 29,
   "metadata": {},
   "outputs": [
    {
     "name": "stdout",
     "output_type": "stream",
     "text": [
      "{'PredictorEvaluationResults': [{'AlgorithmArn': 'arn:aws:forecast:::algorithm/Deep_AR_Plus',\n",
      "                                 'TestWindows': [{'EvaluationType': 'SUMMARY',\n",
      "                                                  'Metrics': {'RMSE': 10.205424700372289,\n",
      "                                                              'WeightedQuantileLosses': [{'LossValue': 0.04047622780985872,\n",
      "                                                                                          'Quantile': 0.9},\n",
      "                                                                                         {'LossValue': 0.07512274689026403,\n",
      "                                                                                          'Quantile': 0.5},\n",
      "                                                                                         {'LossValue': 0.03059276562467943,\n",
      "                                                                                          'Quantile': 0.1}]}},\n",
      "                                                 {'EvaluationType': 'COMPUTED',\n",
      "                                                  'ItemCount': 1,\n",
      "                                                  'Metrics': {'RMSE': 10.205424700372289,\n",
      "                                                              'WeightedQuantileLosses': [{'LossValue': 0.04047622780985872,\n",
      "                                                                                          'Quantile': 0.9},\n",
      "                                                                                         {'LossValue': 0.07512274689026403,\n",
      "                                                                                          'Quantile': 0.5},\n",
      "                                                                                         {'LossValue': 0.03059276562467943,\n",
      "                                                                                          'Quantile': 0.1}]},\n",
      "                                                  'TestWindowEnd': datetime.datetime(2014, 10, 31, 0, 0, tzinfo=tzlocal()),\n",
      "                                                  'TestWindowStart': datetime.datetime(2014, 10, 28, 0, 0, tzinfo=tzlocal())}]}],\n",
      " 'ResponseMetadata': {'HTTPHeaders': {'connection': 'keep-alive',\n",
      "                                      'content-length': '664',\n",
      "                                      'content-type': 'application/x-amz-json-1.1',\n",
      "                                      'date': 'Mon, 20 Apr 2020 19:51:56 GMT',\n",
      "                                      'x-amzn-requestid': '253da779-4b5d-447e-8fa8-448fb7d4537c'},\n",
      "                      'HTTPStatusCode': 200,\n",
      "                      'RequestId': '253da779-4b5d-447e-8fa8-448fb7d4537c',\n",
      "                      'RetryAttempts': 0}}\n"
     ]
    }
   ],
   "source": [
    "# DeepAR+ Metrics\n",
    "deeparp_arn = deeparp_create_predictor_response['PredictorArn']\n",
    "deeparp_metrics = forecast.get_accuracy_metrics(PredictorArn=deeparp_arn)\n",
    "pp = pprint.PrettyPrinter()\n",
    "pp.pprint(deeparp_metrics)"
   ]
  },
  {
   "cell_type": "markdown",
   "metadata": {},
   "source": [
    "## Generate a Forecast For Each\n",
    "\n",
    "The next phase is to generate a Forecast from each Predictor so we can see the results and understand visually which model is performing better."
   ]
  },
  {
   "cell_type": "code",
   "execution_count": 30,
   "metadata": {},
   "outputs": [],
   "source": [
    "# ARIMA\n",
    "arima_forecastName = project+'_arima_algo_forecast'\n",
    "arima_create_forecast_response=forecast.create_forecast(ForecastName=arima_forecastName,\n",
    "                                                  PredictorArn=arima_arn)\n",
    "arima_forecast_arn = arima_create_forecast_response['ForecastArn']"
   ]
  },
  {
   "cell_type": "code",
   "execution_count": 31,
   "metadata": {},
   "outputs": [],
   "source": [
    "# Prophet\n",
    "prophet_forecastName = project+'_prophet_algo_forecast'\n",
    "prophet_create_forecast_response=forecast.create_forecast(ForecastName=prophet_forecastName,\n",
    "                                                  PredictorArn=prophet_arn)\n",
    "prophet_forecast_arn = prophet_create_forecast_response['ForecastArn']"
   ]
  },
  {
   "cell_type": "code",
   "execution_count": 32,
   "metadata": {},
   "outputs": [],
   "source": [
    "# DeepAR+\n",
    "deeparp_forecastName = project+'_deeparp_algo_forecast'\n",
    "deeparp_create_forecast_response=forecast.create_forecast(ForecastName=deeparp_forecastName,\n",
    "                                                  PredictorArn=deeparp_arn)\n",
    "deeparp_forecast_arn = deeparp_create_forecast_response['ForecastArn']"
   ]
  },
  {
   "cell_type": "code",
   "execution_count": 33,
   "metadata": {},
   "outputs": [
    {
     "name": "stdout",
     "output_type": "stream",
     "text": [
      "CREATE_PENDING\n",
      "CREATE_IN_PROGRESS\n",
      "CREATE_IN_PROGRESS\n",
      "CREATE_IN_PROGRESS\n",
      "CREATE_IN_PROGRESS\n",
      "CREATE_IN_PROGRESS\n",
      "CREATE_IN_PROGRESS\n",
      "CREATE_IN_PROGRESS\n",
      "CREATE_IN_PROGRESS\n",
      "CREATE_IN_PROGRESS\n",
      "CREATE_IN_PROGRESS\n",
      "CREATE_IN_PROGRESS\n",
      "CREATE_IN_PROGRESS\n",
      "CREATE_IN_PROGRESS\n",
      "CREATE_IN_PROGRESS\n",
      "CREATE_IN_PROGRESS\n",
      "CREATE_IN_PROGRESS\n",
      "CREATE_IN_PROGRESS\n",
      "CREATE_IN_PROGRESS\n",
      "CREATE_IN_PROGRESS\n",
      "CREATE_IN_PROGRESS\n",
      "CREATE_IN_PROGRESS\n",
      "CREATE_IN_PROGRESS\n",
      "CREATE_IN_PROGRESS\n",
      "CREATE_IN_PROGRESS\n",
      "CREATE_IN_PROGRESS\n",
      "CREATE_IN_PROGRESS\n",
      "CREATE_IN_PROGRESS\n",
      "CREATE_IN_PROGRESS\n",
      "CREATE_IN_PROGRESS\n",
      "CREATE_IN_PROGRESS\n",
      "CREATE_IN_PROGRESS\n",
      "CREATE_IN_PROGRESS\n",
      "CREATE_IN_PROGRESS\n",
      "CREATE_IN_PROGRESS\n",
      "CREATE_IN_PROGRESS\n",
      "CREATE_IN_PROGRESS\n",
      "CREATE_IN_PROGRESS\n",
      "CREATE_IN_PROGRESS\n",
      "CREATE_IN_PROGRESS\n",
      "CREATE_IN_PROGRESS\n",
      "CREATE_IN_PROGRESS\n",
      "CREATE_IN_PROGRESS\n",
      "CREATE_IN_PROGRESS\n",
      "CREATE_IN_PROGRESS\n",
      "CREATE_IN_PROGRESS\n",
      "CREATE_IN_PROGRESS\n",
      "CREATE_IN_PROGRESS\n",
      "CREATE_IN_PROGRESS\n",
      "CREATE_IN_PROGRESS\n",
      "CREATE_IN_PROGRESS\n",
      "CREATE_IN_PROGRESS\n",
      "CREATE_IN_PROGRESS\n",
      "CREATE_IN_PROGRESS\n",
      "CREATE_IN_PROGRESS\n",
      "CREATE_IN_PROGRESS\n",
      "CREATE_IN_PROGRESS\n",
      "CREATE_IN_PROGRESS\n",
      "CREATE_IN_PROGRESS\n",
      "CREATE_IN_PROGRESS\n",
      "CREATE_IN_PROGRESS\n",
      "CREATE_IN_PROGRESS\n",
      "CREATE_IN_PROGRESS\n",
      "CREATE_IN_PROGRESS\n",
      "CREATE_IN_PROGRESS\n",
      "CREATE_IN_PROGRESS\n",
      "CREATE_IN_PROGRESS\n",
      "CREATE_IN_PROGRESS\n",
      "CREATE_IN_PROGRESS\n",
      "CREATE_IN_PROGRESS\n",
      "CREATE_IN_PROGRESS\n",
      "CREATE_IN_PROGRESS\n",
      "CREATE_IN_PROGRESS\n",
      "CREATE_IN_PROGRESS\n",
      "ACTIVE\n"
     ]
    }
   ],
   "source": [
    "while True:\n",
    "    status = forecast.describe_forecast(ForecastArn=deeparp_forecast_arn)['Status']\n",
    "    print(status)\n",
    "    if status != 'ACTIVE' and status != 'CREATE_FAILED':\n",
    "        sleep(30)\n",
    "    else:\n",
    "        break"
   ]
  },
  {
   "cell_type": "markdown",
   "metadata": {},
   "source": [
    "## Exporting your Forecasts to S3"
   ]
  },
  {
   "cell_type": "code",
   "execution_count": 35,
   "metadata": {},
   "outputs": [
    {
     "data": {
      "text/plain": [
       "{'ForecastExportJobArn': 'arn:aws:forecast:us-east-1:059124553121:forecast-export-job/forecast_immersion_day_arima_algo_forecast/mlimday_arima_algo_forecast',\n",
       " 'ResponseMetadata': {'RequestId': 'd5a66d8d-9d64-4e6b-914b-d72cd49e4199',\n",
       "  'HTTPStatusCode': 200,\n",
       "  'HTTPHeaders': {'content-type': 'application/x-amz-json-1.1',\n",
       "   'date': 'Mon, 20 Apr 2020 20:38:03 GMT',\n",
       "   'x-amzn-requestid': 'd5a66d8d-9d64-4e6b-914b-d72cd49e4199',\n",
       "   'content-length': '157',\n",
       "   'connection': 'keep-alive'},\n",
       "  'RetryAttempts': 0}}"
      ]
     },
     "execution_count": 35,
     "metadata": {},
     "output_type": "execute_result"
    }
   ],
   "source": [
    "#Arima Forecast\n",
    "\n",
    "arima_path = \"s3://\" + bucket_name + \"/Arima\"\n",
    "arima_job_name = \"mlimday_arima_algo_forecast\"\n",
    "forecast.create_forecast_export_job(ForecastExportJobName=arima_job_name,\n",
    "                                    ForecastArn=arima_forecast_arn,\n",
    "                                    Destination={\n",
    "                                        \"S3Config\": {\n",
    "                                            \"Path\": arima_path,\n",
    "                                            \"RoleArn\": role_arn\n",
    "                                        }\n",
    "                                    })"
   ]
  },
  {
   "cell_type": "code",
   "execution_count": 36,
   "metadata": {},
   "outputs": [
    {
     "data": {
      "text/plain": [
       "{'ForecastExportJobArn': 'arn:aws:forecast:us-east-1:059124553121:forecast-export-job/forecast_immersion_day_prophet_algo_forecast/mlimday_prophet_algo_forecast',\n",
       " 'ResponseMetadata': {'RequestId': 'be9d7de3-2493-4c1b-af3d-77feaf387c24',\n",
       "  'HTTPStatusCode': 200,\n",
       "  'HTTPHeaders': {'content-type': 'application/x-amz-json-1.1',\n",
       "   'date': 'Mon, 20 Apr 2020 20:38:02 GMT',\n",
       "   'x-amzn-requestid': 'be9d7de3-2493-4c1b-af3d-77feaf387c24',\n",
       "   'content-length': '161',\n",
       "   'connection': 'keep-alive'},\n",
       "  'RetryAttempts': 0}}"
      ]
     },
     "execution_count": 36,
     "metadata": {},
     "output_type": "execute_result"
    }
   ],
   "source": [
    "# Prophet Forecast\n",
    "\n",
    "prophet_path = \"s3://\" + bucket_name + \"/Prophet\"\n",
    "prophet_job_name = \"mlimday_prophet_algo_forecast\"\n",
    "forecast.create_forecast_export_job(ForecastExportJobName=prophet_job_name,\n",
    "                                    ForecastArn=prophet_forecast_arn,\n",
    "                                    Destination={\n",
    "                                        \"S3Config\": {\n",
    "                                            \"Path\": prophet_path,\n",
    "                                            \"RoleArn\": role_arn\n",
    "                                        }\n",
    "                                    })"
   ]
  },
  {
   "cell_type": "code",
   "execution_count": 34,
   "metadata": {},
   "outputs": [
    {
     "data": {
      "text/plain": [
       "{'ForecastExportJobArn': 'arn:aws:forecast:us-east-1:059124553121:forecast-export-job/forecast_immersion_day_deeparp_algo_forecast/mlimday_deep_ar_algo_forecast',\n",
       " 'ResponseMetadata': {'RequestId': '692b8e96-2c36-4cce-abb7-2b7026c25d83',\n",
       "  'HTTPStatusCode': 200,\n",
       "  'HTTPHeaders': {'content-type': 'application/x-amz-json-1.1',\n",
       "   'date': 'Mon, 20 Apr 2020 20:38:02 GMT',\n",
       "   'x-amzn-requestid': '692b8e96-2c36-4cce-abb7-2b7026c25d83',\n",
       "   'content-length': '161',\n",
       "   'connection': 'keep-alive'},\n",
       "  'RetryAttempts': 0}}"
      ]
     },
     "execution_count": 34,
     "metadata": {},
     "output_type": "execute_result"
    }
   ],
   "source": [
    "# DeepAR + Forecast\n",
    "\n",
    "deep_ar_path = \"s3://\" + bucket_name + \"/DeepAR\"\n",
    "deep_ar_job_name = \"mlimday_deep_ar_algo_forecast\"\n",
    "forecast.create_forecast_export_job(ForecastExportJobName=deep_ar_job_name,\n",
    "                                    ForecastArn=deeparp_forecast_arn,\n",
    "                                    Destination={\n",
    "                                        \"S3Config\": {\n",
    "                                            \"Path\": deep_ar_path,\n",
    "                                            \"RoleArn\": role_arn\n",
    "                                        }\n",
    "                                    })"
   ]
  },
  {
   "cell_type": "markdown",
   "metadata": {},
   "source": [
    "This exporting process is another one of those items that will take **5 minutes** to complete. Just poll for progress in the console. From the earlier page where you saw the status turn `Active` for a Forecast, click it and you can see the progress of the export."
   ]
  },
  {
   "cell_type": "markdown",
   "metadata": {},
   "source": [
    "### Obtaining the Forecasts\n",
    "\n",
    "At this point they are all exported into S3 but you need to obtain the results locally so we can explore them, the cells below will do that."
   ]
  },
  {
   "cell_type": "code",
   "execution_count": 37,
   "metadata": {},
   "outputs": [
    {
     "name": "stdout",
     "output_type": "stream",
     "text": [
      "mlimday_deep_ar_algo_forecast_2020-04-20T20-38-58Z_part0.csv\n",
      "mlimday_arima_algo_forecast_2020-04-20T20-48-31Z_part0.csv\n",
      "mlimday_prophet_algo_forecast_2020-04-20T20-49-36Z_part0.csv\n"
     ]
    }
   ],
   "source": [
    "# ARIMA File\n",
    "arima_filename = \"\"\n",
    "arima_files = list(s3_bucket.objects.filter(Prefix=\"Arima\"))\n",
    "for file in arima_files:\n",
    "    #There will be a collection of CSVs if the forecast is large, modify this to go get them all\n",
    "    if \"csv\" in file.key:\n",
    "        arima_filename = file.key.split('/')[1]\n",
    "        s3.Bucket(bucket_name).download_file(file.key, \"../data/\"+arima_filename)\n",
    "print(arima_filename)\n",
    "\n",
    "# Phrophet File\n",
    "prophet_filename = \"\"\n",
    "prophet_files = list(s3_bucket.objects.filter(Prefix=\"Prophet\"))\n",
    "for file in prophet_files:\n",
    "    #There will be a collection of CSVs if the forecast is large, modify this to go get them all\n",
    "    if \"csv\" in file.key:\n",
    "        prophet_filename = file.key.split('/')[1]\n",
    "        s3.Bucket(bucket_name).download_file(file.key, \"../data/\"+prophet_filename)\n",
    "print(prophet_filename)\n",
    "\n",
    "# DeepAR File\n",
    "s3 = boto3.resource('s3')\n",
    "s3_bucket = s3.Bucket(bucket_name)\n",
    "deep_ar_filename = \"\"\n",
    "deep_ar_files = list(s3_bucket.objects.filter(Prefix=\"DeepAR\"))\n",
    "for file in deep_ar_files:\n",
    "    #There will be a collection of CSVs if the forecast is large, modify this to go get them all\n",
    "    if \"csv\" in file.key:\n",
    "        deep_ar_filename = file.key.split('/')[1]\n",
    "        s3.Bucket(bucket_name).download_file(file.key, \"../data/\"+deep_ar_filename)\n",
    "print(deep_ar_filename)\n"
   ]
  },
  {
   "cell_type": "markdown",
   "metadata": {},
   "source": [
    "## Evaluating the Forecast\n",
    "\n",
    "Event before exporting the forecasts themselves we can see a few things in the logs above...\n",
    "\n",
    "Mainly, the RMSE for each model:\n",
    "\n",
    "1. ARIMA - RMSE: 20.900040194709177,\n",
    "1. Prophet - RMSE: 20.298012475873875\n",
    "1. DeepAR+ - RMSE: 8.336288046896607\n",
    "\n",
    "Those numbers are:\n",
    "\n",
    "1. ARIMA wQL[0.5]: 0.15327057905199545\n",
    "1. Prophet wQL[0.5]: 0.16823164160633303\n",
    "1. DeepAR+ wQL[0.5]: 0.05955031556311987\n",
    "\n",
    "\n",
    "This tells us that our DeepAR+ model is doing the best when evaluating the p50 result.\n",
    "\n",
    "The next stage would be to plot these numbers over a particular window.\n",
    "\n",
    "To make this particular process easier we are going to export them all as CSV's from the console then read them in later. An improvement would be to use the JSON API and convert to a DF that way.\n",
    "\n",
    "Note the files were downloaded and placed into the `../data/` folder for exploration."
   ]
  },
  {
   "cell_type": "code",
   "execution_count": 38,
   "metadata": {},
   "outputs": [
    {
     "data": {
      "text/html": [
       "<div>\n",
       "<style scoped>\n",
       "    .dataframe tbody tr th:only-of-type {\n",
       "        vertical-align: middle;\n",
       "    }\n",
       "\n",
       "    .dataframe tbody tr th {\n",
       "        vertical-align: top;\n",
       "    }\n",
       "\n",
       "    .dataframe thead th {\n",
       "        text-align: right;\n",
       "    }\n",
       "</style>\n",
       "<table border=\"1\" class=\"dataframe\">\n",
       "  <thead>\n",
       "    <tr style=\"text-align: right;\">\n",
       "      <th></th>\n",
       "      <th>item_id</th>\n",
       "      <th>date</th>\n",
       "      <th>p10</th>\n",
       "      <th>p50</th>\n",
       "      <th>p90</th>\n",
       "    </tr>\n",
       "  </thead>\n",
       "  <tbody>\n",
       "    <tr>\n",
       "      <th>39</th>\n",
       "      <td>client_12</td>\n",
       "      <td>2014-11-01T15:00:00Z</td>\n",
       "      <td>80.999865</td>\n",
       "      <td>125.346209</td>\n",
       "      <td>169.692554</td>\n",
       "    </tr>\n",
       "  </tbody>\n",
       "</table>\n",
       "</div>"
      ],
      "text/plain": [
       "      item_id                  date        p10         p50         p90\n",
       "39  client_12  2014-11-01T15:00:00Z  80.999865  125.346209  169.692554"
      ]
     },
     "execution_count": 38,
     "metadata": {},
     "output_type": "execute_result"
    }
   ],
   "source": [
    "# ARIMA Eval\n",
    "arima_predicts = pd.read_csv(\"../data/\" + arima_filename)\n",
    "arima_predicts.sample()"
   ]
  },
  {
   "cell_type": "code",
   "execution_count": 39,
   "metadata": {},
   "outputs": [
    {
     "data": {
      "text/plain": [
       "<matplotlib.axes._subplots.AxesSubplot at 0x7fc83fc68d30>"
      ]
     },
     "execution_count": 39,
     "metadata": {},
     "output_type": "execute_result"
    },
    {
     "data": {
      "image/png": "[encoded data removed]",
      "text/plain": [
       "<Figure size 432x288 with 1 Axes>"
      ]
     },
     "metadata": {},
     "output_type": "display_data"
    }
   ],
   "source": [
    "arima_predicts.plot()"
   ]
  },
  {
   "cell_type": "code",
   "execution_count": 40,
   "metadata": {},
   "outputs": [],
   "source": [
    "# Remove the timezone\n",
    "arima_predicts['date'] = pd.to_datetime(arima_predicts['date'])"
   ]
  },
  {
   "cell_type": "code",
   "execution_count": 41,
   "metadata": {},
   "outputs": [
    {
     "data": {
      "text/html": [
       "<div>\n",
       "<style scoped>\n",
       "    .dataframe tbody tr th:only-of-type {\n",
       "        vertical-align: middle;\n",
       "    }\n",
       "\n",
       "    .dataframe tbody tr th {\n",
       "        vertical-align: top;\n",
       "    }\n",
       "\n",
       "    .dataframe thead th {\n",
       "        text-align: right;\n",
       "    }\n",
       "</style>\n",
       "<table border=\"1\" class=\"dataframe\">\n",
       "  <thead>\n",
       "    <tr style=\"text-align: right;\">\n",
       "      <th></th>\n",
       "      <th>item_id</th>\n",
       "      <th>date</th>\n",
       "      <th>p10</th>\n",
       "      <th>p50</th>\n",
       "      <th>p90</th>\n",
       "    </tr>\n",
       "  </thead>\n",
       "  <tbody>\n",
       "    <tr>\n",
       "      <th>40</th>\n",
       "      <td>client_12</td>\n",
       "      <td>2014-11-01 16:00:00+00:00</td>\n",
       "      <td>87.486651</td>\n",
       "      <td>131.849198</td>\n",
       "      <td>176.211745</td>\n",
       "    </tr>\n",
       "  </tbody>\n",
       "</table>\n",
       "</div>"
      ],
      "text/plain": [
       "      item_id                      date        p10         p50         p90\n",
       "40  client_12 2014-11-01 16:00:00+00:00  87.486651  131.849198  176.211745"
      ]
     },
     "execution_count": 41,
     "metadata": {},
     "output_type": "execute_result"
    }
   ],
   "source": [
    "\n",
    "arima_predicts.sample()"
   ]
  },
  {
   "cell_type": "code",
   "execution_count": 42,
   "metadata": {},
   "outputs": [],
   "source": [
    "arima_predicts['date'] = arima_predicts['date'].dt.tz_convert(None)\n",
    "arima_predicts.set_index('date', inplace=True)"
   ]
  },
  {
   "cell_type": "code",
   "execution_count": 43,
   "metadata": {},
   "outputs": [
    {
     "data": {
      "text/plain": [
       "<matplotlib.axes._subplots.AxesSubplot at 0x7fc83f889320>"
      ]
     },
     "execution_count": 43,
     "metadata": {},
     "output_type": "execute_result"
    },
    {
     "data": {
      "image/png": "[encoded data removed]",
      "text/plain": [
       "<Figure size 432x288 with 1 Axes>"
      ]
     },
     "metadata": {},
     "output_type": "display_data"
    }
   ],
   "source": [
    "arima_predicts.plot()"
   ]
  },
  {
   "cell_type": "code",
   "execution_count": 44,
   "metadata": {},
   "outputs": [
    {
     "name": "stdout",
     "output_type": "stream",
     "text": [
      "2014-10-31 00:00:00\n",
      "2014-11-02 23:00:00\n"
     ]
    }
   ],
   "source": [
    "print (arima_predicts.index.min())\n",
    "print (arima_predicts.index.max())"
   ]
  },
  {
   "cell_type": "markdown",
   "metadata": {},
   "source": [
    "Here we can see our prediction goes from October 31st to November 2nd as expectged given our 72 hour interval forecast horizon. Also we can see the cyclical nature of the predictions over the entire timeframe. \n",
    "\n",
    "Now we are going to create a dataframe of the prediction values from this Forecast and the actual values.\n",
    "\n",
    "First let us remove the column ID of item before continuing."
   ]
  },
  {
   "cell_type": "code",
   "execution_count": 45,
   "metadata": {},
   "outputs": [
    {
     "data": {
      "text/plain": [
       "<matplotlib.axes._subplots.AxesSubplot at 0x7fc83f458780>"
      ]
     },
     "execution_count": 45,
     "metadata": {},
     "output_type": "execute_result"
    },
    {
     "data": {
      "image/png": "[encoded data removed]",
      "text/plain": [
       "<Figure size 432x288 with 1 Axes>"
      ]
     },
     "metadata": {},
     "output_type": "display_data"
    }
   ],
   "source": [
    "arima_predicts = arima_predicts[['p10', 'p50', 'p90']]\n",
    "arima_predicts.plot()"
   ]
  },
  {
   "cell_type": "code",
   "execution_count": 46,
   "metadata": {},
   "outputs": [
    {
     "name": "stdout",
     "output_type": "stream",
     "text": [
      "<class 'pandas.core.frame.DataFrame'>\n",
      "DatetimeIndex: 72 entries, 2014-10-31 00:00:00 to 2014-11-02 23:00:00\n",
      "Data columns (total 3 columns):\n",
      "p10    72 non-null float64\n",
      "p50    72 non-null float64\n",
      "p90    72 non-null float64\n",
      "dtypes: float64(3)\n",
      "memory usage: 2.2 KB\n"
     ]
    }
   ],
   "source": [
    "# Now strip the timezone information\n",
    "arima_predicts.info()"
   ]
  },
  {
   "cell_type": "code",
   "execution_count": 47,
   "metadata": {},
   "outputs": [
    {
     "data": {
      "text/html": [
       "<div>\n",
       "<style scoped>\n",
       "    .dataframe tbody tr th:only-of-type {\n",
       "        vertical-align: middle;\n",
       "    }\n",
       "\n",
       "    .dataframe tbody tr th {\n",
       "        vertical-align: top;\n",
       "    }\n",
       "\n",
       "    .dataframe thead th {\n",
       "        text-align: right;\n",
       "    }\n",
       "</style>\n",
       "<table border=\"1\" class=\"dataframe\">\n",
       "  <thead>\n",
       "    <tr style=\"text-align: right;\">\n",
       "      <th></th>\n",
       "      <th>timestamp</th>\n",
       "      <th>value</th>\n",
       "      <th>item</th>\n",
       "    </tr>\n",
       "  </thead>\n",
       "  <tbody>\n",
       "    <tr>\n",
       "      <th>715</th>\n",
       "      <td>2014-11-29 19:00:00</td>\n",
       "      <td>47.263682</td>\n",
       "      <td>client_12</td>\n",
       "    </tr>\n",
       "    <tr>\n",
       "      <th>716</th>\n",
       "      <td>2014-11-29 20:00:00</td>\n",
       "      <td>51.616915</td>\n",
       "      <td>client_12</td>\n",
       "    </tr>\n",
       "    <tr>\n",
       "      <th>717</th>\n",
       "      <td>2014-11-29 21:00:00</td>\n",
       "      <td>49.129353</td>\n",
       "      <td>client_12</td>\n",
       "    </tr>\n",
       "    <tr>\n",
       "      <th>718</th>\n",
       "      <td>2014-11-29 22:00:00</td>\n",
       "      <td>41.666667</td>\n",
       "      <td>client_12</td>\n",
       "    </tr>\n",
       "    <tr>\n",
       "      <th>719</th>\n",
       "      <td>2014-11-29 23:00:00</td>\n",
       "      <td>42.703151</td>\n",
       "      <td>client_12</td>\n",
       "    </tr>\n",
       "  </tbody>\n",
       "</table>\n",
       "</div>"
      ],
      "text/plain": [
       "               timestamp      value       item\n",
       "715  2014-11-29 19:00:00  47.263682  client_12\n",
       "716  2014-11-29 20:00:00  51.616915  client_12\n",
       "717  2014-11-29 21:00:00  49.129353  client_12\n",
       "718  2014-11-29 22:00:00  41.666667  client_12\n",
       "719  2014-11-29 23:00:00  42.703151  client_12"
      ]
     },
     "execution_count": 47,
     "metadata": {},
     "output_type": "execute_result"
    }
   ],
   "source": [
    "actual_df = pd.read_csv(\"../data/item-demand-time-validation.csv\", names=['timestamp','value','item'])\n",
    "actual_df.tail()"
   ]
  },
  {
   "cell_type": "code",
   "execution_count": 48,
   "metadata": {},
   "outputs": [],
   "source": [
    "actual_df = actual_df[(actual_df['timestamp'] >= '2014-10-31') & (actual_df['timestamp'] < '2014-11-03')]\n",
    "\n",
    "results_df = pd.DataFrame(columns=['timestamp', 'value', 'source'])\n",
    "for index, row in actual_df.iterrows():\n",
    "    clean_timestamp = dateutil.parser.parse(row['timestamp'])\n",
    "    results_df = results_df.append({'timestamp' : clean_timestamp , 'value' : row['value'], 'source': 'actual'} , ignore_index=True)\n",
    "                                   \n",
    "validation_df = results_df.pivot(columns='source', values='value', index=\"timestamp\")"
   ]
  },
  {
   "cell_type": "code",
   "execution_count": 49,
   "metadata": {},
   "outputs": [
    {
     "data": {
      "text/plain": [
       "<matplotlib.axes._subplots.AxesSubplot at 0x7fc83f43f8d0>"
      ]
     },
     "execution_count": 49,
     "metadata": {},
     "output_type": "execute_result"
    },
    {
     "data": {
      "image/png": "[encoded data removed]",
      "text/plain": [
       "<Figure size 432x288 with 1 Axes>"
      ]
     },
     "metadata": {},
     "output_type": "display_data"
    }
   ],
   "source": [
    "validation_df.plot()"
   ]
  },
  {
   "cell_type": "code",
   "execution_count": 50,
   "metadata": {},
   "outputs": [],
   "source": [
    "# Finally let us join the dataframes together\n",
    "arima_val_df = arima_predicts.join(validation_df, how='outer')"
   ]
  },
  {
   "cell_type": "code",
   "execution_count": 51,
   "metadata": {},
   "outputs": [
    {
     "data": {
      "text/plain": [
       "<matplotlib.axes._subplots.AxesSubplot at 0x7fc83f455048>"
      ]
     },
     "execution_count": 51,
     "metadata": {},
     "output_type": "execute_result"
    },
    {
     "data": {
      "image/png": "[encoded data removed]",
      "text/plain": [
       "<Figure size 432x288 with 1 Axes>"
      ]
     },
     "metadata": {},
     "output_type": "display_data"
    }
   ],
   "source": [
    "# Plot\n",
    "arima_val_df.plot()"
   ]
  },
  {
   "cell_type": "markdown",
   "metadata": {},
   "source": [
    "## Prophet Eval"
   ]
  },
  {
   "cell_type": "code",
   "execution_count": 52,
   "metadata": {},
   "outputs": [],
   "source": [
    "# Prophet Eval\n",
    "prophet_predicts = pd.read_csv(\"../data/\"+prophet_filename)\n",
    "prophet_predicts.sample()\n",
    "# Remove the timezone\n",
    "prophet_predicts['date'] = pd.to_datetime(prophet_predicts['date'])\n",
    "prophet_predicts['date'] = prophet_predicts['date'].dt.tz_convert(None)\n",
    "prophet_predicts.set_index('date', inplace=True)\n",
    "prophet_predicts = prophet_predicts[['p10', 'p50', 'p90']]\n",
    "# Finally let us join the dataframes together\n",
    "prophet_val_df = prophet_predicts.join(validation_df, how='outer')"
   ]
  },
  {
   "cell_type": "code",
   "execution_count": 53,
   "metadata": {},
   "outputs": [
    {
     "data": {
      "text/plain": [
       "<matplotlib.axes._subplots.AxesSubplot at 0x7fc83f2ffeb8>"
      ]
     },
     "execution_count": 53,
     "metadata": {},
     "output_type": "execute_result"
    },
    {
     "data": {
      "image/png": "[encoded data removed]",
      "text/plain": [
       "<Figure size 432x288 with 1 Axes>"
      ]
     },
     "metadata": {},
     "output_type": "display_data"
    }
   ],
   "source": [
    "# Plot\n",
    "prophet_val_df.plot()"
   ]
  },
  {
   "cell_type": "markdown",
   "metadata": {},
   "source": [
    "## DeepAR+ Eval"
   ]
  },
  {
   "cell_type": "code",
   "execution_count": 54,
   "metadata": {},
   "outputs": [],
   "source": [
    "# DeepAR+ Eval\n",
    "deeparp_predicts = pd.read_csv(\"../data/\"+deep_ar_filename)\n",
    "deeparp_predicts.sample()\n",
    "# Remove the timezone\n",
    "deeparp_predicts['date'] = pd.to_datetime(deeparp_predicts['date'])\n",
    "deeparp_predicts['date'] = deeparp_predicts['date'].dt.tz_convert(None)\n",
    "deeparp_predicts.set_index('date', inplace=True)\n",
    "deeparp_predicts = deeparp_predicts[['p10', 'p50', 'p90']]\n",
    "# Finally let us join the dataframes together\n",
    "deeparp_val_df = deeparp_predicts.join(validation_df, how='outer')"
   ]
  },
  {
   "cell_type": "code",
   "execution_count": 55,
   "metadata": {},
   "outputs": [
    {
     "data": {
      "text/plain": [
       "<matplotlib.axes._subplots.AxesSubplot at 0x7fc83f270dd8>"
      ]
     },
     "execution_count": 55,
     "metadata": {},
     "output_type": "execute_result"
    },
    {
     "data": {
      "image/png": "[encoded data removed]",
      "text/plain": [
       "<Figure size 432x288 with 1 Axes>"
      ]
     },
     "metadata": {},
     "output_type": "display_data"
    }
   ],
   "source": [
    "# Plot\n",
    "deeparp_val_df.plot()"
   ]
  },
  {
   "cell_type": "markdown",
   "metadata": {},
   "source": [
    "What is particularly interesting here is that we were below the actual numbers for a good portion of the day even with p90. We did see great performance from Prophet and the metrics indicate that DeepAR+ is objectively better here so now we will add related time series data to our project and see how the models behave then."
   ]
  },
  {
   "cell_type": "markdown",
   "metadata": {},
   "source": [
    "## Plotting it all together\n",
    "\n",
    "Lastly we will take a look at our p50 prediction from ARIMA, Prophet, and DeepAR+ where the latter leverage related time series data to see how close they are over our validation period.\n"
   ]
  },
  {
   "cell_type": "code",
   "execution_count": 56,
   "metadata": {},
   "outputs": [
    {
     "data": {
      "text/html": [
       "<div>\n",
       "<style scoped>\n",
       "    .dataframe tbody tr th:only-of-type {\n",
       "        vertical-align: middle;\n",
       "    }\n",
       "\n",
       "    .dataframe tbody tr th {\n",
       "        vertical-align: top;\n",
       "    }\n",
       "\n",
       "    .dataframe thead th {\n",
       "        text-align: right;\n",
       "    }\n",
       "</style>\n",
       "<table border=\"1\" class=\"dataframe\">\n",
       "  <thead>\n",
       "    <tr style=\"text-align: right;\">\n",
       "      <th></th>\n",
       "      <th>actual</th>\n",
       "      <th>ARIMA</th>\n",
       "      <th>PROPHET</th>\n",
       "      <th>DEEPARP</th>\n",
       "    </tr>\n",
       "    <tr>\n",
       "      <th>timestamp</th>\n",
       "      <th></th>\n",
       "      <th></th>\n",
       "      <th></th>\n",
       "      <th></th>\n",
       "    </tr>\n",
       "  </thead>\n",
       "  <tbody>\n",
       "    <tr>\n",
       "      <th>2014-10-31 00:00:00</th>\n",
       "      <td>62.396352</td>\n",
       "      <td>49.739680</td>\n",
       "      <td>68.694947</td>\n",
       "      <td>57.543697</td>\n",
       "    </tr>\n",
       "    <tr>\n",
       "      <th>2014-10-31 01:00:00</th>\n",
       "      <td>59.286899</td>\n",
       "      <td>50.541527</td>\n",
       "      <td>74.909936</td>\n",
       "      <td>56.000462</td>\n",
       "    </tr>\n",
       "    <tr>\n",
       "      <th>2014-10-31 02:00:00</th>\n",
       "      <td>49.129353</td>\n",
       "      <td>52.032893</td>\n",
       "      <td>72.633329</td>\n",
       "      <td>56.448261</td>\n",
       "    </tr>\n",
       "    <tr>\n",
       "      <th>2014-10-31 03:00:00</th>\n",
       "      <td>55.555556</td>\n",
       "      <td>50.317170</td>\n",
       "      <td>74.063811</td>\n",
       "      <td>51.267105</td>\n",
       "    </tr>\n",
       "    <tr>\n",
       "      <th>2014-10-31 04:00:00</th>\n",
       "      <td>50.580431</td>\n",
       "      <td>49.509119</td>\n",
       "      <td>71.178775</td>\n",
       "      <td>49.253185</td>\n",
       "    </tr>\n",
       "  </tbody>\n",
       "</table>\n",
       "</div>"
      ],
      "text/plain": [
       "                        actual      ARIMA    PROPHET    DEEPARP\n",
       "timestamp                                                      \n",
       "2014-10-31 00:00:00  62.396352  49.739680  68.694947  57.543697\n",
       "2014-10-31 01:00:00  59.286899  50.541527  74.909936  56.000462\n",
       "2014-10-31 02:00:00  49.129353  52.032893  72.633329  56.448261\n",
       "2014-10-31 03:00:00  55.555556  50.317170  74.063811  51.267105\n",
       "2014-10-31 04:00:00  50.580431  49.509119  71.178775  49.253185"
      ]
     },
     "execution_count": 56,
     "metadata": {},
     "output_type": "execute_result"
    }
   ],
   "source": [
    "# Creating a final df\n",
    "validation_df_final = validation_df.copy()\n",
    "validation_df_final = validation_df_final[['actual']]\n",
    "# ARIMA P50\n",
    "arima_p50 = arima_predicts.copy()\n",
    "arima_p50 = arima_p50[['p50']]\n",
    "arima_p50.rename(columns = {'p50':'ARIMA'}, inplace = True)\n",
    "# Prophet P50:\n",
    "prophet_val_p50 = prophet_predicts.copy()\n",
    "prophet_val_p50 = prophet_val_p50[['p50']]\n",
    "prophet_val_p50.rename(columns = {'p50':'PROPHET'}, inplace = True)\n",
    "# DeepAR+ P50:\n",
    "deeparp_val_p50 = deeparp_predicts.copy()\n",
    "deeparp_val_p50 = deeparp_val_p50[['p50']]\n",
    "deeparp_val_p50.rename(columns = {'p50':'DEEPARP'}, inplace = True)\n",
    "# Join DFs\n",
    "validation_df_final = validation_df_final.join(arima_p50, how='outer')\n",
    "validation_df_final = validation_df_final.join(prophet_val_p50, how='outer')\n",
    "validation_df_final = validation_df_final.join(deeparp_val_p50, how='outer')\n",
    "validation_df_final.head()\n"
   ]
  },
  {
   "cell_type": "code",
   "execution_count": 57,
   "metadata": {},
   "outputs": [
    {
     "data": {
      "text/plain": [
       "<matplotlib.axes._subplots.AxesSubplot at 0x7fc83f220a58>"
      ]
     },
     "execution_count": 57,
     "metadata": {},
     "output_type": "execute_result"
    },
    {
     "data": {
      "image/png": "[encoded data removed]",
      "text/plain": [
       "<Figure size 432x288 with 1 Axes>"
      ]
     },
     "metadata": {},
     "output_type": "display_data"
    }
   ],
   "source": [
    "validation_df_final.plot()"
   ]
  },
  {
   "cell_type": "code",
   "execution_count": 58,
   "metadata": {},
   "outputs": [
    {
     "data": {
      "text/plain": [
       "{'ResponseMetadata': {'RequestId': 'EE91FA10FFCF3986',\n",
       "  'HostId': 'hdhJpyyirS9CSZoYkHVb43q5Nq1Nxfho3opV0CBtyQifsb2f4faE4nrFcAVAddhlsyivMGVrfQ8=',\n",
       "  'HTTPStatusCode': 204,\n",
       "  'HTTPHeaders': {'x-amz-id-2': 'hdhJpyyirS9CSZoYkHVb43q5Nq1Nxfho3opV0CBtyQifsb2f4faE4nrFcAVAddhlsyivMGVrfQ8=',\n",
       "   'x-amz-request-id': 'EE91FA10FFCF3986',\n",
       "   'date': 'Mon, 20 Apr 2020 20:56:09 GMT',\n",
       "   'server': 'AmazonS3'},\n",
       "  'RetryAttempts': 0}}"
      ]
     },
     "execution_count": 58,
     "metadata": {},
     "output_type": "execute_result"
    }
   ],
   "source": [
    "boto3.Session().resource('s3').Bucket(bucket_name).Object(\"DeepAR/mlimday_deep_ar_algo_forecast_2020-04-16T18-12-03Z_part0.csv\").delete()"
   ]
  },
  {
   "cell_type": "code",
   "execution_count": 61,
   "metadata": {},
   "outputs": [
    {
     "name": "stdout",
     "output_type": "stream",
     "text": [
      "Stored 'datasetGroupArn' (str)\n",
      "Stored 'target_datasetArn' (str)\n",
      "Stored 'role_name' (str)\n",
      "Stored 'bucket_name' (str)\n",
      "Stored 'region' (str)\n",
      "Stored 'ds_import_job_arn' (str)\n",
      "Stored 'prophet_forecast_arn' (str)\n",
      "Stored 'arima_forecast_arn' (str)\n",
      "Stored 'deeparp_forecast_arn' (str)\n",
      "Stored 'arima_arn' (str)\n",
      "Stored 'prophet_arn' (str)\n",
      "Stored 'deeparp_arn' (str)\n",
      "Stored 'deep_ar_filename' (str)\n",
      "Stored 'arima_filename' (str)\n",
      "Stored 'prophet_filename' (str)\n",
      "Stored 'target_datasetArn' (str)\n"
     ]
    }
   ],
   "source": [
    "%store datasetGroupArn\n",
    "%store target_datasetArn\n",
    "%store role_name\n",
    "%store bucket_name\n",
    "%store region\n",
    "%store ds_import_job_arn\n",
    "%store prophet_forecast_arn\n",
    "%store arima_forecast_arn\n",
    "%store deeparp_forecast_arn\n",
    "%store arima_arn\n",
    "%store prophet_arn\n",
    "%store deeparp_arn\n",
    "%store deep_ar_filename\n",
    "%store arima_filename\n",
    "%store prophet_filename\n",
    "%store target_datasetArn\n",
    "\n",
    "\n"
   ]
  },
  {
   "cell_type": "code",
   "execution_count": null,
   "metadata": {},
   "outputs": [],
   "source": []
  }
 ],
 "metadata": {
  "kernelspec": {
   "display_name": "conda_python3",
   "language": "python",
   "name": "conda_python3"
  },
  "language_info": {
   "codemirror_mode": {
    "name": "ipython",
    "version": 3
   },
   "file_extension": ".py",
   "mimetype": "text/x-python",
   "name": "python",
   "nbconvert_exporter": "python",
   "pygments_lexer": "ipython3",
   "version": "3.6.5"
  }
 },
 "nbformat": 4,
 "nbformat_minor": 4
}
